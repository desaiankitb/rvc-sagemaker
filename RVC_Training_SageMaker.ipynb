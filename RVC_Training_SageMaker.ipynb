{
 "cells": [
  {
   "cell_type": "code",
   "execution_count": 2,
   "metadata": {
    "id": "KTUIsJldFm5m",
    "tags": []
   },
   "outputs": [],
   "source": [
    "#@title Input Form\n",
    "mode = \"training\" #@param [\"inference\", \"training\"]\n",
    "#@markdown fill modelname if training/resume training\n",
    "MODELNAME = \"joshua_winograd\"  #@param {type:\"string\"}"
   ]
  },
  {
   "cell_type": "code",
   "execution_count": 3,
   "metadata": {
    "id": "jwu07JgqoFON",
    "tags": []
   },
   "outputs": [],
   "source": [
    "#@title Mount Drive\n",
    "\n",
    "# from google.colab import drive\n",
    "# drive.mount('/content/drive')"
   ]
  },
  {
   "cell_type": "code",
   "execution_count": 4,
   "metadata": {
    "id": "wjddIFr1oS3W",
    "tags": []
   },
   "outputs": [
    {
     "name": "stdout",
     "output_type": "stream",
     "text": [
      "Reading package lists... Done\n",
      "Building dependency tree... Done\n",
      "Reading state information... Done\n",
      "build-essential is already the newest version (12.9).\n",
      "python3-dev is already the newest version (3.9.2-3).\n",
      "ffmpeg is already the newest version (7:4.3.6-0+deb11u1).\n",
      "0 upgraded, 0 newly installed, 0 to remove and 29 not upgraded.\n",
      "Requirement already satisfied: setuptools in /opt/conda/lib/python3.10/site-packages (68.1.2)\n",
      "Requirement already satisfied: wheel in /opt/conda/lib/python3.10/site-packages (0.41.2)\n",
      "\u001b[33mDEPRECATION: omegaconf 2.0.6 has a non-standard dependency specifier PyYAML>=5.1.*. pip 23.3 will enforce this behaviour change. A possible replacement is to upgrade to a newer version of omegaconf or contact the author to suggest that they release a version with a conforming dependency specifiers. Discussion can be found at https://github.com/pypa/pip/issues/12063\u001b[0m\u001b[33m\n",
      "\u001b[0m\u001b[33mWARNING: Running pip as the 'root' user can result in broken permissions and conflicting behaviour with the system package manager. It is recommended to use a virtual environment instead: https://pip.pypa.io/warnings/venv\u001b[0m\u001b[33m\n",
      "\u001b[0mRequirement already satisfied: pip in /opt/conda/lib/python3.10/site-packages (23.2.1)\n",
      "\u001b[33mDEPRECATION: omegaconf 2.0.6 has a non-standard dependency specifier PyYAML>=5.1.*. pip 23.3 will enforce this behaviour change. A possible replacement is to upgrade to a newer version of omegaconf or contact the author to suggest that they release a version with a conforming dependency specifiers. Discussion can be found at https://github.com/pypa/pip/issues/12063\u001b[0m\u001b[33m\n",
      "\u001b[0m\u001b[33mWARNING: Running pip as the 'root' user can result in broken permissions and conflicting behaviour with the system package manager. It is recommended to use a virtual environment instead: https://pip.pypa.io/warnings/venv\u001b[0m\u001b[33m\n",
      "\u001b[0mRequirement already satisfied: faiss-cpu==1.7.2 in /opt/conda/lib/python3.10/site-packages (1.7.2)\n",
      "Requirement already satisfied: fairseq in /opt/conda/lib/python3.10/site-packages (0.12.2)\n",
      "Requirement already satisfied: gradio==3.14.0 in /opt/conda/lib/python3.10/site-packages (3.14.0)\n",
      "Requirement already satisfied: ffmpeg-python in /opt/conda/lib/python3.10/site-packages (0.2.0)\n",
      "Requirement already satisfied: praat-parselmouth in /opt/conda/lib/python3.10/site-packages (0.4.3)\n",
      "Requirement already satisfied: pyworld in /opt/conda/lib/python3.10/site-packages (0.3.2)\n",
      "Requirement already satisfied: numpy==1.23.5 in /opt/conda/lib/python3.10/site-packages (1.23.5)\n",
      "Requirement already satisfied: numba==0.56.4 in /opt/conda/lib/python3.10/site-packages (0.56.4)\n",
      "Requirement already satisfied: librosa==0.9.2 in /opt/conda/lib/python3.10/site-packages (0.9.2)\n",
      "Requirement already satisfied: aiohttp in /opt/conda/lib/python3.10/site-packages (from gradio==3.14.0) (3.8.5)\n",
      "Requirement already satisfied: altair in /opt/conda/lib/python3.10/site-packages (from gradio==3.14.0) (5.1.1)\n",
      "Requirement already satisfied: fastapi in /opt/conda/lib/python3.10/site-packages (from gradio==3.14.0) (0.103.1)\n",
      "Requirement already satisfied: ffmpy in /opt/conda/lib/python3.10/site-packages (from gradio==3.14.0) (0.3.1)\n",
      "Requirement already satisfied: fsspec in /opt/conda/lib/python3.10/site-packages (from gradio==3.14.0) (2022.7.1)\n",
      "Requirement already satisfied: httpx in /opt/conda/lib/python3.10/site-packages (from gradio==3.14.0) (0.24.1)\n",
      "Requirement already satisfied: jinja2 in /opt/conda/lib/python3.10/site-packages (from gradio==3.14.0) (3.1.2)\n",
      "Requirement already satisfied: markdown-it-py[linkify,plugins] in /opt/conda/lib/python3.10/site-packages (from gradio==3.14.0) (3.0.0)\n",
      "Requirement already satisfied: markupsafe in /opt/conda/lib/python3.10/site-packages (from gradio==3.14.0) (2.1.3)\n",
      "Requirement already satisfied: matplotlib in /opt/conda/lib/python3.10/site-packages (from gradio==3.14.0) (3.5.2)\n",
      "Requirement already satisfied: orjson in /opt/conda/lib/python3.10/site-packages (from gradio==3.14.0) (3.9.5)\n",
      "Requirement already satisfied: pandas in /opt/conda/lib/python3.10/site-packages (from gradio==3.14.0) (1.4.4)\n",
      "Requirement already satisfied: pillow in /opt/conda/lib/python3.10/site-packages (from gradio==3.14.0) (10.0.0)\n",
      "Requirement already satisfied: pycryptodome in /opt/conda/lib/python3.10/site-packages (from gradio==3.14.0) (3.18.0)\n",
      "Requirement already satisfied: pydantic in /opt/conda/lib/python3.10/site-packages (from gradio==3.14.0) (2.3.0)\n",
      "Requirement already satisfied: pydub in /opt/conda/lib/python3.10/site-packages (from gradio==3.14.0) (0.25.1)\n",
      "Requirement already satisfied: python-multipart in /opt/conda/lib/python3.10/site-packages (from gradio==3.14.0) (0.0.6)\n",
      "Requirement already satisfied: pyyaml in /opt/conda/lib/python3.10/site-packages/PyYAML-6.0-py3.10-linux-x86_64.egg (from gradio==3.14.0) (6.0)\n",
      "Requirement already satisfied: requests in /opt/conda/lib/python3.10/site-packages (from gradio==3.14.0) (2.31.0)\n",
      "Requirement already satisfied: uvicorn in /opt/conda/lib/python3.10/site-packages (from gradio==3.14.0) (0.23.2)\n",
      "Requirement already satisfied: websockets>=10.0 in /opt/conda/lib/python3.10/site-packages (from gradio==3.14.0) (11.0.3)\n",
      "Requirement already satisfied: llvmlite<0.40,>=0.39.0dev0 in /opt/conda/lib/python3.10/site-packages (from numba==0.56.4) (0.39.1)\n",
      "Requirement already satisfied: setuptools in /opt/conda/lib/python3.10/site-packages (from numba==0.56.4) (68.1.2)\n",
      "Requirement already satisfied: audioread>=2.1.9 in /opt/conda/lib/python3.10/site-packages (from librosa==0.9.2) (3.0.0)\n",
      "Requirement already satisfied: scipy>=1.2.0 in /opt/conda/lib/python3.10/site-packages (from librosa==0.9.2) (1.9.1)\n",
      "Requirement already satisfied: scikit-learn>=0.19.1 in /opt/conda/lib/python3.10/site-packages (from librosa==0.9.2) (1.0.1)\n",
      "Requirement already satisfied: joblib>=0.14 in /opt/conda/lib/python3.10/site-packages (from librosa==0.9.2) (1.3.1)\n",
      "Requirement already satisfied: decorator>=4.0.10 in /opt/conda/lib/python3.10/site-packages (from librosa==0.9.2) (5.1.1)\n",
      "Requirement already satisfied: resampy>=0.2.2 in /opt/conda/lib/python3.10/site-packages (from librosa==0.9.2) (0.4.2)\n",
      "Requirement already satisfied: soundfile>=0.10.2 in /opt/conda/lib/python3.10/site-packages (from librosa==0.9.2) (0.12.1)\n",
      "Requirement already satisfied: pooch>=1.0 in /opt/conda/lib/python3.10/site-packages (from librosa==0.9.2) (1.7.0)\n",
      "Requirement already satisfied: packaging>=20.0 in /opt/conda/lib/python3.10/site-packages (from librosa==0.9.2) (21.3)\n",
      "Requirement already satisfied: cffi in /opt/conda/lib/python3.10/site-packages (from fairseq) (1.15.1)\n",
      "Requirement already satisfied: cython in /opt/conda/lib/python3.10/site-packages (from fairseq) (0.29.32)\n",
      "Requirement already satisfied: hydra-core<1.1,>=1.0.7 in /opt/conda/lib/python3.10/site-packages (from fairseq) (1.0.7)\n",
      "Requirement already satisfied: omegaconf<2.1 in /opt/conda/lib/python3.10/site-packages (from fairseq) (2.0.6)\n",
      "Requirement already satisfied: regex in /opt/conda/lib/python3.10/site-packages (from fairseq) (2022.7.9)\n",
      "Requirement already satisfied: sacrebleu>=1.4.12 in /opt/conda/lib/python3.10/site-packages (from fairseq) (2.3.1)\n",
      "Requirement already satisfied: torch in /opt/conda/lib/python3.10/site-packages (from fairseq) (2.0.1)\n",
      "Requirement already satisfied: tqdm in /opt/conda/lib/python3.10/site-packages (from fairseq) (4.64.1)\n",
      "Requirement already satisfied: bitarray in /opt/conda/lib/python3.10/site-packages (from fairseq) (2.5.1)\n",
      "Requirement already satisfied: torchaudio>=0.8.0 in /opt/conda/lib/python3.10/site-packages (from fairseq) (2.0.2)\n",
      "Requirement already satisfied: future in /opt/conda/lib/python3.10/site-packages (from ffmpeg-python) (0.18.3)\n",
      "Requirement already satisfied: antlr4-python3-runtime==4.8 in /opt/conda/lib/python3.10/site-packages (from hydra-core<1.1,>=1.0.7->fairseq) (4.8)\n",
      "Requirement already satisfied: typing-extensions in /opt/conda/lib/python3.10/site-packages (from omegaconf<2.1->fairseq) (4.7.1)\n",
      "Requirement already satisfied: pyparsing!=3.0.5,>=2.0.2 in /opt/conda/lib/python3.10/site-packages (from packaging>=20.0->librosa==0.9.2) (3.0.9)\n",
      "Requirement already satisfied: platformdirs>=2.5.0 in /opt/conda/lib/python3.10/site-packages (from pooch>=1.0->librosa==0.9.2) (2.5.2)\n",
      "Requirement already satisfied: charset-normalizer<4,>=2 in /opt/conda/lib/python3.10/site-packages (from requests->gradio==3.14.0) (2.0.4)\n",
      "Requirement already satisfied: idna<4,>=2.5 in /opt/conda/lib/python3.10/site-packages (from requests->gradio==3.14.0) (3.3)\n",
      "Requirement already satisfied: urllib3<3,>=1.21.1 in /opt/conda/lib/python3.10/site-packages (from requests->gradio==3.14.0) (2.0.4)\n",
      "Requirement already satisfied: certifi>=2017.4.17 in /opt/conda/lib/python3.10/site-packages (from requests->gradio==3.14.0) (2023.7.22)\n",
      "Requirement already satisfied: portalocker in /opt/conda/lib/python3.10/site-packages (from sacrebleu>=1.4.12->fairseq) (2.7.0)\n",
      "Requirement already satisfied: tabulate>=0.8.9 in /opt/conda/lib/python3.10/site-packages (from sacrebleu>=1.4.12->fairseq) (0.8.10)\n",
      "Requirement already satisfied: colorama in /opt/conda/lib/python3.10/site-packages (from sacrebleu>=1.4.12->fairseq) (0.4.4)\n",
      "Requirement already satisfied: lxml in /opt/conda/lib/python3.10/site-packages (from sacrebleu>=1.4.12->fairseq) (4.9.3)\n",
      "Requirement already satisfied: threadpoolctl>=2.0.0 in /opt/conda/lib/python3.10/site-packages (from scikit-learn>=0.19.1->librosa==0.9.2) (2.2.0)\n",
      "Requirement already satisfied: pycparser in /opt/conda/lib/python3.10/site-packages (from cffi->fairseq) (2.21)\n",
      "Requirement already satisfied: filelock in /opt/conda/lib/python3.10/site-packages (from torch->fairseq) (3.6.0)\n",
      "Requirement already satisfied: sympy in /opt/conda/lib/python3.10/site-packages (from torch->fairseq) (1.10.1)\n",
      "Requirement already satisfied: networkx in /opt/conda/lib/python3.10/site-packages (from torch->fairseq) (2.8.4)\n",
      "Requirement already satisfied: nvidia-cuda-nvrtc-cu11==11.7.99 in /opt/conda/lib/python3.10/site-packages (from torch->fairseq) (11.7.99)\n",
      "Requirement already satisfied: nvidia-cuda-runtime-cu11==11.7.99 in /opt/conda/lib/python3.10/site-packages (from torch->fairseq) (11.7.99)\n",
      "Requirement already satisfied: nvidia-cuda-cupti-cu11==11.7.101 in /opt/conda/lib/python3.10/site-packages (from torch->fairseq) (11.7.101)\n",
      "Requirement already satisfied: nvidia-cudnn-cu11==8.5.0.96 in /opt/conda/lib/python3.10/site-packages (from torch->fairseq) (8.5.0.96)\n",
      "Requirement already satisfied: nvidia-cublas-cu11==11.10.3.66 in /opt/conda/lib/python3.10/site-packages (from torch->fairseq) (11.10.3.66)\n",
      "Requirement already satisfied: nvidia-cufft-cu11==10.9.0.58 in /opt/conda/lib/python3.10/site-packages (from torch->fairseq) (10.9.0.58)\n",
      "Requirement already satisfied: nvidia-curand-cu11==10.2.10.91 in /opt/conda/lib/python3.10/site-packages (from torch->fairseq) (10.2.10.91)\n",
      "Requirement already satisfied: nvidia-cusolver-cu11==11.4.0.1 in /opt/conda/lib/python3.10/site-packages (from torch->fairseq) (11.4.0.1)\n",
      "Requirement already satisfied: nvidia-cusparse-cu11==11.7.4.91 in /opt/conda/lib/python3.10/site-packages (from torch->fairseq) (11.7.4.91)\n",
      "Requirement already satisfied: nvidia-nccl-cu11==2.14.3 in /opt/conda/lib/python3.10/site-packages (from torch->fairseq) (2.14.3)\n",
      "Requirement already satisfied: nvidia-nvtx-cu11==11.7.91 in /opt/conda/lib/python3.10/site-packages (from torch->fairseq) (11.7.91)\n",
      "Requirement already satisfied: triton==2.0.0 in /opt/conda/lib/python3.10/site-packages (from torch->fairseq) (2.0.0)\n",
      "Requirement already satisfied: wheel in /opt/conda/lib/python3.10/site-packages (from nvidia-cublas-cu11==11.10.3.66->torch->fairseq) (0.41.2)\n",
      "Requirement already satisfied: cmake in /opt/conda/lib/python3.10/site-packages (from triton==2.0.0->torch->fairseq) (3.27.2)\n",
      "Requirement already satisfied: lit in /opt/conda/lib/python3.10/site-packages (from triton==2.0.0->torch->fairseq) (16.0.6)\n",
      "Requirement already satisfied: attrs>=17.3.0 in /opt/conda/lib/python3.10/site-packages (from aiohttp->gradio==3.14.0) (23.1.0)\n",
      "Requirement already satisfied: multidict<7.0,>=4.5 in /opt/conda/lib/python3.10/site-packages (from aiohttp->gradio==3.14.0) (6.0.4)\n",
      "Requirement already satisfied: async-timeout<5.0,>=4.0.0a3 in /opt/conda/lib/python3.10/site-packages (from aiohttp->gradio==3.14.0) (4.0.3)\n",
      "Requirement already satisfied: yarl<2.0,>=1.0 in /opt/conda/lib/python3.10/site-packages (from aiohttp->gradio==3.14.0) (1.9.2)\n",
      "Requirement already satisfied: frozenlist>=1.1.1 in /opt/conda/lib/python3.10/site-packages (from aiohttp->gradio==3.14.0) (1.4.0)\n",
      "Requirement already satisfied: aiosignal>=1.1.2 in /opt/conda/lib/python3.10/site-packages (from aiohttp->gradio==3.14.0) (1.3.1)\n",
      "Requirement already satisfied: jsonschema>=3.0 in /opt/conda/lib/python3.10/site-packages (from altair->gradio==3.14.0) (4.16.0)\n",
      "Requirement already satisfied: toolz in /opt/conda/lib/python3.10/site-packages (from altair->gradio==3.14.0) (0.11.2)\n",
      "Requirement already satisfied: python-dateutil>=2.8.1 in /opt/conda/lib/python3.10/site-packages (from pandas->gradio==3.14.0) (2.8.2)\n",
      "Requirement already satisfied: pytz>=2020.1 in /opt/conda/lib/python3.10/site-packages (from pandas->gradio==3.14.0) (2022.1)\n",
      "Requirement already satisfied: anyio<4.0.0,>=3.7.1 in /opt/conda/lib/python3.10/site-packages (from fastapi->gradio==3.14.0) (3.7.1)\n",
      "Requirement already satisfied: starlette<0.28.0,>=0.27.0 in /opt/conda/lib/python3.10/site-packages (from fastapi->gradio==3.14.0) (0.27.0)\n",
      "Requirement already satisfied: annotated-types>=0.4.0 in /opt/conda/lib/python3.10/site-packages (from pydantic->gradio==3.14.0) (0.5.0)\n",
      "Requirement already satisfied: pydantic-core==2.6.3 in /opt/conda/lib/python3.10/site-packages (from pydantic->gradio==3.14.0) (2.6.3)\n",
      "Requirement already satisfied: httpcore<0.18.0,>=0.15.0 in /opt/conda/lib/python3.10/site-packages (from httpx->gradio==3.14.0) (0.17.3)\n",
      "Requirement already satisfied: sniffio in /opt/conda/lib/python3.10/site-packages (from httpx->gradio==3.14.0) (1.2.0)\n",
      "Requirement already satisfied: mdurl~=0.1 in /opt/conda/lib/python3.10/site-packages (from markdown-it-py[linkify,plugins]->gradio==3.14.0) (0.1.2)\n",
      "Requirement already satisfied: mdit-py-plugins in /opt/conda/lib/python3.10/site-packages (from markdown-it-py[linkify,plugins]->gradio==3.14.0) (0.4.0)\n",
      "Requirement already satisfied: linkify-it-py<3,>=1 in /opt/conda/lib/python3.10/site-packages (from markdown-it-py[linkify,plugins]->gradio==3.14.0) (2.0.2)\n",
      "Requirement already satisfied: cycler>=0.10 in /opt/conda/lib/python3.10/site-packages (from matplotlib->gradio==3.14.0) (0.11.0)\n",
      "Requirement already satisfied: fonttools>=4.22.0 in /opt/conda/lib/python3.10/site-packages (from matplotlib->gradio==3.14.0) (4.25.0)\n",
      "Requirement already satisfied: kiwisolver>=1.0.1 in /opt/conda/lib/python3.10/site-packages (from matplotlib->gradio==3.14.0) (1.4.2)\n",
      "Requirement already satisfied: click>=7.0 in /opt/conda/lib/python3.10/site-packages (from uvicorn->gradio==3.14.0) (8.1.6)\n",
      "Requirement already satisfied: h11>=0.8 in /opt/conda/lib/python3.10/site-packages (from uvicorn->gradio==3.14.0) (0.14.0)\n",
      "Requirement already satisfied: exceptiongroup in /opt/conda/lib/python3.10/site-packages (from anyio<4.0.0,>=3.7.1->fastapi->gradio==3.14.0) (1.1.2)\n",
      "Requirement already satisfied: pyrsistent!=0.17.0,!=0.17.1,!=0.17.2,>=0.14.0 in /opt/conda/lib/python3.10/site-packages (from jsonschema>=3.0->altair->gradio==3.14.0) (0.18.0)\n",
      "Requirement already satisfied: uc-micro-py in /opt/conda/lib/python3.10/site-packages (from linkify-it-py<3,>=1->markdown-it-py[linkify,plugins]->gradio==3.14.0) (1.0.2)\n",
      "Requirement already satisfied: six>=1.5 in /opt/conda/lib/python3.10/site-packages (from python-dateutil>=2.8.1->pandas->gradio==3.14.0) (1.16.0)\n",
      "Requirement already satisfied: mpmath>=0.19 in /opt/conda/lib/python3.10/site-packages (from sympy->torch->fairseq) (1.3.0)\n",
      "\u001b[33mDEPRECATION: omegaconf 2.0.6 has a non-standard dependency specifier PyYAML>=5.1.*. pip 23.3 will enforce this behaviour change. A possible replacement is to upgrade to a newer version of omegaconf or contact the author to suggest that they release a version with a conforming dependency specifiers. Discussion can be found at https://github.com/pypa/pip/issues/12063\u001b[0m\u001b[33m\n",
      "\u001b[0m\u001b[33mWARNING: Running pip as the 'root' user can result in broken permissions and conflicting behaviour with the system package manager. It is recommended to use a virtual environment instead: https://pip.pypa.io/warnings/venv\u001b[0m\u001b[33m\n",
      "\u001b[0m"
     ]
    }
   ],
   "source": [
    "#@title Install Depedencies\n",
    "!apt-get -y install build-essential python3-dev ffmpeg\n",
    "!pip3 install --upgrade setuptools wheel\n",
    "!pip3 install --upgrade pip\n",
    "!pip3 install faiss-cpu==1.7.2 fairseq gradio==3.14.0 ffmpeg-python praat-parselmouth pyworld numpy==1.23.5 numba==0.56.4 librosa==0.9.2"
   ]
  },
  {
   "cell_type": "code",
   "execution_count": 5,
   "metadata": {
    "tags": []
   },
   "outputs": [
    {
     "name": "stdout",
     "output_type": "stream",
     "text": [
      "/root/Ankit/train_voices\n"
     ]
    }
   ],
   "source": [
    "!pwd"
   ]
  },
  {
   "cell_type": "code",
   "execution_count": 6,
   "metadata": {
    "id": "ge_97mfpgqTm",
    "tags": []
   },
   "outputs": [
    {
     "name": "stdout",
     "output_type": "stream",
     "text": [
      "fatal: destination path 'Retrieval-based-Voice-Conversion-WebUI' already exists and is not an empty directory.\n",
      "/root/Ankit/train_voices/Retrieval-based-Voice-Conversion-WebUI\n"
     ]
    }
   ],
   "source": [
    "#@title Cloning Github\n",
    "\n",
    "!git clone --depth=1 -b stable https://github.com/fumiama/Retrieval-based-Voice-Conversion-WebUI\n",
    "# !cp -r /content/drive/MyDrive/RVC/weights/* /content/Retrieval-based-Voice-Conversion-WebUI/weights\n",
    "!mkdir -p /root/Ankit/train_voices/Retrieval-based-Voice-Conversion-WebUI/logs/{MODELNAME}\n",
    "# !cp -r /content/drive/MyDrive/RVC/{MODELNAME}/* /content/Retrieval-based-Voice-Conversion-WebUI/logs/{MODELNAME}\n",
    "%cd /root/Ankit/train_voices/Retrieval-based-Voice-Conversion-WebUI\n",
    "!mkdir -p pretrained uvr5_weights"
   ]
  },
  {
   "cell_type": "code",
   "execution_count": 7,
   "metadata": {
    "tags": []
   },
   "outputs": [
    {
     "name": "stdout",
     "output_type": "stream",
     "text": [
      "/bin/bash: line 1: add-apt-repository: command not found\n",
      "yes: standard output: Broken pipe\n",
      "Hit:1 http://deb.debian.org/debian bullseye InRelease\n",
      "Hit:2 http://deb.debian.org/debian bullseye-updates InRelease\n",
      "Hit:3 http://security.debian.org/debian-security bullseye-security InRelease\n",
      "Reading package lists... Done\n",
      "yes: standard output: Broken pipe\n",
      "Reading package lists... Done\n",
      "Building dependency tree... Done\n",
      "Reading state information... Done\n",
      "aria2 is already the newest version (1.35.0-3).\n",
      "0 upgraded, 0 newly installed, 0 to remove and 29 not upgraded.\n",
      "yes: standard output: Broken pipe\n"
     ]
    }
   ],
   "source": [
    "! yes | add-apt-repository ppa:savoury1/backports\n",
    "! yes | apt-get update\n",
    "! yes | apt-get install aria2 --only-upgrade"
   ]
  },
  {
   "cell_type": "code",
   "execution_count": 8,
   "metadata": {
    "id": "pqE0PrnuRqI2",
    "tags": []
   },
   "outputs": [
    {
     "name": "stdout",
     "output_type": "stream",
     "text": [
      "aria2 is already the newest version (1.35.0-3).\n",
      "0 upgraded, 0 newly installed, 0 to remove and 29 not upgraded.\n"
     ]
    }
   ],
   "source": [
    "#@title Install aria2\n",
    "!apt -y install -qq aria2"
   ]
  },
  {
   "cell_type": "code",
   "execution_count": 9,
   "metadata": {
    "id": "UG3XpUwEomUz",
    "tags": []
   },
   "outputs": [
    {
     "name": "stdout",
     "output_type": "stream",
     "text": [
      "\n",
      "Download Results:\n",
      "gid   |stat|avg speed  |path/URI\n",
      "======+====+===========+=======================================================\n",
      "ca94d9|\u001b[1;32mOK\u001b[0m  |       0B/s|/root/Ankit/train_voices/Retrieval-based-Voice-Conversion-WebUI/pretrained/D32k.pth\n",
      "\n",
      "Status Legend:\n",
      "(OK):download completed.\n",
      "\n",
      "Download Results:\n",
      "gid   |stat|avg speed  |path/URI\n",
      "======+====+===========+=======================================================\n",
      "051ada|\u001b[1;32mOK\u001b[0m  |       0B/s|/root/Ankit/train_voices/Retrieval-based-Voice-Conversion-WebUI/pretrained/D40k.pth\n",
      "\n",
      "Status Legend:\n",
      "(OK):download completed.\n",
      "\n",
      "Download Results:\n",
      "gid   |stat|avg speed  |path/URI\n",
      "======+====+===========+=======================================================\n",
      "378a43|\u001b[1;32mOK\u001b[0m  |       0B/s|/root/Ankit/train_voices/Retrieval-based-Voice-Conversion-WebUI/pretrained/D48k.pth\n",
      "\n",
      "Status Legend:\n",
      "(OK):download completed.\n",
      "\n",
      "Download Results:\n",
      "gid   |stat|avg speed  |path/URI\n",
      "======+====+===========+=======================================================\n",
      "d4400c|\u001b[1;32mOK\u001b[0m  |       0B/s|/root/Ankit/train_voices/Retrieval-based-Voice-Conversion-WebUI/pretrained/G32k.pth\n",
      "\n",
      "Status Legend:\n",
      "(OK):download completed.\n",
      "\n",
      "Download Results:\n",
      "gid   |stat|avg speed  |path/URI\n",
      "======+====+===========+=======================================================\n",
      "f314b7|\u001b[1;32mOK\u001b[0m  |       0B/s|/root/Ankit/train_voices/Retrieval-based-Voice-Conversion-WebUI/pretrained/G40k.pth\n",
      "\n",
      "Status Legend:\n",
      "(OK):download completed.\n",
      "\n",
      "Download Results:\n",
      "gid   |stat|avg speed  |path/URI\n",
      "======+====+===========+=======================================================\n",
      "8a382c|\u001b[1;32mOK\u001b[0m  |       0B/s|/root/Ankit/train_voices/Retrieval-based-Voice-Conversion-WebUI/pretrained/G48k.pth\n",
      "\n",
      "Status Legend:\n",
      "(OK):download completed.\n",
      "\n",
      "Download Results:\n",
      "gid   |stat|avg speed  |path/URI\n",
      "======+====+===========+=======================================================\n",
      "aa14a0|\u001b[1;32mOK\u001b[0m  |       0B/s|/root/Ankit/train_voices/Retrieval-based-Voice-Conversion-WebUI/pretrained/f0D32k.pth\n",
      "\n",
      "Status Legend:\n",
      "(OK):download completed.\n",
      "\n",
      "Download Results:\n",
      "gid   |stat|avg speed  |path/URI\n",
      "======+====+===========+=======================================================\n",
      "2af184|\u001b[1;32mOK\u001b[0m  |       0B/s|/root/Ankit/train_voices/Retrieval-based-Voice-Conversion-WebUI/pretrained/f0D40k.pth\n",
      "\n",
      "Status Legend:\n",
      "(OK):download completed.\n",
      "\n",
      "Download Results:\n",
      "gid   |stat|avg speed  |path/URI\n",
      "======+====+===========+=======================================================\n",
      "3cce2a|\u001b[1;32mOK\u001b[0m  |       0B/s|/root/Ankit/train_voices/Retrieval-based-Voice-Conversion-WebUI/pretrained/f0D48k.pth\n",
      "\n",
      "Status Legend:\n",
      "(OK):download completed.\n",
      "\n",
      "Download Results:\n",
      "gid   |stat|avg speed  |path/URI\n",
      "======+====+===========+=======================================================\n",
      "30c1d8|\u001b[1;32mOK\u001b[0m  |       0B/s|/root/Ankit/train_voices/Retrieval-based-Voice-Conversion-WebUI/pretrained/f0G32k.pth\n",
      "\n",
      "Status Legend:\n",
      "(OK):download completed.\n",
      "\n",
      "Download Results:\n",
      "gid   |stat|avg speed  |path/URI\n",
      "======+====+===========+=======================================================\n",
      "025e74|\u001b[1;32mOK\u001b[0m  |       0B/s|/root/Ankit/train_voices/Retrieval-based-Voice-Conversion-WebUI/pretrained/f0G40k.pth\n",
      "\n",
      "Status Legend:\n",
      "(OK):download completed.\n",
      "\n",
      "Download Results:\n",
      "gid   |stat|avg speed  |path/URI\n",
      "======+====+===========+=======================================================\n",
      "be53aa|\u001b[1;32mOK\u001b[0m  |       0B/s|/root/Ankit/train_voices/Retrieval-based-Voice-Conversion-WebUI/pretrained/f0G48k.pth\n",
      "\n",
      "Status Legend:\n",
      "(OK):download completed.\n"
     ]
    }
   ],
   "source": [
    "#@title Download Pretrained Model for Training\n",
    "!aria2c --console-log-level=error -c -x 16 -s 16 -k 1M https://huggingface.co/lj1995/VoiceConversionWebUI/resolve/main/pretrained/D32k.pth -d /root/Ankit/train_voices/Retrieval-based-Voice-Conversion-WebUI/pretrained -o D32k.pth\n",
    "!aria2c --console-log-level=error -c -x 16 -s 16 -k 1M https://huggingface.co/lj1995/VoiceConversionWebUI/resolve/main/pretrained/D40k.pth -d /root/Ankit/train_voices/Retrieval-based-Voice-Conversion-WebUI/pretrained -o D40k.pth\n",
    "!aria2c --console-log-level=error -c -x 16 -s 16 -k 1M https://huggingface.co/lj1995/VoiceConversionWebUI/resolve/main/pretrained/D48k.pth -d /root/Ankit/train_voices/Retrieval-based-Voice-Conversion-WebUI/pretrained -o D48k.pth\n",
    "!aria2c --console-log-level=error -c -x 16 -s 16 -k 1M https://huggingface.co/lj1995/VoiceConversionWebUI/resolve/main/pretrained/G32k.pth -d /root/Ankit/train_voices/Retrieval-based-Voice-Conversion-WebUI/pretrained -o G32k.pth\n",
    "!aria2c --console-log-level=error -c -x 16 -s 16 -k 1M https://huggingface.co/lj1995/VoiceConversionWebUI/resolve/main/pretrained/G40k.pth -d /root/Ankit/train_voices/Retrieval-based-Voice-Conversion-WebUI/pretrained -o G40k.pth\n",
    "!aria2c --console-log-level=error -c -x 16 -s 16 -k 1M https://huggingface.co/lj1995/VoiceConversionWebUI/resolve/main/pretrained/G48k.pth -d /root/Ankit/train_voices/Retrieval-based-Voice-Conversion-WebUI/pretrained -o G48k.pth\n",
    "!aria2c --console-log-level=error -c -x 16 -s 16 -k 1M https://huggingface.co/lj1995/VoiceConversionWebUI/resolve/main/pretrained/f0D32k.pth -d /root/Ankit/train_voices/Retrieval-based-Voice-Conversion-WebUI/pretrained -o f0D32k.pth\n",
    "!aria2c --console-log-level=error -c -x 16 -s 16 -k 1M https://huggingface.co/lj1995/VoiceConversionWebUI/resolve/main/pretrained/f0D40k.pth -d /root/Ankit/train_voices/Retrieval-based-Voice-Conversion-WebUI/pretrained -o f0D40k.pth\n",
    "!aria2c --console-log-level=error -c -x 16 -s 16 -k 1M https://huggingface.co/lj1995/VoiceConversionWebUI/resolve/main/pretrained/f0D48k.pth -d /root/Ankit/train_voices/Retrieval-based-Voice-Conversion-WebUI/pretrained -o f0D48k.pth\n",
    "!aria2c --console-log-level=error -c -x 16 -s 16 -k 1M https://huggingface.co/lj1995/VoiceConversionWebUI/resolve/main/pretrained/f0G32k.pth -d /root/Ankit/train_voices/Retrieval-based-Voice-Conversion-WebUI/pretrained -o f0G32k.pth\n",
    "!aria2c --console-log-level=error -c -x 16 -s 16 -k 1M https://huggingface.co/lj1995/VoiceConversionWebUI/resolve/main/pretrained/f0G40k.pth -d /root/Ankit/train_voices/Retrieval-based-Voice-Conversion-WebUI/pretrained -o f0G40k.pth\n",
    "!aria2c --console-log-level=error -c -x 16 -s 16 -k 1M https://huggingface.co/lj1995/VoiceConversionWebUI/resolve/main/pretrained/f0G48k.pth -d /root/Ankit/train_voices/Retrieval-based-Voice-Conversion-WebUI/pretrained -o f0G48k.pth"
   ]
  },
  {
   "cell_type": "code",
   "execution_count": 10,
   "metadata": {
    "id": "HugjmZqZRuiF",
    "tags": []
   },
   "outputs": [
    {
     "name": "stdout",
     "output_type": "stream",
     "text": [
      "\n",
      "Download Results:\n",
      "gid   |stat|avg speed  |path/URI\n",
      "======+====+===========+=======================================================\n",
      "dd1b32|\u001b[1;32mOK\u001b[0m  |       0B/s|/root/Ankit/train_voices/Retrieval-based-Voice-Conversion-WebUI/uvr5_weights/HP2-人声vocals+非人声instrumentals.pth\n",
      "\n",
      "Status Legend:\n",
      "(OK):download completed.\n",
      "\n",
      "Download Results:\n",
      "gid   |stat|avg speed  |path/URI\n",
      "======+====+===========+=======================================================\n",
      "edbc0e|\u001b[1;32mOK\u001b[0m  |       0B/s|/root/Ankit/train_voices/Retrieval-based-Voice-Conversion-WebUI/uvr5_weights/HP5-主旋律人声vocals+其他instrumentals.pth\n",
      "\n",
      "Status Legend:\n",
      "(OK):download completed.\n",
      "\n",
      "Download Results:\n",
      "gid   |stat|avg speed  |path/URI\n",
      "======+====+===========+=======================================================\n",
      "bf29e4|\u001b[1;32mOK\u001b[0m  |       0B/s|/root/Ankit/train_voices/Retrieval-based-Voice-Conversion-WebUI/uvr5_weights/5_HP-Karaoke-UVR.pth\n",
      "\n",
      "Status Legend:\n",
      "(OK):download completed.\n"
     ]
    }
   ],
   "source": [
    "#@title Download Pretrained Model for Audio Splitting\n",
    "!aria2c --console-log-level=error -c -x 16 -s 16 -k 1M https://huggingface.co/lj1995/VoiceConversionWebUI/resolve/main/uvr5_weights/HP2-人声vocals+非人声instrumentals.pth -d /root/Ankit/train_voices/Retrieval-based-Voice-Conversion-WebUI/uvr5_weights -o HP2-人声vocals+非人声instrumentals.pth\n",
    "!aria2c --console-log-level=error -c -x 16 -s 16 -k 1M https://huggingface.co/lj1995/VoiceConversionWebUI/resolve/main/uvr5_weights/HP5-主旋律人声vocals+其他instrumentals.pth -d /root/Ankit/train_voices/Retrieval-based-Voice-Conversion-WebUI/uvr5_weights -o HP5-主旋律人声vocals+其他instrumentals.pth\n",
    "!aria2c --console-log-level=error -c -x 16 -s 16 -k 1M https://github.com/TRvlvr/model_repo/releases/download/all_public_uvr_models/5_HP-Karaoke-UVR.pth -d /root/Ankit/train_voices/Retrieval-based-Voice-Conversion-WebUI/uvr5_weights -o 5_HP-Karaoke-UVR.pth"
   ]
  },
  {
   "cell_type": "code",
   "execution_count": 11,
   "metadata": {
    "id": "2RCaT9FTR0ej",
    "tags": []
   },
   "outputs": [
    {
     "name": "stdout",
     "output_type": "stream",
     "text": [
      "\n",
      "Download Results:\n",
      "gid   |stat|avg speed  |path/URI\n",
      "======+====+===========+=======================================================\n",
      "5ca25e|\u001b[1;32mOK\u001b[0m  |       0B/s|/root/Ankit/train_voices/Retrieval-based-Voice-Conversion-WebUI/hubert_base.pt\n",
      "\n",
      "Status Legend:\n",
      "(OK):download completed.\n"
     ]
    }
   ],
   "source": [
    "#@title Download hubert_base\n",
    "!aria2c --console-log-level=error -c -x 16 -s 16 -k 1M https://huggingface.co/lj1995/VoiceConversionWebUI/resolve/main/hubert_base.pt -d /root/Ankit/train_voices/Retrieval-based-Voice-Conversion-WebUI -o hubert_base.pt"
   ]
  },
  {
   "cell_type": "code",
   "execution_count": 12,
   "metadata": {
    "tags": []
   },
   "outputs": [
    {
     "name": "stdout",
     "output_type": "stream",
     "text": [
      "Requirement already satisfied: torchvision in /opt/conda/lib/python3.10/site-packages (0.15.2)\n",
      "Requirement already satisfied: numpy in /opt/conda/lib/python3.10/site-packages (from torchvision) (1.23.5)\n",
      "Requirement already satisfied: requests in /opt/conda/lib/python3.10/site-packages (from torchvision) (2.31.0)\n",
      "Requirement already satisfied: torch==2.0.1 in /opt/conda/lib/python3.10/site-packages (from torchvision) (2.0.1)\n",
      "Requirement already satisfied: pillow!=8.3.*,>=5.3.0 in /opt/conda/lib/python3.10/site-packages (from torchvision) (10.0.0)\n",
      "Requirement already satisfied: filelock in /opt/conda/lib/python3.10/site-packages (from torch==2.0.1->torchvision) (3.6.0)\n",
      "Requirement already satisfied: typing-extensions in /opt/conda/lib/python3.10/site-packages (from torch==2.0.1->torchvision) (4.7.1)\n",
      "Requirement already satisfied: sympy in /opt/conda/lib/python3.10/site-packages (from torch==2.0.1->torchvision) (1.10.1)\n",
      "Requirement already satisfied: networkx in /opt/conda/lib/python3.10/site-packages (from torch==2.0.1->torchvision) (2.8.4)\n",
      "Requirement already satisfied: jinja2 in /opt/conda/lib/python3.10/site-packages (from torch==2.0.1->torchvision) (3.1.2)\n",
      "Requirement already satisfied: nvidia-cuda-nvrtc-cu11==11.7.99 in /opt/conda/lib/python3.10/site-packages (from torch==2.0.1->torchvision) (11.7.99)\n",
      "Requirement already satisfied: nvidia-cuda-runtime-cu11==11.7.99 in /opt/conda/lib/python3.10/site-packages (from torch==2.0.1->torchvision) (11.7.99)\n",
      "Requirement already satisfied: nvidia-cuda-cupti-cu11==11.7.101 in /opt/conda/lib/python3.10/site-packages (from torch==2.0.1->torchvision) (11.7.101)\n",
      "Requirement already satisfied: nvidia-cudnn-cu11==8.5.0.96 in /opt/conda/lib/python3.10/site-packages (from torch==2.0.1->torchvision) (8.5.0.96)\n",
      "Requirement already satisfied: nvidia-cublas-cu11==11.10.3.66 in /opt/conda/lib/python3.10/site-packages (from torch==2.0.1->torchvision) (11.10.3.66)\n",
      "Requirement already satisfied: nvidia-cufft-cu11==10.9.0.58 in /opt/conda/lib/python3.10/site-packages (from torch==2.0.1->torchvision) (10.9.0.58)\n",
      "Requirement already satisfied: nvidia-curand-cu11==10.2.10.91 in /opt/conda/lib/python3.10/site-packages (from torch==2.0.1->torchvision) (10.2.10.91)\n",
      "Requirement already satisfied: nvidia-cusolver-cu11==11.4.0.1 in /opt/conda/lib/python3.10/site-packages (from torch==2.0.1->torchvision) (11.4.0.1)\n",
      "Requirement already satisfied: nvidia-cusparse-cu11==11.7.4.91 in /opt/conda/lib/python3.10/site-packages (from torch==2.0.1->torchvision) (11.7.4.91)\n",
      "Requirement already satisfied: nvidia-nccl-cu11==2.14.3 in /opt/conda/lib/python3.10/site-packages (from torch==2.0.1->torchvision) (2.14.3)\n",
      "Requirement already satisfied: nvidia-nvtx-cu11==11.7.91 in /opt/conda/lib/python3.10/site-packages (from torch==2.0.1->torchvision) (11.7.91)\n",
      "Requirement already satisfied: triton==2.0.0 in /opt/conda/lib/python3.10/site-packages (from torch==2.0.1->torchvision) (2.0.0)\n",
      "Requirement already satisfied: setuptools in /opt/conda/lib/python3.10/site-packages (from nvidia-cublas-cu11==11.10.3.66->torch==2.0.1->torchvision) (68.1.2)\n",
      "Requirement already satisfied: wheel in /opt/conda/lib/python3.10/site-packages (from nvidia-cublas-cu11==11.10.3.66->torch==2.0.1->torchvision) (0.41.2)\n",
      "Requirement already satisfied: cmake in /opt/conda/lib/python3.10/site-packages (from triton==2.0.0->torch==2.0.1->torchvision) (3.27.2)\n",
      "Requirement already satisfied: lit in /opt/conda/lib/python3.10/site-packages (from triton==2.0.0->torch==2.0.1->torchvision) (16.0.6)\n",
      "Requirement already satisfied: charset-normalizer<4,>=2 in /opt/conda/lib/python3.10/site-packages (from requests->torchvision) (2.0.4)\n",
      "Requirement already satisfied: idna<4,>=2.5 in /opt/conda/lib/python3.10/site-packages (from requests->torchvision) (3.3)\n",
      "Requirement already satisfied: urllib3<3,>=1.21.1 in /opt/conda/lib/python3.10/site-packages (from requests->torchvision) (2.0.4)\n",
      "Requirement already satisfied: certifi>=2017.4.17 in /opt/conda/lib/python3.10/site-packages (from requests->torchvision) (2023.7.22)\n",
      "Requirement already satisfied: MarkupSafe>=2.0 in /opt/conda/lib/python3.10/site-packages (from jinja2->torch==2.0.1->torchvision) (2.1.3)\n",
      "Requirement already satisfied: mpmath>=0.19 in /opt/conda/lib/python3.10/site-packages (from sympy->torch==2.0.1->torchvision) (1.3.0)\n",
      "\u001b[33mDEPRECATION: omegaconf 2.0.6 has a non-standard dependency specifier PyYAML>=5.1.*. pip 23.3 will enforce this behaviour change. A possible replacement is to upgrade to a newer version of omegaconf or contact the author to suggest that they release a version with a conforming dependency specifiers. Discussion can be found at https://github.com/pypa/pip/issues/12063\u001b[0m\u001b[33m\n",
      "\u001b[0m\u001b[33mWARNING: Running pip as the 'root' user can result in broken permissions and conflicting behaviour with the system package manager. It is recommended to use a virtual environment instead: https://pip.pypa.io/warnings/venv\u001b[0m\u001b[33m\n",
      "\u001b[0m"
     ]
    }
   ],
   "source": [
    "# !pip install librosa\n",
    "!pip install torchvision \n",
    "# !pip install faiss-cpu"
   ]
  },
  {
   "cell_type": "code",
   "execution_count": 13,
   "metadata": {
    "tags": []
   },
   "outputs": [
    {
     "name": "stdout",
     "output_type": "stream",
     "text": [
      "/root/Ankit/train_voices/Retrieval-based-Voice-Conversion-WebUI\n"
     ]
    }
   ],
   "source": [
    "!pwd"
   ]
  },
  {
   "cell_type": "code",
   "execution_count": 14,
   "metadata": {},
   "outputs": [],
   "source": [
    "# !pip install fairseq"
   ]
  },
  {
   "cell_type": "code",
   "execution_count": 15,
   "metadata": {
    "tags": []
   },
   "outputs": [],
   "source": [
    "# !pip install gradio"
   ]
  },
  {
   "cell_type": "code",
   "execution_count": 16,
   "metadata": {
    "tags": []
   },
   "outputs": [],
   "source": [
    "# !pip install praat-parselmouth"
   ]
  },
  {
   "cell_type": "code",
   "execution_count": 17,
   "metadata": {
    "tags": []
   },
   "outputs": [],
   "source": [
    "# !yes | apt-get install g++"
   ]
  },
  {
   "cell_type": "code",
   "execution_count": 18,
   "metadata": {
    "tags": []
   },
   "outputs": [],
   "source": [
    "# !pip install pyworld==0.3.2"
   ]
  },
  {
   "cell_type": "code",
   "execution_count": 19,
   "metadata": {
    "tags": []
   },
   "outputs": [],
   "source": [
    "# !pip install ffmpeg"
   ]
  },
  {
   "cell_type": "code",
   "execution_count": 21,
   "metadata": {
    "tags": []
   },
   "outputs": [
    {
     "name": "stdout",
     "output_type": "stream",
     "text": [
      "Collecting tensorboard\n",
      "  Obtaining dependency information for tensorboard from https://files.pythonhosted.org/packages/bc/a2/ff5f4c299eb37c95299a76015da3f30211468e29d8d6f1d011683279baee/tensorboard-2.14.0-py3-none-any.whl.metadata\n",
      "  Using cached tensorboard-2.14.0-py3-none-any.whl.metadata (1.8 kB)\n",
      "Collecting absl-py>=0.4 (from tensorboard)\n",
      "  Using cached absl_py-1.4.0-py3-none-any.whl (126 kB)\n",
      "Collecting grpcio>=1.48.2 (from tensorboard)\n",
      "  Obtaining dependency information for grpcio>=1.48.2 from https://files.pythonhosted.org/packages/28/fa/c38a010d3fffcac07ef121abb34eb2c3db0876df74267ce5bde13c3a6ed7/grpcio-1.57.0-cp310-cp310-manylinux_2_17_x86_64.manylinux2014_x86_64.whl.metadata\n",
      "  Using cached grpcio-1.57.0-cp310-cp310-manylinux_2_17_x86_64.manylinux2014_x86_64.whl.metadata (4.0 kB)\n",
      "Collecting google-auth<3,>=1.6.3 (from tensorboard)\n",
      "  Obtaining dependency information for google-auth<3,>=1.6.3 from https://files.pythonhosted.org/packages/9c/8d/bff87fc722553a5691d8514da5523c23547f3894189ba03b57592e37bdc2/google_auth-2.22.0-py2.py3-none-any.whl.metadata\n",
      "  Using cached google_auth-2.22.0-py2.py3-none-any.whl.metadata (4.2 kB)\n",
      "Collecting google-auth-oauthlib<1.1,>=0.5 (from tensorboard)\n",
      "  Using cached google_auth_oauthlib-1.0.0-py2.py3-none-any.whl (18 kB)\n",
      "Requirement already satisfied: markdown>=2.6.8 in /opt/conda/lib/python3.10/site-packages (from tensorboard) (3.3.4)\n",
      "Requirement already satisfied: numpy>=1.12.0 in /opt/conda/lib/python3.10/site-packages (from tensorboard) (1.23.5)\n",
      "Requirement already satisfied: protobuf>=3.19.6 in /opt/conda/lib/python3.10/site-packages (from tensorboard) (4.23.4)\n",
      "Requirement already satisfied: requests<3,>=2.21.0 in /opt/conda/lib/python3.10/site-packages (from tensorboard) (2.31.0)\n",
      "Requirement already satisfied: setuptools>=41.0.0 in /opt/conda/lib/python3.10/site-packages (from tensorboard) (68.1.2)\n",
      "Collecting tensorboard-data-server<0.8.0,>=0.7.0 (from tensorboard)\n",
      "  Obtaining dependency information for tensorboard-data-server<0.8.0,>=0.7.0 from https://files.pythonhosted.org/packages/02/52/fb9e51fba47951aabd7a6b25e41d73eae94208ccf62d886168096941a781/tensorboard_data_server-0.7.1-py3-none-manylinux2014_x86_64.whl.metadata\n",
      "  Using cached tensorboard_data_server-0.7.1-py3-none-manylinux2014_x86_64.whl.metadata (1.1 kB)\n",
      "Requirement already satisfied: werkzeug>=1.0.1 in /opt/conda/lib/python3.10/site-packages (from tensorboard) (2.3.6)\n",
      "Requirement already satisfied: wheel>=0.26 in /opt/conda/lib/python3.10/site-packages (from tensorboard) (0.41.2)\n",
      "Collecting cachetools<6.0,>=2.0.0 (from google-auth<3,>=1.6.3->tensorboard)\n",
      "  Obtaining dependency information for cachetools<6.0,>=2.0.0 from https://files.pythonhosted.org/packages/a9/c9/c8a7710f2cedcb1db9224fdd4d8307c9e48cbddc46c18b515fefc0f1abbe/cachetools-5.3.1-py3-none-any.whl.metadata\n",
      "  Using cached cachetools-5.3.1-py3-none-any.whl.metadata (5.2 kB)\n",
      "Requirement already satisfied: pyasn1-modules>=0.2.1 in /opt/conda/lib/python3.10/site-packages (from google-auth<3,>=1.6.3->tensorboard) (0.2.8)\n",
      "Requirement already satisfied: rsa<5,>=3.1.4 in /opt/conda/lib/python3.10/site-packages (from google-auth<3,>=1.6.3->tensorboard) (4.7.2)\n",
      "Requirement already satisfied: six>=1.9.0 in /opt/conda/lib/python3.10/site-packages (from google-auth<3,>=1.6.3->tensorboard) (1.16.0)\n",
      "Collecting urllib3<2.0 (from google-auth<3,>=1.6.3->tensorboard)\n",
      "  Obtaining dependency information for urllib3<2.0 from https://files.pythonhosted.org/packages/c5/05/c214b32d21c0b465506f95c4f28ccbcba15022e000b043b72b3df7728471/urllib3-1.26.16-py2.py3-none-any.whl.metadata\n",
      "  Using cached urllib3-1.26.16-py2.py3-none-any.whl.metadata (48 kB)\n",
      "Collecting requests-oauthlib>=0.7.0 (from google-auth-oauthlib<1.1,>=0.5->tensorboard)\n",
      "  Using cached requests_oauthlib-1.3.1-py2.py3-none-any.whl (23 kB)\n",
      "Requirement already satisfied: charset-normalizer<4,>=2 in /opt/conda/lib/python3.10/site-packages (from requests<3,>=2.21.0->tensorboard) (2.0.4)\n",
      "Requirement already satisfied: idna<4,>=2.5 in /opt/conda/lib/python3.10/site-packages (from requests<3,>=2.21.0->tensorboard) (3.3)\n",
      "Requirement already satisfied: certifi>=2017.4.17 in /opt/conda/lib/python3.10/site-packages (from requests<3,>=2.21.0->tensorboard) (2023.7.22)\n",
      "Requirement already satisfied: MarkupSafe>=2.1.1 in /opt/conda/lib/python3.10/site-packages (from werkzeug>=1.0.1->tensorboard) (2.1.3)\n",
      "Requirement already satisfied: pyasn1<0.5.0,>=0.4.6 in /opt/conda/lib/python3.10/site-packages (from pyasn1-modules>=0.2.1->google-auth<3,>=1.6.3->tensorboard) (0.4.8)\n",
      "Collecting oauthlib>=3.0.0 (from requests-oauthlib>=0.7.0->google-auth-oauthlib<1.1,>=0.5->tensorboard)\n",
      "  Using cached oauthlib-3.2.2-py3-none-any.whl (151 kB)\n",
      "Using cached tensorboard-2.14.0-py3-none-any.whl (5.5 MB)\n",
      "Using cached google_auth-2.22.0-py2.py3-none-any.whl (181 kB)\n",
      "Using cached grpcio-1.57.0-cp310-cp310-manylinux_2_17_x86_64.manylinux2014_x86_64.whl (5.3 MB)\n",
      "Using cached tensorboard_data_server-0.7.1-py3-none-manylinux2014_x86_64.whl (6.6 MB)\n",
      "Using cached cachetools-5.3.1-py3-none-any.whl (9.3 kB)\n",
      "Using cached urllib3-1.26.16-py2.py3-none-any.whl (143 kB)\n",
      "\u001b[33mDEPRECATION: omegaconf 2.0.6 has a non-standard dependency specifier PyYAML>=5.1.*. pip 23.3 will enforce this behaviour change. A possible replacement is to upgrade to a newer version of omegaconf or contact the author to suggest that they release a version with a conforming dependency specifiers. Discussion can be found at https://github.com/pypa/pip/issues/12063\u001b[0m\u001b[33m\n",
      "\u001b[0mInstalling collected packages: urllib3, tensorboard-data-server, oauthlib, grpcio, cachetools, absl-py, google-auth, requests-oauthlib, google-auth-oauthlib, tensorboard\n",
      "  Attempting uninstall: urllib3\n",
      "    Found existing installation: urllib3 2.0.4\n",
      "    Uninstalling urllib3-2.0.4:\n",
      "      Successfully uninstalled urllib3-2.0.4\n",
      "\u001b[31mERROR: pip's dependency resolver does not currently take into account all the packages that are installed. This behaviour is the source of the following dependency conflicts.\n",
      "distributed 2022.7.0 requires tornado<6.2,>=6.0.3, but you have tornado 6.3.2 which is incompatible.\u001b[0m\u001b[31m\n",
      "\u001b[0mSuccessfully installed absl-py-1.4.0 cachetools-5.3.1 google-auth-2.22.0 google-auth-oauthlib-1.0.0 grpcio-1.57.0 oauthlib-3.2.2 requests-oauthlib-1.3.1 tensorboard-2.14.0 tensorboard-data-server-0.7.1 urllib3-1.26.16\n",
      "\u001b[33mWARNING: Running pip as the 'root' user can result in broken permissions and conflicting behaviour with the system package manager. It is recommended to use a virtual environment instead: https://pip.pypa.io/warnings/venv\u001b[0m\u001b[33m\n",
      "\u001b[0m"
     ]
    }
   ],
   "source": [
    "!pip install tensorboard"
   ]
  },
  {
   "cell_type": "code",
   "execution_count": null,
   "metadata": {
    "id": "7vh6vphDwO0b",
    "tags": []
   },
   "outputs": [
    {
     "name": "stdout",
     "output_type": "stream",
     "text": [
      "/root/Ankit/train_voices/Retrieval-based-Voice-Conversion-WebUI\n"
     ]
    },
    {
     "data": {
      "text/html": [
       "\n",
       "      <iframe id=\"tensorboard-frame-e4cf7e4854520842\" width=\"100%\" height=\"800\" frameborder=\"0\">\n",
       "      </iframe>\n",
       "      <script>\n",
       "        (function() {\n",
       "          const frame = document.getElementById(\"tensorboard-frame-e4cf7e4854520842\");\n",
       "          const url = new URL(\"/\", window.location);\n",
       "          const port = 6006;\n",
       "          if (port) {\n",
       "            url.port = port;\n",
       "          }\n",
       "          frame.src = url;\n",
       "        })();\n",
       "      </script>\n",
       "    "
      ],
      "text/plain": [
       "<IPython.core.display.HTML object>"
      ]
     },
     "metadata": {},
     "output_type": "display_data"
    },
    {
     "name": "stdout",
     "output_type": "stream",
     "text": [
      "Use Language: en_US\n",
      "2023-09-04 10:12:25 | INFO | fairseq.tasks.text_to_speech | Please install tensorboardX: pip install tensorboardX\n",
      "2023-09-04 10:12:25 | INFO | numexpr.utils | NumExpr defaulting to 4 threads.\n",
      "Running on local URL:  http://127.0.0.1:7861\n",
      "\n",
      "Setting up a public link... we have recently upgraded the way public links are generated. If you encounter any problems, please report the issue and downgrade to gradio version 3.13.0\n",
      ".\n",
      "Running on public URL: https://2df73f63-4f9a-4c3f.gradio.live\n",
      "\n",
      "This share link expires in 72 hours. For free permanent hosting and GPU upgrades (NEW!), check out Spaces: https://huggingface.co/spaces\n",
      "python3 trainset_preprocess_pipeline_print.py /root/Ankit/train_voices/dataset 40000 4 /root/Ankit/train_voices/Retrieval-based-Voice-Conversion-WebUI/logs/jw False\n",
      "2023-09-04 10:14:19 | INFO | httpx | HTTP Request: POST http://127.0.0.1:7861/api/predict \"HTTP/1.1 200 OK\"\n",
      "start preprocess\n",
      "['trainset_preprocess_pipeline_print.py', '/root/Ankit/train_voices/dataset', '40000', '4', '/root/Ankit/train_voices/Retrieval-based-Voice-Conversion-WebUI/logs/jw', 'False']\n",
      "2023-09-04 10:14:20 | INFO | httpx | HTTP Request: POST http://127.0.0.1:7861/api/predict \"HTTP/1.1 200 OK\"\n",
      "2023-09-04 10:14:21 | INFO | httpx | HTTP Request: POST http://127.0.0.1:7861/api/predict \"HTTP/1.1 200 OK\"\n",
      "2023-09-04 10:14:22 | INFO | httpx | HTTP Request: POST http://127.0.0.1:7861/api/predict \"HTTP/1.1 200 OK\"\n",
      "2023-09-04 10:14:23 | INFO | httpx | HTTP Request: POST http://127.0.0.1:7861/api/predict \"HTTP/1.1 200 OK\"\n",
      "2023-09-04 10:14:24 | INFO | httpx | HTTP Request: POST http://127.0.0.1:7861/api/predict \"HTTP/1.1 200 OK\"\n",
      "2023-09-04 10:14:25 | INFO | httpx | HTTP Request: POST http://127.0.0.1:7861/api/predict \"HTTP/1.1 200 OK\"\n",
      "2023-09-04 10:14:26 | INFO | httpx | HTTP Request: POST http://127.0.0.1:7861/api/predict \"HTTP/1.1 200 OK\"\n",
      "2023-09-04 10:14:27 | INFO | httpx | HTTP Request: POST http://127.0.0.1:7861/api/predict \"HTTP/1.1 200 OK\"\n",
      "2023-09-04 10:14:28 | INFO | httpx | HTTP Request: POST http://127.0.0.1:7861/api/predict \"HTTP/1.1 200 OK\"\n",
      "2023-09-04 10:14:29 | INFO | httpx | HTTP Request: POST http://127.0.0.1:7861/api/predict \"HTTP/1.1 200 OK\"\n",
      "2023-09-04 10:14:30 | INFO | httpx | HTTP Request: POST http://127.0.0.1:7861/api/predict \"HTTP/1.1 200 OK\"\n",
      "/root/Ankit/train_voices/dataset/1.wav->Suc.\n",
      "2023-09-04 10:14:31 | INFO | httpx | HTTP Request: POST http://127.0.0.1:7861/api/predict \"HTTP/1.1 200 OK\"\n",
      "2023-09-04 10:14:32 | INFO | httpx | HTTP Request: POST http://127.0.0.1:7861/api/predict \"HTTP/1.1 200 OK\"\n",
      "2023-09-04 10:14:33 | INFO | httpx | HTTP Request: POST http://127.0.0.1:7861/api/predict \"HTTP/1.1 200 OK\"\n",
      "2023-09-04 10:14:34 | INFO | httpx | HTTP Request: POST http://127.0.0.1:7861/api/predict \"HTTP/1.1 200 OK\"\n",
      "2023-09-04 10:14:35 | INFO | httpx | HTTP Request: POST http://127.0.0.1:7861/api/predict \"HTTP/1.1 200 OK\"\n",
      "2023-09-04 10:14:36 | INFO | httpx | HTTP Request: POST http://127.0.0.1:7861/api/predict \"HTTP/1.1 200 OK\"\n",
      "2023-09-04 10:14:37 | INFO | httpx | HTTP Request: POST http://127.0.0.1:7861/api/predict \"HTTP/1.1 200 OK\"\n",
      "2023-09-04 10:14:38 | INFO | httpx | HTTP Request: POST http://127.0.0.1:7861/api/predict \"HTTP/1.1 200 OK\"\n",
      "2023-09-04 10:14:39 | INFO | httpx | HTTP Request: POST http://127.0.0.1:7861/api/predict \"HTTP/1.1 200 OK\"\n",
      "2023-09-04 10:14:40 | INFO | httpx | HTTP Request: POST http://127.0.0.1:7861/api/predict \"HTTP/1.1 200 OK\"\n",
      "2023-09-04 10:14:41 | INFO | httpx | HTTP Request: POST http://127.0.0.1:7861/api/predict \"HTTP/1.1 200 OK\"\n",
      "2023-09-04 10:14:42 | INFO | httpx | HTTP Request: POST http://127.0.0.1:7861/api/predict \"HTTP/1.1 200 OK\"\n",
      "2023-09-04 10:14:43 | INFO | httpx | HTTP Request: POST http://127.0.0.1:7861/api/predict \"HTTP/1.1 200 OK\"\n",
      "/root/Ankit/train_voices/dataset/5.wav->Suc.\n",
      "2023-09-04 10:14:44 | INFO | httpx | HTTP Request: POST http://127.0.0.1:7861/api/predict \"HTTP/1.1 200 OK\"\n",
      "2023-09-04 10:14:45 | INFO | httpx | HTTP Request: POST http://127.0.0.1:7861/api/predict \"HTTP/1.1 200 OK\"\n",
      "2023-09-04 10:14:46 | INFO | httpx | HTTP Request: POST http://127.0.0.1:7861/api/predict \"HTTP/1.1 200 OK\"\n",
      "2023-09-04 10:14:47 | INFO | httpx | HTTP Request: POST http://127.0.0.1:7861/api/predict \"HTTP/1.1 200 OK\"\n",
      "2023-09-04 10:14:48 | INFO | httpx | HTTP Request: POST http://127.0.0.1:7861/api/predict \"HTTP/1.1 200 OK\"\n",
      "2023-09-04 10:14:49 | INFO | httpx | HTTP Request: POST http://127.0.0.1:7861/api/predict \"HTTP/1.1 200 OK\"\n",
      "2023-09-04 10:14:50 | INFO | httpx | HTTP Request: POST http://127.0.0.1:7861/api/predict \"HTTP/1.1 200 OK\"\n",
      "2023-09-04 10:14:51 | INFO | httpx | HTTP Request: POST http://127.0.0.1:7861/api/predict \"HTTP/1.1 200 OK\"\n",
      "2023-09-04 10:14:52 | INFO | httpx | HTTP Request: POST http://127.0.0.1:7861/api/predict \"HTTP/1.1 200 OK\"\n",
      "2023-09-04 10:14:53 | INFO | httpx | HTTP Request: POST http://127.0.0.1:7861/api/predict \"HTTP/1.1 200 OK\"\n",
      "2023-09-04 10:14:54 | INFO | httpx | HTTP Request: POST http://127.0.0.1:7861/api/predict \"HTTP/1.1 200 OK\"\n",
      "2023-09-04 10:14:55 | INFO | httpx | HTTP Request: POST http://127.0.0.1:7861/api/predict \"HTTP/1.1 200 OK\"\n",
      "2023-09-04 10:14:56 | INFO | httpx | HTTP Request: POST http://127.0.0.1:7861/api/predict \"HTTP/1.1 200 OK\"\n",
      "/root/Ankit/train_voices/dataset/2.wav->Suc.\n",
      "2023-09-04 10:14:57 | INFO | httpx | HTTP Request: POST http://127.0.0.1:7861/api/predict \"HTTP/1.1 200 OK\"\n",
      "2023-09-04 10:14:58 | INFO | httpx | HTTP Request: POST http://127.0.0.1:7861/api/predict \"HTTP/1.1 200 OK\"\n",
      "2023-09-04 10:14:59 | INFO | httpx | HTTP Request: POST http://127.0.0.1:7861/api/predict \"HTTP/1.1 200 OK\"\n",
      "2023-09-04 10:15:00 | INFO | httpx | HTTP Request: POST http://127.0.0.1:7861/api/predict \"HTTP/1.1 200 OK\"\n",
      "2023-09-04 10:15:01 | INFO | httpx | HTTP Request: POST http://127.0.0.1:7861/api/predict \"HTTP/1.1 200 OK\"\n",
      "2023-09-04 10:15:02 | INFO | httpx | HTTP Request: POST http://127.0.0.1:7861/api/predict \"HTTP/1.1 200 OK\"\n",
      "2023-09-04 10:15:03 | INFO | httpx | HTTP Request: POST http://127.0.0.1:7861/api/predict \"HTTP/1.1 200 OK\"\n",
      "2023-09-04 10:15:04 | INFO | httpx | HTTP Request: POST http://127.0.0.1:7861/api/predict \"HTTP/1.1 200 OK\"\n",
      "2023-09-04 10:15:05 | INFO | httpx | HTTP Request: POST http://127.0.0.1:7861/api/predict \"HTTP/1.1 200 OK\"\n",
      "2023-09-04 10:15:06 | INFO | httpx | HTTP Request: POST http://127.0.0.1:7861/api/predict \"HTTP/1.1 200 OK\"\n",
      "2023-09-04 10:15:07 | INFO | httpx | HTTP Request: POST http://127.0.0.1:7861/api/predict \"HTTP/1.1 200 OK\"\n",
      "2023-09-04 10:15:08 | INFO | httpx | HTTP Request: POST http://127.0.0.1:7861/api/predict \"HTTP/1.1 200 OK\"\n",
      "2023-09-04 10:15:09 | INFO | httpx | HTTP Request: POST http://127.0.0.1:7861/api/predict \"HTTP/1.1 200 OK\"\n",
      "/root/Ankit/train_voices/dataset/6.wav->Suc.\n",
      "2023-09-04 10:15:10 | INFO | httpx | HTTP Request: POST http://127.0.0.1:7861/api/predict \"HTTP/1.1 200 OK\"\n",
      "2023-09-04 10:15:11 | INFO | httpx | HTTP Request: POST http://127.0.0.1:7861/api/predict \"HTTP/1.1 200 OK\"\n",
      "2023-09-04 10:15:12 | INFO | httpx | HTTP Request: POST http://127.0.0.1:7861/api/predict \"HTTP/1.1 200 OK\"\n",
      "2023-09-04 10:15:13 | INFO | httpx | HTTP Request: POST http://127.0.0.1:7861/api/predict \"HTTP/1.1 200 OK\"\n",
      "2023-09-04 10:15:14 | INFO | httpx | HTTP Request: POST http://127.0.0.1:7861/api/predict \"HTTP/1.1 200 OK\"\n",
      "2023-09-04 10:15:15 | INFO | httpx | HTTP Request: POST http://127.0.0.1:7861/api/predict \"HTTP/1.1 200 OK\"\n",
      "2023-09-04 10:15:16 | INFO | httpx | HTTP Request: POST http://127.0.0.1:7861/api/predict \"HTTP/1.1 200 OK\"\n",
      "2023-09-04 10:15:17 | INFO | httpx | HTTP Request: POST http://127.0.0.1:7861/api/predict \"HTTP/1.1 200 OK\"\n",
      "2023-09-04 10:15:18 | INFO | httpx | HTTP Request: POST http://127.0.0.1:7861/api/predict \"HTTP/1.1 200 OK\"\n",
      "2023-09-04 10:15:19 | INFO | httpx | HTTP Request: POST http://127.0.0.1:7861/api/predict \"HTTP/1.1 200 OK\"\n",
      "2023-09-04 10:15:20 | INFO | httpx | HTTP Request: POST http://127.0.0.1:7861/api/predict \"HTTP/1.1 200 OK\"\n",
      "2023-09-04 10:15:21 | INFO | httpx | HTTP Request: POST http://127.0.0.1:7861/api/predict \"HTTP/1.1 200 OK\"\n",
      "2023-09-04 10:15:22 | INFO | httpx | HTTP Request: POST http://127.0.0.1:7861/api/predict \"HTTP/1.1 200 OK\"\n",
      "/root/Ankit/train_voices/dataset/3.wav->Suc.\n",
      "2023-09-04 10:15:23 | INFO | httpx | HTTP Request: POST http://127.0.0.1:7861/api/predict \"HTTP/1.1 200 OK\"\n",
      "2023-09-04 10:15:24 | INFO | httpx | HTTP Request: POST http://127.0.0.1:7861/api/predict \"HTTP/1.1 200 OK\"\n",
      "2023-09-04 10:15:25 | INFO | httpx | HTTP Request: POST http://127.0.0.1:7861/api/predict \"HTTP/1.1 200 OK\"\n",
      "2023-09-04 10:15:26 | INFO | httpx | HTTP Request: POST http://127.0.0.1:7861/api/predict \"HTTP/1.1 200 OK\"\n",
      "2023-09-04 10:15:27 | INFO | httpx | HTTP Request: POST http://127.0.0.1:7861/api/predict \"HTTP/1.1 200 OK\"\n",
      "2023-09-04 10:15:28 | INFO | httpx | HTTP Request: POST http://127.0.0.1:7861/api/predict \"HTTP/1.1 200 OK\"\n",
      "2023-09-04 10:15:29 | INFO | httpx | HTTP Request: POST http://127.0.0.1:7861/api/predict \"HTTP/1.1 200 OK\"\n",
      "2023-09-04 10:15:30 | INFO | httpx | HTTP Request: POST http://127.0.0.1:7861/api/predict \"HTTP/1.1 200 OK\"\n",
      "2023-09-04 10:15:31 | INFO | httpx | HTTP Request: POST http://127.0.0.1:7861/api/predict \"HTTP/1.1 200 OK\"\n",
      "2023-09-04 10:15:32 | INFO | httpx | HTTP Request: POST http://127.0.0.1:7861/api/predict \"HTTP/1.1 200 OK\"\n",
      "2023-09-04 10:15:33 | INFO | httpx | HTTP Request: POST http://127.0.0.1:7861/api/predict \"HTTP/1.1 200 OK\"\n",
      "2023-09-04 10:15:34 | INFO | httpx | HTTP Request: POST http://127.0.0.1:7861/api/predict \"HTTP/1.1 200 OK\"\n",
      "2023-09-04 10:15:35 | INFO | httpx | HTTP Request: POST http://127.0.0.1:7861/api/predict \"HTTP/1.1 200 OK\"\n",
      "/root/Ankit/train_voices/dataset/4.wav->Suc.\n",
      "end preprocess\n",
      "start preprocess\n",
      "['trainset_preprocess_pipeline_print.py', '/root/Ankit/train_voices/dataset', '40000', '4', '/root/Ankit/train_voices/Retrieval-based-Voice-Conversion-WebUI/logs/jw', 'False']\n",
      "/root/Ankit/train_voices/dataset/1.wav->Suc.\n",
      "/root/Ankit/train_voices/dataset/5.wav->Suc.\n",
      "/root/Ankit/train_voices/dataset/2.wav->Suc.\n",
      "/root/Ankit/train_voices/dataset/6.wav->Suc.\n",
      "/root/Ankit/train_voices/dataset/3.wav->Suc.\n",
      "/root/Ankit/train_voices/dataset/4.wav->Suc.\n",
      "end preprocess\n",
      "\n",
      "2023-09-04 10:15:36 | INFO | httpx | HTTP Request: POST http://127.0.0.1:7861/api/predict \"HTTP/1.1 200 OK\"\n",
      "2023-09-04 10:15:36 | INFO | httpx | HTTP Request: POST http://127.0.0.1:7861/api/predict \"HTTP/1.1 200 OK\"\n",
      "2023-09-04 10:15:37 | INFO | httpx | HTTP Request: POST http://127.0.0.1:7861/reset \"HTTP/1.1 200 OK\"\n",
      "python3 extract_f0_print.py /root/Ankit/train_voices/Retrieval-based-Voice-Conversion-WebUI/logs/jw 4 harvest\n",
      "2023-09-04 10:16:04 | INFO | httpx | HTTP Request: POST http://127.0.0.1:7861/api/predict \"HTTP/1.1 200 OK\"\n",
      "['extract_f0_print.py', '/root/Ankit/train_voices/Retrieval-based-Voice-Conversion-WebUI/logs/jw', '4', 'harvest']\n",
      "todo-f0-134\n",
      "f0ing,now-0,all-134,-/root/Ankit/train_voices/Retrieval-based-Voice-Conversion-WebUI/logs/jw/1_16k_wavs/0_0.wav\n",
      "f0ing,now-26,all-134,-/root/Ankit/train_voices/Retrieval-based-Voice-Conversion-WebUI/logs/jw/1_16k_wavs/1_20.wav\n",
      "f0ing,now-52,all-134,-/root/Ankit/train_voices/Retrieval-based-Voice-Conversion-WebUI/logs/jw/1_16k_wavs/2_38.wav\n",
      "f0ing,now-78,all-134,-/root/Ankit/train_voices/Retrieval-based-Voice-Conversion-WebUI/logs/jw/1_16k_wavs/3_50.wav\n",
      "f0ing,now-104,all-134,-/root/Ankit/train_voices/Retrieval-based-Voice-Conversion-WebUI/logs/jw/1_16k_wavs/4_7.wav\n",
      "f0ing,now-130,all-134,-/root/Ankit/train_voices/Retrieval-based-Voice-Conversion-WebUI/logs/jw/1_16k_wavs/5_83.wav\n",
      "todo-f0-134\n",
      "f0ing,now-0,all-134,-/root/Ankit/train_voices/Retrieval-based-Voice-Conversion-WebUI/logs/jw/1_16k_wavs/0_10.wav\n",
      "f0ing,now-26,all-134,-/root/Ankit/train_voices/Retrieval-based-Voice-Conversion-WebUI/logs/jw/1_16k_wavs/1_21.wav\n",
      "f0ing,now-52,all-134,-/root/Ankit/train_voices/Retrieval-based-Voice-Conversion-WebUI/logs/jw/1_16k_wavs/2_39.wav\n",
      "f0ing,now-78,all-134,-/root/Ankit/train_voices/Retrieval-based-Voice-Conversion-WebUI/logs/jw/1_16k_wavs/3_51.wav\n",
      "f0ing,now-104,all-134,-/root/Ankit/train_voices/Retrieval-based-Voice-Conversion-WebUI/logs/jw/1_16k_wavs/4_70.wav\n",
      "f0ing,now-130,all-134,-/root/Ankit/train_voices/Retrieval-based-Voice-Conversion-WebUI/logs/jw/1_16k_wavs/5_84.wav\n",
      "todo-f0-133\n",
      "todo-f0-133\n",
      "f0ing,now-0,all-133,-/root/Ankit/train_voices/Retrieval-based-Voice-Conversion-WebUI/logs/jw/1_16k_wavs/0_11.wav\n",
      "f0ing,now-0,all-133,-/root/Ankit/train_voices/Retrieval-based-Voice-Conversion-WebUI/logs/jw/1_16k_wavs/0_12.wav\n",
      "f0ing,now-26,all-133,-/root/Ankit/train_voices/Retrieval-based-Voice-Conversion-WebUI/logs/jw/1_16k_wavs/1_23.wav\n",
      "f0ing,now-26,all-133,-/root/Ankit/train_voices/Retrieval-based-Voice-Conversion-WebUI/logs/jw/1_16k_wavs/1_24.wav\n",
      "f0ing,now-52,all-133,-/root/Ankit/train_voices/Retrieval-based-Voice-Conversion-WebUI/logs/jw/1_16k_wavs/2_4.wav\n",
      "f0ing,now-52,all-133,-/root/Ankit/train_voices/Retrieval-based-Voice-Conversion-WebUI/logs/jw/1_16k_wavs/2_40.wav\n",
      "f0ing,now-78,all-133,-/root/Ankit/train_voices/Retrieval-based-Voice-Conversion-WebUI/logs/jw/1_16k_wavs/3_52.wav\n",
      "f0ing,now-78,all-133,-/root/Ankit/train_voices/Retrieval-based-Voice-Conversion-WebUI/logs/jw/1_16k_wavs/3_54.wav\n",
      "f0ing,now-104,all-133,-/root/Ankit/train_voices/Retrieval-based-Voice-Conversion-WebUI/logs/jw/1_16k_wavs/4_71.wav\n",
      "f0ing,now-104,all-133,-/root/Ankit/train_voices/Retrieval-based-Voice-Conversion-WebUI/logs/jw/1_16k_wavs/4_72.wav\n",
      "f0ing,now-130,all-133,-/root/Ankit/train_voices/Retrieval-based-Voice-Conversion-WebUI/logs/jw/1_16k_wavs/5_85.wav\n",
      "f0ing,now-130,all-133,-/root/Ankit/train_voices/Retrieval-based-Voice-Conversion-WebUI/logs/jw/1_16k_wavs/5_86.wav\n",
      "2023-09-04 10:16:05 | INFO | httpx | HTTP Request: POST http://127.0.0.1:7861/api/predict \"HTTP/1.1 200 OK\"\n",
      "['extract_f0_print.py', '/root/Ankit/train_voices/Retrieval-based-Voice-Conversion-WebUI/logs/jw', '4', 'harvest']\n",
      "todo-f0-134\n",
      "f0ing,now-0,all-134,-/root/Ankit/train_voices/Retrieval-based-Voice-Conversion-WebUI/logs/jw/1_16k_wavs/0_0.wav\n",
      "f0ing,now-26,all-134,-/root/Ankit/train_voices/Retrieval-based-Voice-Conversion-WebUI/logs/jw/1_16k_wavs/1_20.wav\n",
      "f0ing,now-52,all-134,-/root/Ankit/train_voices/Retrieval-based-Voice-Conversion-WebUI/logs/jw/1_16k_wavs/2_38.wav\n",
      "f0ing,now-78,all-134,-/root/Ankit/train_voices/Retrieval-based-Voice-Conversion-WebUI/logs/jw/1_16k_wavs/3_50.wav\n",
      "f0ing,now-104,all-134,-/root/Ankit/train_voices/Retrieval-based-Voice-Conversion-WebUI/logs/jw/1_16k_wavs/4_7.wav\n",
      "f0ing,now-130,all-134,-/root/Ankit/train_voices/Retrieval-based-Voice-Conversion-WebUI/logs/jw/1_16k_wavs/5_83.wav\n",
      "todo-f0-134\n",
      "f0ing,now-0,all-134,-/root/Ankit/train_voices/Retrieval-based-Voice-Conversion-WebUI/logs/jw/1_16k_wavs/0_10.wav\n",
      "f0ing,now-26,all-134,-/root/Ankit/train_voices/Retrieval-based-Voice-Conversion-WebUI/logs/jw/1_16k_wavs/1_21.wav\n",
      "f0ing,now-52,all-134,-/root/Ankit/train_voices/Retrieval-based-Voice-Conversion-WebUI/logs/jw/1_16k_wavs/2_39.wav\n",
      "f0ing,now-78,all-134,-/root/Ankit/train_voices/Retrieval-based-Voice-Conversion-WebUI/logs/jw/1_16k_wavs/3_51.wav\n",
      "f0ing,now-104,all-134,-/root/Ankit/train_voices/Retrieval-based-Voice-Conversion-WebUI/logs/jw/1_16k_wavs/4_70.wav\n",
      "f0ing,now-130,all-134,-/root/Ankit/train_voices/Retrieval-based-Voice-Conversion-WebUI/logs/jw/1_16k_wavs/5_84.wav\n",
      "todo-f0-133\n",
      "todo-f0-133\n",
      "f0ing,now-0,all-133,-/root/Ankit/train_voices/Retrieval-based-Voice-Conversion-WebUI/logs/jw/1_16k_wavs/0_11.wav\n",
      "f0ing,now-0,all-133,-/root/Ankit/train_voices/Retrieval-based-Voice-Conversion-WebUI/logs/jw/1_16k_wavs/0_12.wav\n",
      "f0ing,now-26,all-133,-/root/Ankit/train_voices/Retrieval-based-Voice-Conversion-WebUI/logs/jw/1_16k_wavs/1_23.wav\n",
      "f0ing,now-26,all-133,-/root/Ankit/train_voices/Retrieval-based-Voice-Conversion-WebUI/logs/jw/1_16k_wavs/1_24.wav\n",
      "f0ing,now-52,all-133,-/root/Ankit/train_voices/Retrieval-based-Voice-Conversion-WebUI/logs/jw/1_16k_wavs/2_4.wav\n",
      "f0ing,now-52,all-133,-/root/Ankit/train_voices/Retrieval-based-Voice-Conversion-WebUI/logs/jw/1_16k_wavs/2_40.wav\n",
      "f0ing,now-78,all-133,-/root/Ankit/train_voices/Retrieval-based-Voice-Conversion-WebUI/logs/jw/1_16k_wavs/3_52.wav\n",
      "f0ing,now-78,all-133,-/root/Ankit/train_voices/Retrieval-based-Voice-Conversion-WebUI/logs/jw/1_16k_wavs/3_54.wav\n",
      "f0ing,now-104,all-133,-/root/Ankit/train_voices/Retrieval-based-Voice-Conversion-WebUI/logs/jw/1_16k_wavs/4_71.wav\n",
      "f0ing,now-104,all-133,-/root/Ankit/train_voices/Retrieval-based-Voice-Conversion-WebUI/logs/jw/1_16k_wavs/4_72.wav\n",
      "f0ing,now-130,all-133,-/root/Ankit/train_voices/Retrieval-based-Voice-Conversion-WebUI/logs/jw/1_16k_wavs/5_85.wav\n",
      "f0ing,now-130,all-133,-/root/Ankit/train_voices/Retrieval-based-Voice-Conversion-WebUI/logs/jw/1_16k_wavs/5_86.wav\n",
      "\n",
      "2023-09-04 10:16:06 | INFO | httpx | HTTP Request: POST http://127.0.0.1:7861/api/predict \"HTTP/1.1 200 OK\"\n",
      "python3 extract_feature_print.py cuda:0 1 0 0 /root/Ankit/train_voices/Retrieval-based-Voice-Conversion-WebUI/logs/jw\n",
      "2023-09-04 10:16:06 | INFO | httpx | HTTP Request: POST http://127.0.0.1:7861/api/predict \"HTTP/1.1 200 OK\"\n",
      "2023-09-04 10:16:07 | INFO | httpx | HTTP Request: POST http://127.0.0.1:7861/api/predict \"HTTP/1.1 200 OK\"\n",
      "2023-09-04 10:16:08 | INFO | fairseq.tasks.text_to_speech | Please install tensorboardX: pip install tensorboardX\n",
      "2023-09-04 10:16:08 | INFO | httpx | HTTP Request: POST http://127.0.0.1:7861/api/predict \"HTTP/1.1 200 OK\"\n",
      "['extract_feature_print.py', 'cuda:0', '1', '0', '0', '/root/Ankit/train_voices/Retrieval-based-Voice-Conversion-WebUI/logs/jw']\n",
      "/root/Ankit/train_voices/Retrieval-based-Voice-Conversion-WebUI/logs/jw\n",
      "load model(s) from hubert_base.pt\n",
      "2023-09-04 10:16:08 | INFO | fairseq.tasks.hubert_pretraining | current directory is /root/Ankit/train_voices/Retrieval-based-Voice-Conversion-WebUI\n",
      "2023-09-04 10:16:08 | INFO | fairseq.tasks.hubert_pretraining | HubertPretrainingTask Config {'_name': 'hubert_pretraining', 'data': 'metadata', 'fine_tuning': False, 'labels': ['km'], 'label_dir': 'label', 'label_rate': 50.0, 'sample_rate': 16000, 'normalize': False, 'enable_padding': False, 'max_keep_size': None, 'max_sample_size': 250000, 'min_sample_size': 32000, 'single_target': False, 'random_crop': True, 'pad_audio': False}\n",
      "2023-09-04 10:16:08 | INFO | fairseq.models.hubert.hubert | HubertModel Config: {'_name': 'hubert', 'label_rate': 50.0, 'extractor_mode': default, 'encoder_layers': 12, 'encoder_embed_dim': 768, 'encoder_ffn_embed_dim': 3072, 'encoder_attention_heads': 12, 'activation_fn': gelu, 'layer_type': transformer, 'dropout': 0.1, 'attention_dropout': 0.1, 'activation_dropout': 0.0, 'encoder_layerdrop': 0.05, 'dropout_input': 0.1, 'dropout_features': 0.1, 'final_dim': 256, 'untie_final_proj': True, 'layer_norm_first': False, 'conv_feature_layers': '[(512,10,5)] + [(512,3,2)] * 4 + [(512,2,2)] * 2', 'conv_bias': False, 'logit_temp': 0.1, 'target_glu': False, 'feature_grad_mult': 0.1, 'mask_length': 10, 'mask_prob': 0.8, 'mask_selection': static, 'mask_other': 0.0, 'no_mask_overlap': False, 'mask_min_space': 1, 'mask_channel_length': 10, 'mask_channel_prob': 0.0, 'mask_channel_selection': static, 'mask_channel_other': 0.0, 'no_mask_channel_overlap': False, 'mask_channel_min_space': 1, 'conv_pos': 128, 'conv_pos_groups': 16, 'latent_temp': [2.0, 0.5, 0.999995], 'skip_masked': False, 'skip_nomask': False, 'checkpoint_activations': False, 'required_seq_len_multiple': 2, 'depthwise_conv_kernel_size': 31, 'attn_type': '', 'pos_enc_type': 'abs', 'fp16': False}\n",
      "2023-09-04 10:16:09 | INFO | httpx | HTTP Request: POST http://127.0.0.1:7861/api/predict \"HTTP/1.1 200 OK\"\n",
      "2023-09-04 10:16:10 | INFO | httpx | HTTP Request: POST http://127.0.0.1:7861/api/predict \"HTTP/1.1 200 OK\"\n",
      "2023-09-04 10:16:11 | INFO | httpx | HTTP Request: POST http://127.0.0.1:7861/api/predict \"HTTP/1.1 200 OK\"\n",
      "move model to cuda\n",
      "all-feature-534\n",
      "all-feature-done\n",
      "2023-09-04 10:16:12 | INFO | httpx | HTTP Request: POST http://127.0.0.1:7861/api/predict \"HTTP/1.1 200 OK\"\n",
      "['extract_f0_print.py', '/root/Ankit/train_voices/Retrieval-based-Voice-Conversion-WebUI/logs/jw', '4', 'harvest']\n",
      "todo-f0-134\n",
      "f0ing,now-0,all-134,-/root/Ankit/train_voices/Retrieval-based-Voice-Conversion-WebUI/logs/jw/1_16k_wavs/0_0.wav\n",
      "f0ing,now-26,all-134,-/root/Ankit/train_voices/Retrieval-based-Voice-Conversion-WebUI/logs/jw/1_16k_wavs/1_20.wav\n",
      "f0ing,now-52,all-134,-/root/Ankit/train_voices/Retrieval-based-Voice-Conversion-WebUI/logs/jw/1_16k_wavs/2_38.wav\n",
      "f0ing,now-78,all-134,-/root/Ankit/train_voices/Retrieval-based-Voice-Conversion-WebUI/logs/jw/1_16k_wavs/3_50.wav\n",
      "f0ing,now-104,all-134,-/root/Ankit/train_voices/Retrieval-based-Voice-Conversion-WebUI/logs/jw/1_16k_wavs/4_7.wav\n",
      "f0ing,now-130,all-134,-/root/Ankit/train_voices/Retrieval-based-Voice-Conversion-WebUI/logs/jw/1_16k_wavs/5_83.wav\n",
      "todo-f0-134\n",
      "f0ing,now-0,all-134,-/root/Ankit/train_voices/Retrieval-based-Voice-Conversion-WebUI/logs/jw/1_16k_wavs/0_10.wav\n",
      "f0ing,now-26,all-134,-/root/Ankit/train_voices/Retrieval-based-Voice-Conversion-WebUI/logs/jw/1_16k_wavs/1_21.wav\n",
      "f0ing,now-52,all-134,-/root/Ankit/train_voices/Retrieval-based-Voice-Conversion-WebUI/logs/jw/1_16k_wavs/2_39.wav\n",
      "f0ing,now-78,all-134,-/root/Ankit/train_voices/Retrieval-based-Voice-Conversion-WebUI/logs/jw/1_16k_wavs/3_51.wav\n",
      "f0ing,now-104,all-134,-/root/Ankit/train_voices/Retrieval-based-Voice-Conversion-WebUI/logs/jw/1_16k_wavs/4_70.wav\n",
      "f0ing,now-130,all-134,-/root/Ankit/train_voices/Retrieval-based-Voice-Conversion-WebUI/logs/jw/1_16k_wavs/5_84.wav\n",
      "todo-f0-133\n",
      "todo-f0-133\n",
      "f0ing,now-0,all-133,-/root/Ankit/train_voices/Retrieval-based-Voice-Conversion-WebUI/logs/jw/1_16k_wavs/0_11.wav\n",
      "f0ing,now-0,all-133,-/root/Ankit/train_voices/Retrieval-based-Voice-Conversion-WebUI/logs/jw/1_16k_wavs/0_12.wav\n",
      "f0ing,now-26,all-133,-/root/Ankit/train_voices/Retrieval-based-Voice-Conversion-WebUI/logs/jw/1_16k_wavs/1_23.wav\n",
      "f0ing,now-26,all-133,-/root/Ankit/train_voices/Retrieval-based-Voice-Conversion-WebUI/logs/jw/1_16k_wavs/1_24.wav\n",
      "f0ing,now-52,all-133,-/root/Ankit/train_voices/Retrieval-based-Voice-Conversion-WebUI/logs/jw/1_16k_wavs/2_4.wav\n",
      "f0ing,now-52,all-133,-/root/Ankit/train_voices/Retrieval-based-Voice-Conversion-WebUI/logs/jw/1_16k_wavs/2_40.wav\n",
      "f0ing,now-78,all-133,-/root/Ankit/train_voices/Retrieval-based-Voice-Conversion-WebUI/logs/jw/1_16k_wavs/3_52.wav\n",
      "f0ing,now-78,all-133,-/root/Ankit/train_voices/Retrieval-based-Voice-Conversion-WebUI/logs/jw/1_16k_wavs/3_54.wav\n",
      "f0ing,now-104,all-133,-/root/Ankit/train_voices/Retrieval-based-Voice-Conversion-WebUI/logs/jw/1_16k_wavs/4_71.wav\n",
      "f0ing,now-104,all-133,-/root/Ankit/train_voices/Retrieval-based-Voice-Conversion-WebUI/logs/jw/1_16k_wavs/4_72.wav\n",
      "f0ing,now-130,all-133,-/root/Ankit/train_voices/Retrieval-based-Voice-Conversion-WebUI/logs/jw/1_16k_wavs/5_85.wav\n",
      "f0ing,now-130,all-133,-/root/Ankit/train_voices/Retrieval-based-Voice-Conversion-WebUI/logs/jw/1_16k_wavs/5_86.wav\n",
      "['extract_feature_print.py', 'cuda:0', '1', '0', '0', '/root/Ankit/train_voices/Retrieval-based-Voice-Conversion-WebUI/logs/jw']\n",
      "/root/Ankit/train_voices/Retrieval-based-Voice-Conversion-WebUI/logs/jw\n",
      "load model(s) from hubert_base.pt\n",
      "move model to cuda\n",
      "all-feature-534\n",
      "all-feature-done\n",
      "\n",
      "2023-09-04 10:16:13 | INFO | httpx | HTTP Request: POST http://127.0.0.1:7861/api/predict \"HTTP/1.1 200 OK\"\n",
      "2023-09-04 10:16:13 | INFO | httpx | HTTP Request: POST http://127.0.0.1:7861/api/predict \"HTTP/1.1 200 OK\"\n",
      "2023-09-04 10:16:13 | INFO | httpx | HTTP Request: POST http://127.0.0.1:7861/reset \"HTTP/1.1 200 OK\"\n",
      "2023-09-04 10:16:23 | INFO | httpx | HTTP Request: POST http://127.0.0.1:7861/api/predict \"HTTP/1.1 200 OK\"\n",
      "2023-09-04 10:16:23 | INFO | httpx | HTTP Request: POST http://127.0.0.1:7861/api/predict \"HTTP/1.1 200 OK\"\n",
      "2023-09-04 10:16:34 | INFO | httpx | HTTP Request: POST http://127.0.0.1:7861/api/predict \"HTTP/1.1 200 OK\"\n",
      "2023-09-04 10:16:35 | INFO | httpx | HTTP Request: POST http://127.0.0.1:7861/api/predict \"HTTP/1.1 200 OK\"\n",
      "2023-09-04 10:16:35 | INFO | httpx | HTTP Request: POST http://127.0.0.1:7861/api/predict \"HTTP/1.1 200 OK\"\n",
      "2023-09-04 10:16:35 | INFO | httpx | HTTP Request: POST http://127.0.0.1:7861/reset \"HTTP/1.1 200 OK\"\n",
      "write filelist done\n",
      "use gpus: 0\n",
      "python3 train_nsf_sim_cache_sid_load_pretrain.py -e jw -sr 40k -f0 1 -bs 7 -g 0 -te 50 -se 5 -pg pretrained/f0G40k.pth -pd pretrained/f0D40k.pth -l 0 -c 0\n",
      "INFO:jw:{'train': {'log_interval': 200, 'seed': 1234, 'epochs': 20000, 'learning_rate': 0.0001, 'betas': [0.8, 0.99], 'eps': 1e-09, 'batch_size': 7, 'fp16_run': True, 'lr_decay': 0.999875, 'segment_size': 12800, 'init_lr_ratio': 1, 'warmup_epochs': 0, 'c_mel': 45, 'c_kl': 1.0}, 'data': {'max_wav_value': 32768.0, 'sampling_rate': 40000, 'filter_length': 2048, 'hop_length': 400, 'win_length': 2048, 'n_mel_channels': 125, 'mel_fmin': 0.0, 'mel_fmax': None, 'training_files': './logs/jw/filelist.txt'}, 'model': {'inter_channels': 192, 'hidden_channels': 192, 'filter_channels': 768, 'n_heads': 2, 'n_layers': 6, 'kernel_size': 3, 'p_dropout': 0, 'resblock': '1', 'resblock_kernel_sizes': [3, 7, 11], 'resblock_dilation_sizes': [[1, 3, 5], [1, 3, 5], [1, 3, 5]], 'upsample_rates': [10, 10, 2, 2], 'upsample_initial_channel': 512, 'upsample_kernel_sizes': [16, 16, 4, 4], 'use_spectral_norm': False, 'gin_channels': 256, 'spk_embed_dim': 109}, 'model_dir': './logs/jw', 'experiment_dir': './logs/jw', 'save_every_epoch': 5, 'name': 'jw', 'total_epoch': 50, 'pretrainG': 'pretrained/f0G40k.pth', 'pretrainD': 'pretrained/f0D40k.pth', 'gpus': '0', 'sample_rate': '40k', 'if_f0': 1, 'if_latest': 0, 'if_cache_data_in_gpu': 0}\n",
      "WARNING:jw:/root/Ankit/train_voices/Retrieval-based-Voice-Conversion-WebUI/train is not a git repository, therefore hash value comparison will be ignored.\n",
      "INFO:torch.distributed.distributed_c10d:Added key: store_based_barrier_key:1 to store for rank: 0\n",
      "INFO:torch.distributed.distributed_c10d:Rank 0: Completed store-based barrier for key:store_based_barrier_key:1 with 1 nodes.\n",
      "gin_channels: 256 self.spk_embed_dim: 109\n",
      "INFO:jw:loaded pretrained pretrained/f0G40k.pth pretrained/f0D40k.pth\n",
      "<All keys matched successfully>\n",
      "<All keys matched successfully>\n",
      "/opt/conda/lib/python3.10/site-packages/torch/functional.py:641: UserWarning: stft with return_complex=False is deprecated. In a future pytorch release, stft will return complex tensors for all inputs, and return_complex=False will raise an error.\n",
      "Note: you can still call torch.view_as_real on the complex output to recover the old return format. (Triggered internally at ../aten/src/ATen/native/SpectralOps.cpp:862.)\n",
      "  return _VF.stft(input, n_fft, hop_length, win_length, window,  # type: ignore[attr-defined]\n",
      "/opt/conda/lib/python3.10/site-packages/torch/functional.py:641: UserWarning: stft with return_complex=False is deprecated. In a future pytorch release, stft will return complex tensors for all inputs, and return_complex=False will raise an error.\n",
      "Note: you can still call torch.view_as_real on the complex output to recover the old return format. (Triggered internally at ../aten/src/ATen/native/SpectralOps.cpp:862.)\n",
      "  return _VF.stft(input, n_fft, hop_length, win_length, window,  # type: ignore[attr-defined]\n",
      "/opt/conda/lib/python3.10/site-packages/torch/functional.py:641: UserWarning: stft with return_complex=False is deprecated. In a future pytorch release, stft will return complex tensors for all inputs, and return_complex=False will raise an error.\n",
      "Note: you can still call torch.view_as_real on the complex output to recover the old return format. (Triggered internally at ../aten/src/ATen/native/SpectralOps.cpp:862.)\n",
      "  return _VF.stft(input, n_fft, hop_length, win_length, window,  # type: ignore[attr-defined]\n",
      "/opt/conda/lib/python3.10/site-packages/torch/functional.py:641: UserWarning: stft with return_complex=False is deprecated. In a future pytorch release, stft will return complex tensors for all inputs, and return_complex=False will raise an error.\n",
      "Note: you can still call torch.view_as_real on the complex output to recover the old return format. (Triggered internally at ../aten/src/ATen/native/SpectralOps.cpp:862.)\n",
      "  return _VF.stft(input, n_fft, hop_length, win_length, window,  # type: ignore[attr-defined]\n",
      "/opt/conda/lib/python3.10/site-packages/torch/functional.py:641: UserWarning: stft with return_complex=False is deprecated. In a future pytorch release, stft will return complex tensors for all inputs, and return_complex=False will raise an error.\n",
      "Note: you can still call torch.view_as_real on the complex output to recover the old return format. (Triggered internally at ../aten/src/ATen/native/SpectralOps.cpp:862.)\n",
      "  return _VF.stft(input, n_fft, hop_length, win_length, window,  # type: ignore[attr-defined]\n",
      "INFO:torch.nn.parallel.distributed:Reducer buckets have been rebuilt in this iteration.\n",
      "/opt/conda/lib/python3.10/site-packages/torch/autograd/__init__.py:200: UserWarning: Grad strides do not match bucket view strides. This may indicate grad was not created according to the gradient layout contract, or that the param's strides changed since DDP was constructed.  This is not an error, but may impair performance.\n",
      "grad.sizes() = [64, 1, 4], strides() = [4, 1, 1]\n",
      "bucket_view.sizes() = [64, 1, 4], strides() = [4, 4, 1] (Triggered internally at ../torch/csrc/distributed/c10d/reducer.cpp:323.)\n",
      "  Variable._execution_engine.run_backward(  # Calls into the C++ engine to run the backward pass\n",
      "INFO:jw:Train Epoch: 1 [0%]\n",
      "INFO:jw:[0, 0.0001]\n",
      "INFO:jw:loss_disc=2.679, loss_gen=2.501, loss_fm=9.286,loss_mel=35.855, loss_kl=5.000\n",
      "DEBUG:matplotlib:matplotlib data path: /opt/conda/lib/python3.10/site-packages/matplotlib/mpl-data\n",
      "DEBUG:matplotlib:CONFIGDIR=/root/.config/matplotlib\n",
      "DEBUG:matplotlib:interactive is False\n",
      "DEBUG:matplotlib:platform is linux\n",
      "DEBUG:matplotlib:loaded modules: ['sys', 'builtins', '_frozen_importlib', '_imp', '_thread', '_warnings', '_weakref', '_io', 'marshal', 'posix', '_frozen_importlib_external', 'time', 'zipimport', '_codecs', 'codecs', 'encodings.aliases', 'encodings', 'encodings.utf_8', '_signal', '_abc', 'abc', 'io', '__main__', '_stat', 'stat', '_collections_abc', 'genericpath', 'posixpath', 'os.path', 'os', '_sitebuiltins', '_distutils_hack', 'types', 'importlib._bootstrap', 'importlib._bootstrap_external', 'warnings', 'importlib', 'importlib._abc', 'itertools', 'keyword', '_operator', 'operator', 'reprlib', '_collections', 'collections', '_functools', 'functools', 'contextlib', 'importlib.util', 'importlib.machinery', 'mpl_toolkits', 'ruamel', 'sphinxcontrib', 'zope', 'site', '_weakrefset', 'threading', 'enum', 'signal', 'multiprocessing.process', 'copyreg', '_struct', 'struct', '_sre', 'sre_constants', 'sre_parse', 'sre_compile', '_locale', 're', '_compat_pickle', '_pickle', 'pickle', '_socket', 'collections.abc', 'math', 'select', 'selectors', 'errno', 'array', 'socket', 'multiprocessing.reduction', 'multiprocessing.context', '__mp_main__', 'multiprocessing', 'runpy', 'weakref', 'atexit', 'fcntl', '_posixsubprocess', 'subprocess', 'multiprocessing.util', 'multiprocessing.spawn', '_multiprocessing', '_posixshmem', 'multiprocessing.resource_tracker', 'pkgutil', 'token', 'tokenize', 'linecache', 'traceback', 'fnmatch', 'glob', 'gettext', 'argparse', '_string', 'string', 'logging', '_json', 'json.scanner', 'json.decoder', 'json.encoder', 'json', 'numpy._globals', 'numpy.__config__', 'numpy._distributor_init', '__future__', 'numpy._version', 'numpy.version', '_datetime', 'datetime', 'numpy.core._multiarray_umath', 'numpy.compat._inspect', 'numpy.compat._pep440', 'ntpath', 'urllib', 'urllib.parse', 'pathlib', 'numpy.compat.py3k', 'numpy.compat', 'numpy.core.overrides', 'numpy.core.multiarray', 'numpy.core.umath', 'numbers', 'numpy.core._string_helpers', 'numpy.core._dtype', 'numpy.core._type_aliases', 'numpy.core.numerictypes', 'numpy.core._exceptions', 'numpy.core._methods', 'numpy.core.fromnumeric', 'numpy.core.shape_base', 'numpy.core._ufunc_config', 'numpy.core.arrayprint', 'numpy.core._asarray', 'numpy.core.numeric', 'numpy.core.defchararray', 'numpy.core.records', 'numpy.core.memmap', 'numpy.core.function_base', 'numpy.core._machar', 'numpy.core.getlimits', 'numpy.core.einsumfunc', 'numpy.core._multiarray_tests', 'numpy.core._add_newdocs', 'platform', 'numpy.core._add_newdocs_scalars', 'numpy.core._dtype_ctypes', '_ast', 'ast', '_ctypes', 'ctypes._endian', 'ctypes', 'numpy.core._internal', 'numpy._pytesttester', 'numpy.core', 'numpy.lib.mixins', 'numpy.lib.ufunclike', 'numpy.lib.type_check', 'numpy.lib.scimath', 'numpy.lib.stride_tricks', 'numpy.lib.twodim_base', 'numpy.linalg._umath_linalg', 'numpy.linalg.linalg', 'numpy.linalg', 'numpy.matrixlib.defmatrix', 'numpy.matrixlib', 'numpy.lib.histograms', 'numpy.lib.function_base', 'numpy.lib.index_tricks', 'numpy.lib.nanfunctions', 'numpy.lib.shape_base', 'numpy.lib.polynomial', 'textwrap', 'numpy.lib.utils', 'numpy.lib.arraysetops', 'numpy.lib.format', 'numpy.lib._datasource', 'numpy.lib._iotools', 'numpy.lib.npyio', 'numpy.lib.arrayterator', 'numpy.lib.arraypad', 'numpy.lib._version', 'numpy.lib', 'numpy.fft._pocketfft_internal', 'numpy.fft._pocketfft', 'numpy.fft.helper', 'numpy.fft', 'numpy.polynomial.polyutils', 'numpy.polynomial._polybase', 'numpy.polynomial.polynomial', 'numpy.polynomial.chebyshev', 'numpy.polynomial.legendre', 'numpy.polynomial.hermite', 'numpy.polynomial.hermite_e', 'numpy.polynomial.laguerre', 'numpy.polynomial', 'cython_runtime', '_cython_0_29_32', 'numpy.random._common', 'binascii', 'base64', '_hashlib', '_blake2', 'hashlib', 'hmac', '_bisect', 'bisect', '_random', '_sha512', 'random', 'secrets', 'numpy.random.bit_generator', 'numpy.random._bounded_integers', 'numpy.random._mt19937', 'numpy.random.mtrand', 'numpy.random._philox', 'numpy.random._pcg64', 'numpy.random._sfc64', 'numpy.random._generator', 'numpy.random._pickle', 'numpy.random', 'numpy.ctypeslib', '_opcode', 'opcode', 'dis', 'inspect', 'numpy.ma.core', 'numpy.ma.extras', 'numpy.ma', 'numpy', 'scipy._lib._testutils', 'scipy._lib', 'scipy._lib.deprecation', 'scipy.__config__', 'scipy.version', 'scipy._distributor_init', 'scipy._lib._pep440', 'scipy._lib._ccallback_c', 'scipy._lib._ccallback', 'scipy', 'scipy._lib.doccer', 'scipy.io.matlab._byteordercodes', 'scipy.io.matlab._miobase', 'typing.io', 'typing.re', 'typing', 'scipy._lib._util', 'scipy.sparse._sputils', 'scipy.sparse._base', 'scipy.sparse._sparsetools', 'scipy.sparse._data', 'scipy.sparse._index', 'scipy.sparse._compressed', 'scipy.sparse._csr', 'scipy.sparse._csc', 'scipy.sparse._csparsetools', 'scipy.sparse._lil', 'scipy.sparse._dok', 'scipy.sparse._coo', 'scipy.sparse._dia', 'scipy.sparse._bsr', 'scipy.sparse._construct', 'scipy.sparse._extract', 'scipy.sparse._matrix_io', 'scipy.sparse._arrays', 'scipy.sparse.linalg._isolve._iterative', 'scipy.sparse.linalg._interface', 'scipy.sparse.linalg._isolve.utils', 'scipy._lib.decorator', 'scipy._lib._threadsafety', 'scipy.sparse.linalg._isolve.iterative', 'scipy.sparse.linalg._isolve.minres', 'scipy.linalg._fblas', 'scipy.linalg.blas', 'scipy.linalg._flapack', 'scipy.linalg.lapack', 'scipy.linalg._misc', 'scipy.linalg._cythonized_array_utils', 'scipy.linalg._flinalg', 'scipy.linalg._flinalg_py', 'scipy.linalg._decomp', 'scipy.linalg._decomp_svd', 'scipy.linalg._solve_toeplitz', 'scipy.linalg._basic', 'scipy.linalg._decomp_lu', 'scipy.linalg._decomp_ldl', 'scipy.linalg._decomp_cholesky', 'scipy.linalg._decomp_qr', 'scipy.linalg._decomp_qz', 'scipy.linalg._decomp_schur', 'scipy.linalg._decomp_polar', 'scipy.linalg._special_matrices', 'scipy.linalg._expm_frechet', 'scipy.linalg._matfuncs_sqrtm_triu', 'scipy.linalg._matfuncs_sqrtm', 'scipy.linalg.cython_lapack', 'scipy.linalg.cython_blas', 'scipy.linalg._matfuncs_expm', 'scipy.linalg._matfuncs', 'scipy.linalg._solvers', 'scipy.linalg._procrustes', 'scipy.linalg._decomp_update', 'scipy.linalg._sketches', 'scipy.linalg._decomp_cossin', 'scipy.linalg.decomp', 'scipy.linalg.decomp_cholesky', 'scipy.linalg.decomp_lu', 'scipy.linalg.decomp_qr', 'scipy.linalg.decomp_svd', 'scipy.linalg.decomp_schur', 'scipy.linalg.basic', 'scipy.linalg.misc', 'scipy.linalg.special_matrices', 'scipy.linalg.flinalg', 'scipy.linalg.matfuncs', 'scipy.linalg', 'scipy.sparse.linalg._isolve._gcrotmk', 'scipy.sparse.linalg._isolve.lgmres', 'scipy.sparse.linalg._isolve.lsqr', 'scipy.sparse.linalg._isolve.lsmr', 'scipy.sparse.linalg._isolve.tfqmr', 'scipy.sparse.linalg._isolve', 'copy', 'scipy.sparse.linalg._dsolve._superlu', 'scipy.sparse.linalg._dsolve.linsolve', 'scipy.sparse.linalg._dsolve._add_newdocs', 'scipy.sparse.linalg._dsolve', 'scipy.sparse.linalg._eigen.arpack._arpack', 'scipy.sparse.linalg._eigen.arpack.arpack', 'scipy.sparse.linalg._eigen.arpack', 'scipy.sparse.linalg._eigen.lobpcg.lobpcg', 'scipy.sparse.linalg._eigen.lobpcg', 'scipy.sparse.linalg._eigen._svds', 'scipy.sparse.linalg._eigen', 'scipy.sparse.linalg._onenormest', 'scipy.sparse.linalg._expm_multiply', 'scipy.sparse.linalg._matfuncs', 'scipy.sparse.linalg._norm', 'scipy.sparse.linalg.isolve', 'scipy.sparse.linalg.dsolve', 'scipy.sparse.linalg.interface', 'scipy.sparse.linalg.eigen', 'scipy.sparse.linalg.matfuncs', 'scipy.sparse.linalg', 'scipy.sparse.csgraph._laplacian', 'scipy.sparse.csgraph._tools', 'scipy.sparse.csgraph._validation', 'scipy.sparse.csgraph._shortest_path', 'scipy.sparse.csgraph._traversal', 'scipy.sparse.csgraph._min_spanning_tree', 'scipy.sparse.csgraph._flow', 'scipy.sparse.csgraph._matching', 'scipy.sparse.csgraph._reordering', 'scipy.sparse.csgraph', 'scipy.sparse.base', 'scipy.sparse.bsr', 'scipy.sparse.compressed', 'scipy.sparse.construct', 'scipy.sparse.coo', 'scipy.sparse.csc', 'scipy.sparse.csr', 'scipy.sparse.data', 'scipy.sparse.dia', 'scipy.sparse.dok', 'scipy.sparse.extract', 'scipy.sparse.lil', 'scipy.sparse.sparsetools', 'scipy.sparse.sputils', 'scipy.sparse', 'scipy.io.matlab._mio_utils', 'scipy.io.matlab._mio4', 'zlib', 'scipy.io.matlab._streams', 'scipy.io.matlab._mio5_params', 'scipy.io.matlab._mio5_utils', 'scipy.io.matlab._mio5', 'scipy.io.matlab._mio', 'scipy.io.matlab.mio', 'scipy.io.matlab.mio5', 'scipy.io.matlab.mio5_params', 'scipy.io.matlab.mio4', 'scipy.io.matlab.byteordercodes', 'scipy.io.matlab.miobase', 'scipy.io.matlab.mio_utils', 'scipy.io.matlab.streams', 'scipy.io.matlab.mio5_utils', 'scipy.io.matlab', 'mmap', 'scipy.io._netcdf', 'scipy.io._fortran', 'scipy.io._mmio', '_compression', '_bz2', 'bz2', '_lzma', 'lzma', 'shutil', 'tempfile', 'scipy.io._idl', 'scipy.io._harwell_boeing._fortran_format_parser', 'scipy.io._harwell_boeing.hb', 'scipy.io._harwell_boeing', '_csv', 'csv', 'scipy.io.arff._arffread', 'scipy.io.arff.arffread', 'scipy.io.arff', 'scipy.io.harwell_boeing', 'scipy.io.idl', 'scipy.io.mmio', 'scipy.io.netcdf', 'scipy.io.wavfile', 'scipy.io', 'torch._utils', 'torch._utils_internal', 'torch.version', 'torch.torch_version', 'torch._C._onnx', 'torch._C._jit', 'torch._C._jit_tree_views', 'torch._C._te', 'torch._C._monitor', 'torch._C._functorch', 'torch._C._profiler', 'torch._C.cpp', 'torch._C.cpp.nn', 'torch._C._lazy', 'torch._C._lazy_ts_backend', 'torch._C._itt', 'torch._C._cudart', 'torch._C._nvtx', 'torch._C._cudnn', 'torch._C._verbose', 'torch._C', 'torch._C._dynamo', 'torch._C._fft', 'torch._C._linalg', 'torch._C._nested', 'torch._C._nn', 'torch._C._return_types', 'torch._C._sparse', 'torch._C._special', 'torch.utils.throughput_benchmark', 'torch.utils._crash_handler', 'torch.utils.cpp_backtrace', 'torch.utils.backend_registration', 'torch.utils', 'torch.utils.hooks', 'torch._namedtensor_internals', 'torch.overrides', 'torch.utils.dlpack', 'torch._tensor', 'torch.types', 'torch.storage', 'torch.random', '_heapq', 'heapq', 'difflib', 'pwd', 'grp', 'tarfile', 'torch._sources', 'typing_extensions', 'torch._weights_only_unpickler', 'torch.serialization', 'torch._tensor_str', 'torch.amp.autocast_mode', 'torch.amp', 'torch.cuda._utils', 'gc', 'dataclasses', 'torch.utils._pytree', 'torch.cuda.graphs', 'torch.cuda.streams', 'torch.cuda._memory_viz', 'torch.cuda.memory', 'torch.cuda.random', 'torch.cuda.sparse', 'torch.cuda.profiler', 'torch.cuda.nvtx', 'torch.cuda.amp.autocast_mode', 'torch.cuda.amp.common', 'torch.cuda.amp.grad_scaler', 'torch.cuda.amp', 'torch.cuda.jiterator', 'torch.cuda', 'torch.sparse', 'torch.backends', 'torch.backends.opt_einsum', 'torch.nn.parameter', 'torch.nn.modules.module', 'torch._VF', 'torch._torch_docs', 'torch._C._distributed_c10d', 'torch.autograd.variable', 'torch._functorch', 'torch.utils._contextlib', 'torch.autograd.grad_mode', 'torch.autograd.forward_ad', 'torch._functorch.pyfunctorch', 'torch._ops', 'torch._functorch.utils', 'torch._functorch.pytree_hacks', 'torch._functorch.vmap', 'torch._functorch.autograd_function', 'torch.autograd.function', 'cmath', 'torch.testing._comparison', 'torch.testing._creation', 'torch.testing', 'torch._vmap_internals', 'torch.autograd.gradcheck', 'torch.autograd.anomaly_mode', 'torch.autograd.functional', 'torch.utils._python_dispatch', 'torch.autograd.graph', 'torch._C._autograd', 'torch.autograd.profiler_util', 'torch.futures', 'torch.autograd.profiler', 'torch.autograd', 'torch.distributed.constants', 'torch.distributed.logging_handlers', 'torch.distributed.c10d_error_logger', 'torch.distributed.rendezvous', 'torch.distributed.distributed_c10d', 'torch.distributed.remote_device', 'torch.distributed', 'torch._C._distributed_rpc', 'torch.distributed.rpc.internal', 'torch.distributed.rpc.constants', 'torch.distributed.rpc._utils', 'torch.distributed.rpc.api', 'torch.distributed.rpc.backend_registry', 'torch.distributed.rpc.functions', 'torch._C._distributed_autograd', 'torch.distributed.autograd', 'torch.distributed.rpc.options', 'torch.autograd.profiler_legacy', 'torch.distributed.rpc.server_process_global_profiler', 'torch.distributed.rpc', 'pickletools', 'torch.package._digraph', 'torch.package._importlib', 'torch.package._mangling', 'torch.package.importer', 'torch.package._package_pickler', 'torch.package._stdlib', 'torch.package.find_file_dependencies', 'torch.package.glob_group', 'torch.package.package_exporter', 'torch.package.analyze.find_first_use_of_broken_modules', 'torch.package.analyze.trace_dependencies', 'torch.package.analyze', 'torch.package.analyze.is_from_package', 'torch.package.file_structure_representation', 'torch.package._directory_reader', 'torch.package._package_unpickler', 'torch.package.package_importer', 'torch.package', 'torch._awaits', 'torch._jit_internal', 'torch.nn._reduction', 'torch.nn.modules.utils', 'torch.nn.grad', 'torch.nn.functional', 'torch.nn.init', 'torch.nn.modules.lazy', 'torch.nn.modules.linear', 'torch.nn.common_types', 'torch.nn.modules.conv', 'torch.nn.modules.activation', 'torch.nn.modules.distance', 'torch.nn.modules.loss', 'torch.nn.modules.container', 'torch.nn.modules.pooling', 'torch.nn.modules._functions', 'torch.nn.modules.batchnorm', 'torch.nn.modules.instancenorm', 'torch.nn.modules.normalization', 'torch.nn.modules.dropout', 'torch.nn.modules.padding', 'torch.nn.modules.sparse', 'torch.nn.utils.rnn', 'torch.utils._foreach_utils', 'torch.nn.utils.clip_grad', 'torch.nn.utils.weight_norm', 'torch.nn.utils.convert_parameters', 'torch.nn.utils.spectral_norm', 'torch.nn.utils.fusion', 'torch.nn.utils.memory_format', 'torch.nn.utils.parametrize', 'torch.nn.utils.parametrizations', 'torch.nn.utils.init', 'torch.nn.utils._named_member_accessor', 'torch.nn.utils.stateless', 'torch.nn.utils', 'torch.nn.modules.rnn', 'torch.nn.modules.pixelshuffle', 'torch.nn.modules.upsampling', 'torch.nn.modules.fold', 'torch.nn.modules.adaptive', 'torch.nn.modules.transformer', 'torch.nn.modules.flatten', 'torch.nn.modules.channelshuffle', 'torch.nn.modules', 'torch.nn.parallel.parallel_apply', 'torch.cuda.nccl', 'torch.nn.parallel.comm', 'torch.nn.parallel.replicate', 'torch.nn.parallel._functions', 'torch.nn.parallel.scatter_gather', 'torch.nn.parallel.data_parallel', 'torch.distributed.algorithms.join', 'torch.distributed.algorithms', 'torch.distributed.utils', 'torch.nn.parallel._replicated_tensor_ddp_utils', 'torch.nn.parallel.distributed', 'torch.nn.parallel', 'torch.nn', 'torch._linalg_utils', 'torch._lowrank', 'torch.functional', 'torch.cpu.amp.autocast_mode', 'torch.cpu.amp', 'torch.cpu', 'torch.fft', 'torch.nested', 'torch.signal.windows.windows', 'torch.signal.windows', 'torch.signal', 'torch.optim.optimizer', 'torch.optim.adadelta', 'torch.optim.adagrad', 'torch.optim.adam', 'torch.optim.adamw', 'torch.optim.adamax', 'torch.optim.asgd', 'torch.optim.nadam', 'torch.optim.radam', 'torch.optim.rmsprop', 'torch.optim.rprop', 'torch.optim.sgd', 'torch.optim._functional', 'torch.optim.sparse_adam', 'torch.optim.lbfgs', 'torch.optim.lr_scheduler', 'torch.optim.swa_utils', 'torch.optim', 'torch.optim._multi_tensor', 'multiprocessing.resource_sharer', 'torch.multiprocessing.reductions', 'multiprocessing.connection', 'torch.multiprocessing.spawn', 'torch.multiprocessing', 'torch.special', 'torch.utils.backcompat', 'torch.onnx._deprecation', 'torch.onnx._constants', 'torch.onnx._internal', 'pprint', 'torch.onnx._exporter_states', 'torch.onnx._globals', 'torch.onnx._internal._beartype', 'torch.onnx._internal.diagnostics.infra.sarif._property_bag', 'torch.onnx._internal.diagnostics.infra.sarif._address', 'torch.onnx._internal.diagnostics.infra.sarif._multiformat_message_string', 'torch.onnx._internal.diagnostics.infra.sarif._artifact_content', 'torch.onnx._internal.diagnostics.infra.sarif._message', 'torch.onnx._internal.diagnostics.infra.sarif._artifact_location', 'torch.onnx._internal.diagnostics.infra.sarif._artifact', 'torch.onnx._internal.diagnostics.infra.sarif._region', 'torch.onnx._internal.diagnostics.infra.sarif._replacement', 'torch.onnx._internal.diagnostics.infra.sarif._artifact_change', 'torch.onnx._internal.diagnostics.infra.sarif._rectangle', 'torch.onnx._internal.diagnostics.infra.sarif._attachment', 'torch.onnx._internal.diagnostics.infra.sarif._location_relationship', 'torch.onnx._internal.diagnostics.infra.sarif._logical_location', 'torch.onnx._internal.diagnostics.infra.sarif._physical_location', 'torch.onnx._internal.diagnostics.infra.sarif._location', 'torch.onnx._internal.diagnostics.infra.sarif._tool_component_reference', 'torch.onnx._internal.diagnostics.infra.sarif._reporting_descriptor_reference', 'torch.onnx._internal.diagnostics.infra.sarif._stack_frame', 'torch.onnx._internal.diagnostics.infra.sarif._stack', 'torch.onnx._internal.diagnostics.infra.sarif._web_request', 'torch.onnx._internal.diagnostics.infra.sarif._web_response', 'torch.onnx._internal.diagnostics.infra.sarif._thread_flow_location', 'torch.onnx._internal.diagnostics.infra.sarif._thread_flow', 'torch.onnx._internal.diagnostics.infra.sarif._code_flow', 'torch.onnx._internal.diagnostics.infra.sarif._reporting_configuration', 'torch.onnx._internal.diagnostics.infra.sarif._configuration_override', 'torch.onnx._internal.diagnostics.infra.sarif._exception', 'torch.onnx._internal.diagnostics.infra.sarif._notification', 'torch.onnx._internal.diagnostics.infra.sarif._invocation', 'torch.onnx._internal.diagnostics.infra.sarif._reporting_descriptor_relationship', 'torch.onnx._internal.diagnostics.infra.sarif._reporting_descriptor', 'torch.onnx._internal.diagnostics.infra.sarif._translation_metadata', 'torch.onnx._internal.diagnostics.infra.sarif._tool_component', 'torch.onnx._internal.diagnostics.infra.sarif._tool', 'torch.onnx._internal.diagnostics.infra.sarif._conversion', 'torch.onnx._internal.diagnostics.infra.sarif._edge', 'torch.onnx._internal.diagnostics.infra.sarif._edge_traversal', 'torch.onnx._internal.diagnostics.infra.sarif._node', 'torch.onnx._internal.diagnostics.infra.sarif._graph', 'torch.onnx._internal.diagnostics.infra.sarif._fix', 'torch.onnx._internal.diagnostics.infra.sarif._graph_traversal', 'torch.onnx._internal.diagnostics.infra.sarif._result_provenance', 'torch.onnx._internal.diagnostics.infra.sarif._suppression', 'torch.onnx._internal.diagnostics.infra.sarif._result', 'torch.onnx._internal.diagnostics.infra.sarif._external_properties', 'torch.onnx._internal.diagnostics.infra.sarif._external_property_file_reference', 'torch.onnx._internal.diagnostics.infra.sarif._external_property_file_references', 'torch.onnx._internal.diagnostics.infra.sarif._run_automation_details', 'torch.onnx._internal.diagnostics.infra.sarif._special_locations', 'torch.onnx._internal.diagnostics.infra.sarif._version_control_details', 'torch.onnx._internal.diagnostics.infra.sarif._run', 'torch.onnx._internal.diagnostics.infra.sarif._sarif_log', 'torch.onnx._internal.diagnostics.infra.sarif', 'torch.onnx._internal.diagnostics.infra.formatter', 'torch.onnx._internal.diagnostics.infra._infra', 'gzip', 'torch.onnx._internal.diagnostics.infra.utils', 'torch.onnx._internal.diagnostics.infra.sarif.version', 'torch.onnx._internal.diagnostics.infra.engine', 'torch.onnx._internal.diagnostics.infra', 'torch.onnx._internal.diagnostics._diagnostic', 'torch.onnx._internal.diagnostics._rules', 'torch.onnx._internal.diagnostics', 'torch.onnx.errors', 'torch.onnx._type_utils', 'torch.onnx._internal.registration', 'torch.onnx._internal.jit_utils', 'torch.onnx.symbolic_helper', 'torch.onnx.symbolic_opset9', 'torch.onnx.symbolic_caffe2', 'torch.onnx.symbolic_opset7', 'torch.onnx.symbolic_opset8', 'torch.onnx.symbolic_opset10', 'torch.jit._dataclass_impls', 'torch.jit._monkeytype_config', 'torch.jit._state', 'torch.jit.annotations', 'torch.jit.frontend', 'torch.backends.cudnn', 'torch.jit._builtins', 'torch.jit._check', 'torch.jit._recursive', 'torch.jit._fuser', 'torch.jit._serialization', 'torch._classes', 'torch.jit._script', 'torch.jit._trace', 'torch.jit._async', 'torch.jit._await', 'torch.jit._decomposition_utils', 'torch.jit._freeze', 'torch.jit._ir_utils', 'torch.jit', 'zipfile', 'torch.onnx._internal.onnx_proto_utils', 'torch.onnx.utils', 'torch.onnx.symbolic_opset11', 'torch.onnx.symbolic_opset12', 'torch.onnx.symbolic_opset13', 'torch.onnx.symbolic_opset14', 'torch.onnx.symbolic_opset15', 'torch.onnx.symbolic_opset16', 'torch.onnx.symbolic_opset17', 'torch.onnx.symbolic_opset18', 'torch.onnx', 'torch.linalg', 'urllib.response', 'urllib.error', 'email', 'http', 'email.errors', 'email.quoprimime', 'email.base64mime', 'quopri', 'email.encoders', 'email.charset', 'email.header', 'locale', 'calendar', 'email._parseaddr', 'email.utils', 'email._policybase', 'email.feedparser', 'email.parser', 'uu', 'email._encoded_words', 'email.iterators', 'email.message', '_ssl', 'ssl', 'http.client', 'urllib.request', 'tqdm._monitor', 'tqdm._tqdm_pandas', 'unicodedata', 'tqdm.utils', 'tqdm.std', 'tqdm._dist_ver', 'tqdm.version', 'tqdm.cli', 'tqdm.gui', 'tqdm', 'torch.hub', 'torch.distributions.constraints', 'torch.distributions.utils', 'torch.distributions.distribution', 'torch.distributions.exp_family', 'torch.distributions.bernoulli', 'torch.distributions.dirichlet', 'torch.distributions.beta', 'torch.distributions.binomial', 'torch.distributions.categorical', 'torch.distributions.cauchy', 'torch.distributions.gamma', 'torch.distributions.chi2', 'torch.distributions.transforms', 'torch.distributions.constraint_registry', 'torch.distributions.continuous_bernoulli', 'torch.distributions.exponential', 'torch.distributions.fishersnedecor', 'torch.distributions.geometric', 'torch.distributions.uniform', 'torch.distributions.independent', 'torch.distributions.transformed_distribution', 'torch.distributions.gumbel', 'torch.distributions.half_cauchy', 'torch.distributions.normal', 'torch.distributions.half_normal', 'torch.distributions.laplace', 'torch.distributions.multivariate_normal', 'torch.distributions.lowrank_multivariate_normal', 'torch.distributions.one_hot_categorical', 'torch.distributions.pareto', 'torch.distributions.poisson', 'torch.distributions.kl', 'torch.distributions.kumaraswamy', 'torch.distributions.lkj_cholesky', 'torch.distributions.log_normal', 'torch.distributions.logistic_normal', 'torch.distributions.mixture_same_family', 'torch.distributions.multinomial', 'torch.distributions.negative_binomial', 'torch.distributions.relaxed_bernoulli', 'torch.distributions.relaxed_categorical', 'torch.distributions.studentT', 'torch.distributions.von_mises', 'torch.distributions.weibull', 'torch.distributions.wishart', 'torch.distributions', 'torch.backends.cuda', 'torch.backends.mps', 'torch.backends.mkl', 'torch.backends.mkldnn', 'torch.backends.openmp', 'torch.backends.quantized', 'torch.utils.data.sampler', 'torch.utils.data.dataset', 'torch.utils.data.datapipes._hook_iterator', 'torch.utils.data.datapipes._typing', 'torch.utils.data.datapipes.utils', '_queue', 'queue', 'torch.utils.data._utils.signal_handling', 'torch.utils.data._utils.worker', 'torch.utils.data._utils.pin_memory', 'torch.utils.data._utils.collate', 'torch.utils.data._utils.fetch', 'torch.utils.data._utils', 'dill.__info__', 'dill.logger', '_pyio', 'dill._shims', 'dill.settings', 'dill._dill', 'dill.session', 'dill.pointers', 'dill.detect', 'dill.source', 'dill.temp', 'dill.objtypes', 'dill', 'torch.utils.data._utils.serialization', 'torch.utils.data.datapipes.utils.common', 'torch.utils.data.datapipes.datapipe', 'torch.utils.data.datapipes.iter.utils', 'torch.utils.data.datapipes._decorator', 'torch.utils.data.datapipes.dataframe.dataframe_wrapper', 'torch.utils.data.datapipes.dataframe.structures', 'torch.utils.data.datapipes.dataframe.dataframes', 'torch.utils.data.datapipes.dataframe.datapipes', 'torch.utils.data.datapipes.dataframe', 'torch.utils.data.datapipes.iter.callable', 'torch.utils.data.datapipes.iter.combinatorics', 'torch.utils.data.datapipes.iter.combining', 'torch.utils.data.datapipes.iter.filelister', 'torch.utils.data.datapipes.iter.fileopener', 'torch.utils.data.datapipes.iter.sharding', 'torch.utils.data.datapipes.iter.grouping', 'torch.utils.data.datapipes.utils.decoder', 'torch.utils.data.datapipes.iter.routeddecoder', 'torch.utils.data.datapipes.iter.selecting', 'torch.utils.data.datapipes.iter.streamreader', 'torch.utils.data.datapipes.iter', 'torch.utils.data.datapipes.map.callable', 'torch.utils.data.datapipes.map.combinatorics', 'torch.utils.data.datapipes.map.combining', 'torch.utils.data.datapipes.map.grouping', 'torch.utils.data.datapipes.map.utils', 'torch.utils.data.datapipes.map', 'torch.utils.data.datapipes', 'torch.utils.data.graph', 'torch.utils.data.graph_settings', 'torch.utils.data.dataloader', 'torch.utils.data.distributed', 'torch.utils.data', 'torch.__config__', 'torch.__future__', 'torch.profiler._utils', 'torch.profiler._memory_profiler', 'torch.profiler.profiler', 'torch.profiler.itt', 'torch.profiler', 'torch.ao', 'torch.ao.nn', 'torch.ao.nn.quantizable.modules.activation', 'torch.ao.nn.quantizable.modules.rnn', 'torch.ao.nn.quantizable.modules', 'torch.ao.nn.quantizable', 'torch.nn.quantizable.modules', 'torch.nn.quantizable', 'torch.ao.nn.quantized.modules.activation', 'torch.ao.nn.quantized.modules.dropout', 'torch.ao.nn.intrinsic.modules.fused', 'torch.ao.nn.intrinsic.modules', 'torch.ao.nn.intrinsic', 'torch.ao.nn.quantized.modules.batchnorm', 'torch.ao.nn.quantized.modules.normalization', 'torch.ao.nn.qat.modules.linear', 'torch.ao.nn.qat.modules.conv', 'torch.ao.nn.qat.modules.embedding_ops', 'torch.ao.nn.qat.modules', 'torch.ao.nn.qat', 'torch.ao.nn.intrinsic.qat.modules.linear_relu', 'torch.ao.nn.intrinsic.qat.modules.linear_fused', 'torch.ao.nn.intrinsic.qat.modules.conv_fused', 'torch.ao.nn.intrinsic.qat.modules', 'torch.ao.nn.intrinsic.qat', 'torch.ao.nn.quantized.modules.utils', 'torch.ao.nn.quantized.modules.conv', 'torch.ao.nn.quantized.modules.linear', 'torch.ao.nn.quantized.modules.embedding_ops', 'torch.ao.nn.quantized.modules.rnn', 'torch.ao.nn.quantized.modules.functional_modules', 'torch.ao.nn.quantized.modules', 'torch.ao.nn.quantized.functional', 'torch.ao.nn.quantized', 'torch.ao.nn.quantized.dynamic.modules.linear', 'torch.ao.nn.quantized.dynamic.modules.rnn', 'torch.ao.nn.quantized.dynamic.modules.conv', 'torch.ao.nn.quantized.dynamic.modules', 'torch.ao.nn.quantized.dynamic', 'torch.nn.quantized.dynamic', 'torch.nn.quantized.functional', 'torch.nn.quantized.modules', 'torch.nn.quantized', 'torch.ao.nn.qat.dynamic.modules.linear', 'torch.ao.nn.qat.dynamic.modules', 'torch.ao.nn.qat.dynamic', 'torch.nn.qat.dynamic.modules.linear', 'torch.nn.qat.dynamic.modules', 'torch.nn.qat.dynamic', 'torch.nn.qat.modules.conv', 'torch.nn.qat.modules.embedding_ops', 'torch.nn.qat.modules.linear', 'torch.nn.qat.modules', 'torch.nn.qat', 'torch.nn.intrinsic.modules.fused', 'torch.nn.intrinsic.modules', 'torch.nn.intrinsic.qat.modules.linear_relu', 'torch.nn.intrinsic.qat.modules.linear_fused', 'torch.nn.intrinsic.qat.modules.conv_fused', 'torch.nn.intrinsic.qat.modules', 'torch.nn.intrinsic.qat', 'torch.ao.nn.intrinsic.quantized.modules.linear_relu', 'torch.ao.nn.intrinsic.quantized.modules.conv_relu', 'torch.ao.nn.intrinsic.quantized.modules.bn_relu', 'torch.ao.nn.intrinsic.quantized.modules.conv_add', 'torch.ao.nn.intrinsic.quantized.modules', 'torch.ao.nn.intrinsic.quantized', 'torch.nn.intrinsic.quantized.modules.linear_relu', 'torch.nn.intrinsic.quantized.modules.conv_relu', 'torch.nn.intrinsic.quantized.modules.bn_relu', 'torch.nn.intrinsic.quantized.modules', 'torch.ao.nn.intrinsic.quantized.dynamic.modules.linear_relu', 'torch.ao.nn.intrinsic.quantized.dynamic.modules', 'torch.ao.nn.intrinsic.quantized.dynamic', 'torch.nn.intrinsic.quantized.dynamic.modules.linear_relu', 'torch.nn.intrinsic.quantized.dynamic.modules', 'torch.nn.intrinsic.quantized.dynamic', 'torch.nn.intrinsic.quantized', 'torch.nn.intrinsic', 'torch._tensor_docs', 'torch._storage_docs', 'torch.ao.quantization.quant_type', 'torch.fx._compatibility', 'torch.fx.immutable_collections', 'torch.fx.operator_schemas', 'torch.fx.node', 'torch.fx._pytree', 'torch.fx.graph', 'torch.fx.graph_module', 'torch.fx.traceback', 'torch.fx.proxy', 'torch.fx._symbolic_trace', 'torch.fx.config', 'torch.fx.interpreter', 'torch.fx.subgraph_rewriter', 'torch.fx', 'torch.ao.quantization.utils', 'torch.ao.quantization.observer', 'torch.ao.quantization.fake_quantize', 'torch.ao.quantization.fuser_method_mappings', 'torch.ao.quantization.fuse_modules', 'torch.ao.quantization.qconfig', 'torch.ao.quantization.qconfig_mapping', 'torch.ao.nn.quantized.reference.modules.utils', 'torch.ao.nn.quantized.reference.modules.linear', 'torch.ao.nn.quantized.reference.modules.conv', 'torch.ao.nn.quantized.reference.modules.rnn', 'torch.ao.nn.quantized.reference.modules.sparse', 'torch.ao.nn.quantized.reference.modules', 'torch.ao.nn.quantized.reference', 'torch.ao.nn.sparse.quantized.linear', 'torch.ao.nn.sparse.quantized.utils', 'torch.ao.nn.sparse.quantized.dynamic.linear', 'torch.ao.nn.sparse.quantized.dynamic', 'torch.ao.nn.sparse.quantized', 'torch.ao.nn.sparse', 'torch.ao.quantization.stubs', 'torch.ao.quantization.quantization_mappings', 'torch.ao.quantization.quantize', 'torch.ao.quantization.quantize_jit', 'torch.ao.quantization', 'torch.quantization.quantize', 'torch.quantization.observer', 'torch.quantization.qconfig', 'torch.quantization.fake_quantize', 'torch.quantization.fuse_modules', 'torch.quantization.stubs', 'torch.quantization.quant_type', 'torch.quantization.quantize_jit', 'torch.quantization.quantization_mappings', 'torch.quantization.fuser_method_mappings', 'torch.quantization', 'torch.quasirandom', 'torch.multiprocessing._atfork', 'torch._lobpcg', 'torch.masked.maskedtensor.core', 'torch.masked.maskedtensor.binary', 'torch.masked.maskedtensor.passthrough', 'torch.masked.maskedtensor.creation', 'torch.masked.maskedtensor.reductions', 'torch.masked.maskedtensor.unary', 'torch.masked.maskedtensor', 'torch.masked._docs', 'torch.masked._ops', 'torch.masked', 'torch.return_types', 'torch.library', 'nvfuser._C', 'nvfuser', 'torch._prims_common', 'torch._prims_common.wrappers', 'torch._prims.nvfuser_prims', 'mpmath.usertools', 'gmpy2.gmpy2', 'gmpy2', 'mpmath.libmp.backend', 'mpmath.libmp.libintmath', 'mpmath.libmp.libmpf', 'mpmath.libmp.libelefun', 'mpmath.libmp.libmpc', 'mpmath.libmp.gammazeta', 'mpmath.libmp.libhyper', 'mpmath.libmp.libmpi', 'mpmath.libmp', 'mpmath.functions.functions', 'mpmath.functions.factorials', 'mpmath.functions.hypergeometric', 'mpmath.functions.expintegrals', 'mpmath.functions.bessel', 'mpmath.functions.orthogonal', 'mpmath.functions.theta', 'mpmath.functions.elliptic', 'mpmath.functions.signals', 'mpmath.functions.zeta', 'mpmath.functions.rszeta', 'mpmath.functions.zetazeros', 'mpmath.functions.qfunctions', 'mpmath.functions', 'mpmath.calculus.calculus', 'mpmath.calculus.approximation', 'mpmath.calculus.differentiation', 'mpmath.calculus.extrapolation', 'mpmath.calculus.polynomials', 'mpmath.calculus', 'mpmath.calculus.quadrature', 'mpmath.calculus.inverselaplace', 'mpmath.calculus.optimization', 'mpmath.calculus.odes', 'mpmath.matrices.eigen', 'mpmath.matrices.eigen_symmetric', 'mpmath.matrices', 'mpmath.matrices.matrices', 'mpmath.matrices.calculus', 'mpmath.matrices.linalg', 'mpmath.identification', 'colorsys', 'mpmath.visualization', 'mpmath.ctx_base', 'mpmath.math2', 'mpmath.function_docs', 'mpmath.ctx_fp', 'mpmath.rational', 'mpmath.ctx_mp_python', 'mpmath.ctx_mp', 'mpmath.ctx_iv', 'mpmath', 'sympy.release', 'sympy.utilities.enumerative', 'sympy.utilities.misc', 'cmd', 'bdb', 'codeop', 'code', 'pdb', 'timeit', 'unittest.util', 'unittest.result', 'unittest.case', 'unittest.suite', 'unittest.loader', 'unittest.signals', 'unittest.runner', 'unittest.main', 'unittest', 'doctest', 'sympy.core.cache', 'sympy.external.importtools', 'sympy.external', 'sympy.external.gmpy', 'sympy.testing.runtests', 'sympy.testing', 'sympy.utilities.exceptions', 'sympy.utilities.decorator', 'sympy.utilities.iterables', 'sympy.utilities.lambdify', 'sympy.utilities.source', 'sympy.utilities.timeutils', 'sympy.utilities', 'sympy.core.random', 'sympy.core.parameters', 'sympy.core.logic', 'sympy.core.facts', 'sympy.core.core', 'sympy.core.assumptions', 'sympy.core.sorting', 'sympy.multipledispatch.utils', 'sympy.multipledispatch.conflict', 'sympy.multipledispatch.dispatcher', 'sympy.multipledispatch.core', 'sympy.multipledispatch', 'sympy.core.kind', 'sympy.core._print_helpers', 'sympy.core.singleton', 'sympy.core.traversal', 'sympy.core.basic', 'sympy.core.sympify', 'sympy.core.evalf', 'sympy.core.decorators', 'sympy.core.operations', '_decimal', 'decimal', 'fractions', 'sympy.core.containers', 'sympy.core.add', 'sympy.core.rules', 'sympy.logic.boolalg', 'sympy.logic.inference', 'sympy.logic', 'sympy.core.symbol', 'sympy.core.function', 'sympy.core.relational', 'sympy.core.power', 'sympy.core.numbers', 'sympy.core.mul', 'sympy.core.coreerrors', 'sympy.core.exprtools', 'sympy.core.mod', 'sympy.core.expr', 'sympy.core.multidimensional', 'sympy.core', 'sympy.assumptions.assume', 'sympy.assumptions.cnf', 'sympy.assumptions.ask_generated', 'sympy.assumptions.ask', 'sympy.assumptions.refine', 'sympy.assumptions.relation.binrel', 'sympy.assumptions.relation', 'sympy.assumptions', 'sympy.polys.polyerrors', 'sympy.polys.polyoptions', 'sympy.polys.domains.domainelement', 'sympy.polys.orderings', 'sympy.polys.polyutils', 'sympy.polys.domains.domain', 'sympy.polys.domains.ring', 'sympy.polys.domains.field', 'sympy.polys.domains.modularinteger', 'sympy.polys.domains.simpledomain', 'sympy.external.pythonmpq', 'sympy.polys.domains.pythonrational', 'sympy.polys.domains.groundtypes', 'sympy.polys.domains.finitefield', 'sympy.polys.domains.characteristiczero', 'sympy.polys.domains.integerring', 'sympy.polys.domains.rationalfield', 'sympy.polys.monomials', 'sympy.polys.densebasic', 'sympy.polys.densearith', 'sympy.polys.densetools', 'sympy.ntheory.primetest', 'sympy.ntheory.generate', 'sympy.ntheory.digits', 'sympy.ntheory.ecm', 'sympy.ntheory.factor_', 'sympy.ntheory.residue_ntheory', 'sympy.ntheory.partitions_', 'sympy.ntheory.multinomial', 'sympy.ntheory.continued_fraction', 'sympy.ntheory.egyptian_fraction', 'sympy.ntheory.qs', 'sympy.ntheory', 'sympy.polys.polyconfig', 'sympy.polys.galoistools', 'sympy.polys.euclidtools', 'sympy.polys.sqfreetools', 'sympy.polys.factortools', 'sympy.polys.rootisolation', 'sympy.polys.polyclasses', 'sympy.polys.domains.algebraicfield', 'sympy.polys.domains.gaussiandomains', 'sympy.polys.domains.mpelements', 'sympy.polys.domains.realfield', 'sympy.polys.domains.complexfield', 'sympy.polys.domains.compositedomain', 'sympy.polys.domains.polynomialring', 'sympy.polys.domains.fractionfield', 'sympy.polys.domains.expressiondomain', 'sympy.polys.domains.expressionrawdomain', 'sympy.polys.domains.pythonintegerring', 'sympy.polys.domains.pythonfinitefield', 'sympy.polys.domains.gmpyintegerring', 'sympy.polys.domains.gmpyfinitefield', 'sympy.polys.domains.pythonrationalfield', 'sympy.polys.domains.gmpyrationalfield', 'sympy.polys.domains', 'sympy.polys.constructor', 'sympy.polys.fglmtools', 'sympy.polys.groebnertools', 'sympy.polys.rationaltools', 'sympy.polys.polytools', 'sympy.functions.combinatorial', 'sympy.functions.combinatorial.factorials', 'sympy.functions.elementary', 'sympy.functions.elementary.miscellaneous', 'sympy.sets.sets', 'sympy.sets.fancysets', 'sympy.sets.contains', 'sympy.sets.conditionset', 'sympy.sets.ordinals', 'sympy.sets.powerset', 'sympy.sets.handlers', 'sympy.sets.handlers.comparison', 'sympy.sets', 'sympy.sets.setexpr', 'sympy.functions.elementary.exponential', 'sympy.functions.elementary.integers', 'sympy.functions.elementary.hyperbolic', 'sympy.functions.elementary.piecewise', 'sympy.functions.elementary.trigonometric', 'sympy.utilities.memoization', 'sympy.functions.combinatorial.numbers', 'sympy.functions.elementary.complexes', 'sympy.functions.special', 'sympy.functions.special.hyper', 'sympy.functions.special.error_functions', 'sympy.functions.special.zeta_functions', 'sympy.functions.special.gamma_functions', 'sympy.functions.special.tensor_functions', 'sympy.functions.special.delta_functions', 'sympy.functions.special.singularity_functions', 'sympy.functions.special.bsplines', 'sympy.polys.orthopolys', 'sympy.functions.special.bessel', 'sympy.functions.special.polynomials', 'sympy.functions.special.spherical_harmonics', 'sympy.functions.special.elliptic_integrals', 'sympy.functions.special.beta_functions', 'sympy.functions.special.mathieu_functions', 'sympy.functions', 'sympy.polys.compatibility', 'sympy.polys.heuristicgcd', 'sympy.printing.conventions', 'sympy.printing.precedence', 'sympy.printing.printer', 'sympy.printing.str', 'sympy.core.alphabets', 'sympy.printing.pretty.pretty_symbology', 'sympy.printing.pretty.stringpict', 'sympy.printing.pretty.pretty', 'sympy.printing.pretty', 'sympy.printing.latex', 'sympy.printing.mathml', 'sympy.printing.repr', 'sympy.printing.python', 'sympy.printing.codeprinter', 'sympy.printing.pycode', 'sympy.printing.glsl', 'sympy.printing.rcode', 'sympy.printing.jscode', 'sympy.printing.julia', 'sympy.printing.mathematica', 'sympy.printing.octave', 'sympy.printing.rust', 'sympy.utilities.pkgdata', 'sympy.utilities.mathml', 'sympy.printing.gtk', 'sympy.printing.preview', 'sympy.printing.tree', 'sympy.printing.tableform', 'sympy.printing.dot', 'sympy.printing.maple', 'sympy.printing', 'sympy.printing.defaults', 'sympy.utilities.magic', 'sympy.polys.rings', 'sympy.polys.specialpolys', 'sympy.polys.polyfuncs', 'sympy.polys.ring_series', 'sympy.polys.polyquinticconst', 'sympy.simplify.gammasimp', 'sympy.simplify.combsimp', 'sympy.simplify.cse_opts', 'sympy.simplify.powsimp', 'sympy.simplify.hyperexpand', 'sympy.simplify.sqrtdenest', 'sympy.simplify.radsimp', 'sympy.simplify.cse_main', 'sympy.strategies.util', 'sympy.strategies.rl', 'sympy.strategies.core', 'sympy.strategies.traverse', 'sympy.strategies.tools', 'sympy.strategies.branch.core', 'sympy.strategies.branch.traverse', 'sympy.strategies.branch.tools', 'sympy.strategies.branch', 'sympy.strategies', 'sympy.strategies.tree', 'sympy.simplify.trigsimp', 'sympy.simplify.simplify', 'sympy.simplify.fu', 'sympy.simplify.epathtools', 'sympy.simplify.ratsimp', 'sympy.simplify', 'sympy.polys.polyroots', 'sympy.polys.rootoftools', 'sympy.polys.numberfields.minpoly', 'sympy.polys.numberfields.subfield', 'sympy.polys.matrices.exceptions', 'sympy.polys.matrices.dense', 'sympy.polys.matrices.sdm', 'sympy.polys.matrices.ddm', 'sympy.polys.matrices.domainscalar', 'sympy.polys.matrices.domainmatrix', 'sympy.polys.matrices', 'sympy.printing.numpy', 'sympy.printing.lambdarepr', 'sympy.polys.numberfields.utilities', 'sympy.ntheory.modular', 'sympy.polys.matrices.normalforms', 'sympy.polys.numberfields.exceptions', 'sympy.polys.numberfields.modules', 'sympy.polys.numberfields.basis', 'sympy.polys.numberfields.primes', 'sympy.polys.numberfields', 'sympy.tensor.indexed', 'sympy.tensor.index_methods', 'sympy.tensor.functions', 'sympy.tensor.array.ndim_array', 'sympy.tensor.array.mutable_ndim_array', 'sympy.tensor.array.dense_ndim_array', 'sympy.tensor.array.sparse_ndim_array', 'sympy.tensor.array.arrayop', 'sympy.tensor.array.array_comprehension', 'sympy.tensor.array', 'sympy.tensor', 'sympy.matrices.utilities', 'sympy.matrices.common', 'sympy.matrices.determinant', 'sympy.matrices.decompositions', 'sympy.matrices.reductions', 'sympy.matrices.subspaces', 'sympy.polys.agca.ideals', 'sympy.polys.agca.modules', 'sympy.polys.agca.homomorphisms', 'sympy.polys.agca', 'sympy.polys.agca.extensions', 'sympy.polys.matrices.eigen', 'sympy.matrices.eigen', 'sympy.matrices.graph', 'sympy.matrices.solvers', 'sympy.matrices.inverse', 'sympy.matrices.matrices', 'sympy.matrices.repmatrix', 'sympy.matrices.dense', 'sympy.matrices.sparse', 'sympy.matrices.sparsetools', 'sympy.matrices.expressions.special', 'sympy.matrices.expressions.matpow', 'sympy.matrices.expressions.inverse', 'sympy.matrices.expressions.transpose', 'sympy.matrices.expressions.permutation', 'sympy.matrices.expressions.matmul', 'sympy.matrices.expressions.matadd', 'sympy.matrices.expressions.determinant', 'sympy.matrices.expressions.matexpr', 'sympy.matrices.expressions.slice', 'sympy.matrices.expressions.trace', 'sympy.matrices.expressions.blockmatrix', 'sympy.matrices.expressions.companion', 'sympy.matrices.expressions.funcmatrix', 'sympy.matrices.expressions.adjoint', 'sympy.matrices.expressions.hadamard', 'sympy.matrices.expressions.diagonal', 'sympy.matrices.expressions.dotproduct', 'sympy.matrices.expressions.kronecker', 'sympy.matrices.expressions.sets', 'sympy.matrices.expressions', 'sympy.matrices.immutable', 'sympy.matrices', 'sympy.polys.partfrac', 'sympy.polys.fields', 'sympy.polys', 'sympy.series.order', 'sympy.calculus.euler', 'sympy.calculus.singularities', 'sympy.calculus.finite_diff', 'sympy.calculus.accumulationbounds', 'sympy.calculus.util', 'sympy.calculus', 'sympy.series.gruntz', 'sympy.series.limits', 'sympy.series.series', 'sympy.series.approximants', 'sympy.series.residues', 'sympy.series.sequences', 'sympy.series.series_class', 'sympy.series.fourier', 'sympy.discrete.transforms', 'sympy.discrete.convolutions', 'sympy.discrete', 'sympy.series.formal', 'sympy.series.limitseq', 'sympy.series', 'sympy.concrete.expr_with_limits', 'sympy.concrete.expr_with_intlimits', 'sympy.polys.domainmatrix', 'sympy.polys.solvers', 'sympy.solvers.polysys', 'sympy.solvers.bivariate', 'sympy.solvers.solvers', 'sympy.polys.matrices.linsolve', 'sympy.solvers.solveset', 'sympy.solvers.diophantine.diophantine', 'sympy.solvers.diophantine', 'sympy.solvers.recurr', 'sympy.integrals.rationaltools', 'sympy.integrals.deltafunctions', 'sympy.integrals.meijerint', 'sympy.integrals.trigonometry', 'sympy.integrals.integrals', 'sympy.solvers.inequalities', 'sympy.integrals.transforms', 'sympy.integrals.singularityfunctions', 'sympy.integrals', 'sympy.solvers.deutils', 'sympy.solvers.ode.riccati', 'sympy.solvers.ode.hypergeometric', 'sympy.solvers.ode.subscheck', 'sympy.solvers.ode.nonhomogeneous', 'sympy.solvers.pde', 'sympy.solvers.ode.lie_group', 'sympy.solvers.ode.single', 'sympy.solvers.ode.ode', 'sympy.solvers.ode.systems', 'sympy.solvers.ode', 'sympy.solvers.decompogen', 'sympy.solvers', 'sympy.concrete.gosper', 'sympy.concrete.summations', 'sympy.concrete.products', 'sympy.concrete', 'sympy.geometry.exceptions', 'sympy.sets.handlers.intersection', 'sympy.sets.handlers.union', 'sympy.geometry.entity', 'sympy.geometry.point', 'sympy.geometry.util', 'sympy.geometry.line', 'sympy.geometry.plane', 'sympy.geometry.polygon', 'sympy.geometry.ellipse', 'sympy.geometry.curve', 'sympy.geometry.parabola', 'sympy.geometry', 'sympy.parsing.sympy_parser', 'sympy.parsing', 'sympy.algebras.quaternion', 'sympy.algebras', 'sympy.plotting.experimental_lambdify', 'sympy.plotting.textplot', 'sympy.plotting.plot', 'sympy.plotting.intervalmath.interval_membership', 'sympy.plotting.intervalmath.interval_arithmetic', 'sympy.plotting.intervalmath.lib_interval', 'sympy.plotting.intervalmath', 'sympy.plotting.plot_implicit', 'sympy.plotting.pygletplot', 'sympy.plotting', 'sympy.interactive.printing', 'sympy.interactive.session', 'sympy.interactive.traversal', 'sympy.interactive', 'sympy', 'torch._guards', 'torch.utils.weak', 'torch._subclasses.meta_utils', 'torch.utils._mode_utils', 'torch.utils._stats', 'torch._subclasses.fake_tensor', 'torch._subclasses.fake_utils', 'torch._subclasses', 'torch._prims', 'torch.fx.experimental', 'torch.fx.experimental.symbolic_shapes', 'torch._decomp.decompositions', 'torch._refs._conversions', 'torch._refs.fft', 'torch._refs.linalg', 'torch._refs.nn', 'torch._refs.nn.functional', 'torch._refs.special', 'torch._refs', 'torch._decomp', 'torch._meta_registrations', 'torch.fx.passes.shape_prop', 'torch.fx.passes.graph_drawer', 'torch.fx.passes.graph_manipulation', 'torch.fx.passes.tools_common', 'torch.fx.passes.utils.matcher_utils', 'torch.fx.passes.utils.common', 'torch.fx.passes.utils', 'torch.fx.passes.split_utils', 'torch.fx.passes.net_min_base', 'torch.fx.passes.operator_support', 'torch.fx.passes.param_fetch', 'torch.fx.passes.reinplace', 'torch.fx.passes.split_module', 'torch.fx.passes.splitter_base', 'torch.fx.passes', 'torch.fx.experimental.const_fold', 'torch._dispatch', 'concurrent', 'concurrent.futures._base', 'concurrent.futures', 'asyncio.constants', 'asyncio.format_helpers', 'asyncio.base_futures', 'asyncio.log', 'asyncio.coroutines', '_contextvars', 'contextvars', 'asyncio.exceptions', 'asyncio.base_tasks', '_asyncio', 'asyncio.events', 'asyncio.futures', 'asyncio.protocols', 'asyncio.transports', 'asyncio.sslproto', 'asyncio.mixins', 'asyncio.tasks', 'asyncio.locks', 'asyncio.staggered', 'asyncio.trsock', 'asyncio.base_events', 'asyncio.runners', 'asyncio.queues', 'asyncio.streams', 'asyncio.subprocess', 'asyncio.threads', 'asyncio.base_subprocess', 'asyncio.selector_events', 'asyncio.unix_events', 'asyncio', 'unittest.mock', 'torch._dispatch.python', 'torch.fx.experimental.proxy_tensor', 'torch._functorch.eager_transforms', 'torch._functorch.functional_call', 'torch._functorch.batch_norm_replacement', 'torch.func', 'torch', 'utils', 'tensorboard.lazy', 'tensorboard.version', 'tensorboard', 'importlib.abc', 'setuptools._distutils', 'distutils.debug', 'distutils.errors', 'getopt', 'distutils.fancy_getopt', 'sysconfig', 'distutils.dep_util', 'distutils._log', 'distutils.spawn', 'distutils.util', 'distutils.dist', 'distutils.dir_util', 'distutils.file_util', 'distutils.archive_util', 'distutils.cmd', 'configparser', 'distutils.config', 'distutils.extension', 'distutils.core', '_distutils_hack.override', 'setuptools.warnings', 'importlib.metadata._functools', 'importlib.metadata._text', 'importlib.metadata._adapters', 'importlib.metadata._meta', 'importlib.metadata._collections', 'importlib.metadata._itertools', 'importlib.metadata', 'importlib._adapters', 'importlib._common', 'importlib.resources', 'setuptools._importlib', 'setuptools.version', 'distutils.filelist', 'setuptools.monkey', 'setuptools.extension', 'distutils.log', 'distutils.command', 'setuptools.extern', 'setuptools._vendor', 'setuptools._vendor.packaging', 'setuptools.extern.packaging', 'setuptools._vendor.ordered_set', 'setuptools.extern.ordered_set', 'setuptools._vendor.more_itertools.recipes', 'setuptools._vendor.more_itertools.more', 'setuptools._vendor.more_itertools', 'setuptools.extern.more_itertools', 'distutils.command.bdist', 'setuptools.command', 'setuptools.windows_support', 'setuptools.errors', 'setuptools._vendor.packaging._elffile', 'setuptools._vendor.packaging._manylinux', 'setuptools._vendor.packaging._musllinux', 'setuptools.extern.packaging.tags', 'setuptools.extern.packaging._structures', 'setuptools.extern.packaging.version', 'setuptools.extern.packaging.utils', 'setuptools.extern.packaging.specifiers', 'setuptools.extern.packaging._tokenizer', 'setuptools.extern.packaging._parser', 'setuptools.extern.packaging.markers', 'setuptools.extern.packaging.requirements', 'setuptools._path', 'setuptools.config.expand', 'setuptools.config.setupcfg', 'setuptools.config', 'email._header_value_parser', 'email.headerregistry', 'setuptools.config._apply_pyprojecttoml', 'setuptools.config.pyprojecttoml', 'setuptools.discovery', 'setuptools._vendor.jaraco', 'setuptools.extern.jaraco', 'setuptools.extern.jaraco.functools', 'setuptools.extern.jaraco.context', 'setuptools.extern.jaraco.text', 'setuptools._reqs', 'setuptools._itertools', 'setuptools._entry_points', 'setuptools._normalization', 'setuptools.dist', 'setuptools._imp', 'setuptools.depends', 'setuptools.logging', 'setuptools.msvc', 'setuptools', 'distutils', 'distutils.version', 'tensorboard.compat', 'tensorboard.compat.proto', 'google', 'google.protobuf', 'google.protobuf.internal', 'google.protobuf.internal.enum_type_wrapper', 'google._upb', 'google.protobuf.message', 'google._upb._message', 'google.protobuf.internal.api_implementation', 'google.protobuf.descriptor', 'google.protobuf.descriptor_database', 'google.protobuf.text_encoding', 'google.protobuf.descriptor_pool', 'google.protobuf.pyext', 'google.protobuf.pyext.cpp_message', 'google.protobuf.message_factory', 'google.protobuf.symbol_database', 'google.protobuf.reflection', 'google.protobuf.internal.field_mask', 'google.protobuf.internal.well_known_types', 'tensorboard.compat.proto.histogram_pb2', 'tensorboard.compat.proto.tensor_shape_pb2', 'tensorboard.compat.proto.types_pb2', 'tensorboard.compat.proto.resource_handle_pb2', 'tensorboard.compat.proto.tensor_pb2', 'tensorboard.compat.proto.summary_pb2', 'tensorboard.compat.proto.event_pb2', 'tensorboard.plugins', 'encodings.raw_unicode_escape', 'encodings.unicode_escape', 'google.protobuf.internal.containers', 'google.protobuf.internal.wire_format', 'google.protobuf.internal.encoder', 'google.protobuf.internal.decoder', 'google.protobuf.internal.type_checkers', 'google.protobuf.unknown_fields', 'google.protobuf.text_format', 'tensorboard.plugins.projector.metadata', 'tensorboard.plugins.projector.projector_config_pb2', 'tensorboard.plugins.projector', 'tensorboard.plugins.audio', 'tensorboard.util', 'tensorboard.util.op_evaluator', 'tensorboard.util.encoder', 'tensorboard.plugins.audio.plugin_data_pb2', 'tensorboard.plugins.audio.metadata', 'tensorboard.util.lazy_tensor_creator', 'tensorboard.plugins.audio.summary_v2', 'tensorboard.plugins.audio.summary', 'tensorboard.plugins.custom_scalar', 'tensorboard.plugins.custom_scalar.layout_pb2', 'tensorboard.plugins.custom_scalar.metadata', 'tensorboard.plugins.custom_scalar.summary', 'tensorboard.plugins.histogram', 'tensorboard.plugins.histogram.plugin_data_pb2', 'tensorboard.plugins.histogram.metadata', 'tensorboard.compat.proto.cost_graph_pb2', 'tensorboard.compat.proto.attr_value_pb2', 'tensorboard.compat.proto.full_type_pb2', 'tensorboard.compat.proto.node_def_pb2', 'tensorboard.compat.proto.op_def_pb2', 'tensorboard.compat.proto.function_pb2', 'tensorboard.compat.proto.graph_debug_info_pb2', 'tensorboard.compat.proto.versions_pb2', 'tensorboard.compat.proto.graph_pb2', 'tensorboard.compat.proto.allocation_description_pb2', 'tensorboard.compat.proto.tensor_description_pb2', 'tensorboard.compat.proto.step_stats_pb2', 'tensorboard.compat.proto.cluster_pb2', 'tensorboard.compat.proto.debug_pb2', 'tensorboard.compat.proto.verifier_config_pb2', 'tensorboard.compat.proto.rewriter_config_pb2', 'tensorboard.compat.proto.rpc_options_pb2', 'tensorboard.compat.proto.coordination_config_pb2', 'tensorboard.compat.proto.config_pb2', 'google.protobuf.internal.builder', 'google.protobuf.any_pb2', 'tensorboard.compat.proto.variable_pb2', 'tensorboard.compat.proto.struct_pb2', 'google.protobuf.wrappers_pb2', 'tensorboard.compat.proto.trackable_object_graph_pb2', 'tensorboard.compat.proto.saved_object_graph_pb2', 'tensorboard.compat.proto.saver_pb2', 'tensorboard.compat.proto.meta_graph_pb2', 'tensorboard.compat.tensorflow_stub.error_codes', 'tensorboard.compat.tensorflow_stub.errors', 'botocore', 'botocore.vendored', 'botocore.vendored.requests.packages.urllib3.exceptions', 'botocore.vendored.requests.packages.urllib3', 'botocore.vendored.requests.packages', 'botocore.vendored.requests.exceptions', 'botocore.vendored.requests', 'botocore.exceptions', 'boto3.exceptions', 'boto3.compat', 'jmespath.compat', 'jmespath.exceptions', 'jmespath.lexer', 'jmespath.ast', 'jmespath.functions', 'jmespath.visitor', 'jmespath.parser', 'jmespath', 'botocore.docs.bcdoc', 'shlex', 'botocore.vendored.six', 'dateutil._version', 'dateutil', 'six', 'six.moves', 'dateutil.tz._common', 'dateutil.tz._factories', 'dateutil.tz.tz', 'dateutil.tz', 'urllib3.packages', 'urllib3.packages.six', 'urllib3.packages.six.moves', 'urllib3.packages.six.moves.http_client', 'urllib3.exceptions', 'urllib3._version', 'urllib3.contrib', 'urllib3.contrib._appengine_environ', 'urllib3.util.wait', 'urllib3.util.connection', '_cffi_backend', '_brotli.lib', '_brotli', 'brotli._brotli', 'brotli.brotli', 'brotli', 'urllib3.util.request', 'urllib3.util.response', 'urllib3.util.retry', 'urllib3.util.url', 'urllib3.util.ssltransport', 'urllib3.util.ssl_', 'urllib3.util.timeout', 'urllib3.util', 'urllib3.util.proxy', 'urllib3._collections', 'ipaddress', 'urllib3.util.ssl_match_hostname', 'urllib3.connection', 'mimetypes', 'urllib3.fields', 'urllib3.filepost', 'urllib3.packages.six.moves.urllib', 'urllib3.packages.six.moves.urllib.parse', 'urllib3.request', 'urllib3.response', 'urllib3.util.queue', 'urllib3.connectionpool', 'urllib3.poolmanager', 'urllib3', 'xml', 'xml.etree', 'xml.etree.ElementPath', 'pyexpat.errors', 'pyexpat.model', 'pyexpat', 'xml.etree.cElementTree', 'botocore.compat', 'html.entities', 'html', '_markupbase', 'html.parser', 'botocore.docs.bcdoc.docstringparser', 'botocore.docs.bcdoc.style', 'botocore.docs.bcdoc.restdoc', 'dateutil._common', 'dateutil.relativedelta', 'dateutil.parser._parser', 'dateutil.parser.isoparser', 'dateutil.parser', 'botocore.awsrequest', 'cryptography.__about__', 'cryptography', 'cryptography.hazmat', 'cryptography.hazmat.bindings', 'cryptography.hazmat.bindings.openssl', '_openssl.lib', '_openssl', 'cryptography.hazmat.bindings._rust', 'cryptography.exceptions', 'cryptography.hazmat.bindings.openssl._conditional', 'cryptography.hazmat.bindings.openssl.binding', 'OpenSSL._util', 'cryptography.utils', 'cryptography.hazmat.primitives', 'cryptography.hazmat.primitives.hashes', 'cryptography.x509.certificate_transparency', 'cryptography.hazmat.primitives._serialization', 'cryptography.hazmat.primitives.asymmetric', 'cryptography.hazmat.primitives.asymmetric.dh', 'cryptography.hazmat.primitives.asymmetric.utils', 'cryptography.hazmat.primitives.asymmetric.dsa', 'cryptography.hazmat._oid', 'cryptography.hazmat.primitives.asymmetric.ec', 'cryptography.hazmat.primitives.asymmetric.ed448', 'cryptography.hazmat.primitives.asymmetric.ed25519', 'cryptography.hazmat.primitives._asymmetric', 'cryptography.hazmat.primitives.asymmetric.rsa', 'cryptography.hazmat.primitives.asymmetric.x448', 'cryptography.hazmat.primitives.asymmetric.x25519', 'cryptography.hazmat.primitives.asymmetric.types', 'cryptography.hazmat.primitives.serialization.base', 'cryptography.hazmat.primitives.asymmetric.padding', 'cryptography.hazmat.primitives._cipheralgorithm', 'cryptography.hazmat.primitives.ciphers.algorithms', 'cryptography.hazmat.primitives.ciphers.modes', 'cryptography.hazmat.primitives.ciphers.base', 'cryptography.hazmat.primitives.ciphers', '_bcrypt.lib', '_bcrypt', 'bcrypt._bcrypt', 'bcrypt.__about__', 'bcrypt', 'cryptography.hazmat.primitives.serialization.ssh', 'cryptography.hazmat.primitives.serialization', 'cryptography.hazmat.primitives.constant_time', 'cryptography.x509.oid', 'cryptography.x509.name', 'cryptography.x509.general_name', 'cryptography.x509.extensions', 'cryptography.x509.base', 'cryptography.x509', 'OpenSSL.crypto', 'OpenSSL.SSL', 'OpenSSL.version', 'OpenSSL', 'cryptography.hazmat.backends', 'cryptography.hazmat.backends.openssl.aead', 'cryptography.hazmat.backends.openssl.ciphers', 'cryptography.hazmat.backends.openssl.cmac', 'cryptography.hazmat.backends.openssl.utils', 'cryptography.hazmat.backends.openssl.ec', 'cryptography.hazmat.backends.openssl.rsa', 'cryptography.hazmat.primitives.serialization.pkcs12', 'cryptography.hazmat.backends.openssl.backend', 'cryptography.hazmat.backends.openssl', 'urllib3.packages.backports', 'urllib3.packages.backports.makefile', 'urllib3.contrib.pyopenssl', 'certifi.core', 'certifi', 'botocore.httpsession', 'botocore.utils', 'botocore.docs.shape', 'botocore.docs.utils', 'botocore.docs.example', 'botocore.docs.params', 'botocore.docs.method', 'botocore.docs.sharedexample', 'botocore.docs.client', 'botocore.docs.paginator', 'botocore.docs.waiter', 'botocore.docs.service', 'botocore.docs', 'botocore.docs.docstring', 'botocore.waiter', 'botocore.eventstream', 'botocore.parsers', 'botocore.validate', 'botocore.serialize', '_uuid', 'uuid', 'botocore.history', 'botocore.hooks', 'botocore.response', 'botocore.httpchecksum', 'botocore.endpoint', 'botocore.config', 'botocore.auth', 'botocore.crt', 'botocore.endpoint_provider', 'botocore.regions', 'botocore.signers', 'botocore.useragent', 'botocore.args', 'botocore.compress', 'botocore.model', 'botocore.discovery', 'botocore.paginate', 'botocore.retries', 'botocore.retries.bucket', 'botocore.retries.quota', 'botocore.retries.base', 'botocore.retries.special', 'botocore.retries.standard', 'botocore.retries.throttling', 'botocore.retries.adaptive', 'botocore.client', 'botocore.configloader', 'termios', 'getpass', 'botocore.tokens', 'botocore.credentials', 'botocore.retryhandler', 'botocore.translate', 'botocore.handlers', 'botocore.monitoring', 'botocore.configprovider', 'botocore.errorfactory', 'botocore.loaders', 'botocore.session', 'boto3.utils', 'boto3.resources', 'boto3.docs.client', 'boto3.docs.base', 'boto3.docs.method', 'boto3.docs.utils', 'boto3.docs.action', 'boto3.docs.attr', 'boto3.docs.collection', 'boto3.docs.subresource', 'boto3.docs.waiter', 'boto3.docs.resource', 'boto3.docs.service', 'boto3.docs', 'boto3.docs.docstring', 'boto3.resources.model', 'boto3.resources.params', 'boto3.resources.response', 'boto3.resources.action', 'boto3.resources.base', 'boto3.resources.collection', 'boto3.resources.factory', 'boto3.session', 'boto3', 'fsspec._version', 'fsspec.caching', 'fsspec.callbacks', 'fsspec.utils', 'fsspec.config', 'fsspec.dircache', 'fsspec.transaction', 'fsspec.spec', 'snappy._snappy', 'snappy.snappy', 'snappy.hadoop_snappy', 'snappy', 'lz4.version', 'lz4._version', 'lz4', 'lz4.frame._frame', 'lz4.frame', 'fsspec.compression', 'fsspec.registry', 'fsspec.core', 'fsspec.exceptions', 'fsspec.mapping', 'fsspec', 'tensorboard.compat.tensorflow_stub.compat.v1', 'tensorboard.compat.tensorflow_stub.compat', 'tensorboard.compat.tensorflow_stub.io.gfile', 'tensorboard.compat.tensorflow_stub.io', 'tensorboard.compat.tensorflow_stub.pywrap_tensorflow', 'tensorboard.compat.tensorflow_stub.dtypes', 'absl', 'absl.flags._helpers', 'absl.flags._argument_parser', 'absl.flags._exceptions', 'absl.flags._flag', 'xml.dom.domreg', 'xml.dom', 'xml.dom.minicompat', 'xml.dom.NodeFilter', 'xml.dom.xmlbuilder', 'xml.dom.minidom', 'absl.flags._validators_classes', 'absl.flags._flagvalues', 'absl.flags._validators', 'absl.flags._defines', 'absl.flags', 'tensorboard.compat.tensorflow_stub.flags', 'tensorboard.compat.tensorflow_stub.app', 'tensorboard.compat.tensorflow_stub.tensor_shape', 'tensorboard.compat.tensorflow_stub', 'tensorboard.util.tensor_util', 'tensorboard.plugins.histogram.summary_v2', 'tensorboard.plugins.histogram.summary', 'tensorboard.plugins.image', 'tensorboard.plugins.image.plugin_data_pb2', 'tensorboard.plugins.image.metadata', 'tensorboard.plugins.image.summary_v2', 'tensorboard.plugins.image.summary', 'tensorboard.plugins.pr_curve', 'tensorboard.plugins.pr_curve.plugin_data_pb2', 'tensorboard.plugins.pr_curve.metadata', 'tensorboard.plugins.pr_curve.summary', 'tensorboard.plugins.scalar', 'tensorboard.plugins.scalar.plugin_data_pb2', 'tensorboard.plugins.scalar.metadata', 'tensorboard.plugins.scalar.summary_v2', 'tensorboard.plugins.scalar.summary', 'tensorboard.plugins.text', 'tensorboard.plugins.text.plugin_data_pb2', 'tensorboard.plugins.text.metadata', 'tensorboard.plugins.text.summary_v2', 'tensorboard.plugins.text.summary', 'tensorboard.summary.v1', 'tensorboard.summary.v2', 'tensorboard.summary.writer', 'tensorboard.summary.writer.record_writer', 'tensorboard.summary.writer.event_file_writer', 'tensorboard.summary._output', 'tensorboard.summary._writer', 'tensorboard.summary', 'torch.utils.tensorboard._convert_np', 'torch.utils.tensorboard._utils', 'torch.utils.tensorboard._embedding', 'torch.utils.tensorboard._onnx_graph', 'torch.utils.tensorboard._proto_graph', 'torch.utils.tensorboard._pytorch_graph', 'google.protobuf.struct_pb2', 'torch.utils.tensorboard.summary', 'torch.utils.tensorboard.writer', 'torch.utils.tensorboard', 'infer_pack', 'infer_pack.commons', 'librosa.version', '_sysconfigdata__linux_x86_64-linux-gnu', 'pydoc', 'joblib.hashing', 'joblib.disk', 'joblib.logger', 'joblib.func_inspect', 'joblib.backports', 'joblib.compressor', 'joblib.numpy_pickle_utils', 'joblib.numpy_pickle_compat', 'joblib.numpy_pickle', 'joblib._store_backends', 'joblib.memory', 'joblib._multiprocessing_helpers', 'joblib.externals', 'joblib.externals.loky._base', 'multiprocessing.synchronize', 'joblib.externals.loky.backend.process', 'multiprocessing.queues', 'concurrent.futures.process', 'joblib.externals.loky.backend.context', 'joblib.externals.loky.backend', 'joblib.externals.loky.backend._posix_reduction', 'joblib.externals.cloudpickle.compat', 'joblib.externals.cloudpickle.cloudpickle', 'joblib.externals.cloudpickle.cloudpickle_fast', 'joblib.externals.cloudpickle', 'joblib.externals.loky.backend.reduction', 'joblib.externals.loky.backend.queues', 'psutil._common', 'psutil._compat', 'psutil._psposix', 'psutil._psutil_linux', 'psutil._psutil_posix', 'resource', 'psutil._pslinux', 'psutil', 'joblib.externals.loky.backend.utils', 'joblib.externals.loky.initializers', 'joblib.externals.loky.process_executor', 'joblib.externals.loky.reusable_executor', 'joblib.externals.loky.cloudpickle_wrapper', 'joblib.externals.loky', 'joblib.externals.loky.backend.spawn', 'joblib.externals.loky.backend.resource_tracker', 'joblib._memmapping_reducer', 'multiprocessing.pool', 'joblib.pool', 'joblib.executor', 'joblib._parallel_backends', 'joblib._utils', 'joblib.parallel', 'joblib._cloudpickle_wrapper', 'joblib', 'decorator', 'librosa._cache', 'scipy.ndimage._ni_support', 'scipy.ndimage._nd_image', 'scipy.ndimage._ni_docstrings', 'scipy.ndimage._filters', 'scipy.ndimage._fourier', 'scipy.special._sf_error', 'scipy.special._ufuncs_cxx', 'scipy.special._ufuncs', 'scipy.special._specfun', 'scipy.special._comb', 'scipy.special._basic', 'scipy.special._logsumexp', 'scipy.special._orthogonal', 'scipy.special._spfun_stats', 'scipy.special._ellip_harm_2', 'scipy.special._ellip_harm', 'scipy.special._lambertw', 'scipy.special._spherical_bessel', 'scipy.special._add_newdocs', 'scipy.special.add_newdocs', 'scipy.special.basic', 'scipy.special.orthogonal', 'scipy.special.specfun', 'scipy.special.sf_error', 'scipy.special.spfun_stats', 'scipy.special', 'scipy.ndimage._interpolation', '_ni_label', 'scipy.ndimage._ni_label', 'scipy.ndimage._morphology', 'scipy.ndimage._measurements', 'scipy.ndimage.filters', 'scipy.ndimage.fourier', 'scipy.ndimage.interpolation', 'scipy.ndimage.measurements', 'scipy.ndimage.morphology', 'scipy.ndimage', 'numba._version', 'numba.misc', 'numba.misc.init_utils', 'numba.core', 'yaml.error', 'yaml.tokens', 'yaml.events', 'yaml.nodes', 'yaml.reader', 'yaml.scanner', 'yaml.parser', 'yaml.composer', 'yaml.constructor', 'yaml.resolver', 'yaml.loader', 'yaml.emitter', 'yaml.serializer', 'yaml.representer', 'yaml.dumper', 'yaml._yaml', 'yaml.cyaml', 'yaml', 'llvmlite._version', 'llvmlite', 'llvmlite.binding.common', 'llvmlite.utils', 'importlib.readers', 'llvmlite.binding.ffi', 'llvmlite.binding.dylib', 'llvmlite.binding.targets', 'llvmlite.binding.object_file', 'llvmlite.binding.executionengine', 'llvmlite.binding.initfini', 'llvmlite.binding.linker', 'llvmlite.binding.value', 'llvmlite.binding.context', 'llvmlite.binding.module', 'llvmlite.binding.options', 'llvmlite.binding.passmanagers', 'llvmlite.binding.transforms', 'llvmlite.ir._utils', 'llvmlite.ir.types', 'llvmlite.ir.values', 'llvmlite.ir.context', 'llvmlite.ir.module', 'llvmlite.ir.instructions', 'llvmlite.ir.builder', 'llvmlite.ir.transforms', 'llvmlite.ir', 'llvmlite.binding.analysis', 'llvmlite.binding', 'numba.core.config', 'numba.core.utils', 'numba.core.types.abstract', 'colorama.ansi', 'colorama.win32', 'colorama.winterm', 'colorama.ansitowin32', 'colorama.initialise', 'colorama', 'numba.core.errors', 'numba.core.types.common', 'numba.core.typeconv.castgraph', 'numba.core.typeconv', 'numba.core.consts', 'numba.core.ir', 'numba.core.types.misc', 'numba.core.types.containers', 'numba.core.types.functions', 'numba.core.types.iterators', 'numba.core.types.npytypes', 'numba.np', 'numba.np.npdatetime_helpers', 'numba.core.types.scalars', 'numba.core.types.function_type', 'numba.core.types', 'numba.core.typeconv._typeconv', 'numba.core.typeconv.typeconv', 'numba.core.typeconv.rules', 'numba.core.targetconfig', 'numba.core.cpu_options', 'numba.core.typing.templates', 'numba.core.datamodel.manager', 'numba.core.datamodel.packer', 'numba.core.datamodel.registry', 'numba.core.datamodel.models', 'numba.core.datamodel', 'numba.core.debuginfo', 'numba.core.cgutils', 'numba.np.numpy_support', 'numba.core.typing.typeof', 'numba.core.typing.context', 'numba.core.typing', 'numba.core.typing.asnumbatype', 'numba.misc.special', 'numba.stencils', 'numba.core.imputils', 'numba._helperlib', 'numba.core.itanium_mangler', 'numba.core.funcdesc', 'numba.core.generators', 'numba.core.removerefctpass', 'numba._dynfunc', 'numba.core.environment', 'numba.core.controlflow', 'numba.core.analysis', 'numba.misc.firstlinefinder', 'numba.core.lowering', 'numba.cloudpickle.compat', 'numba.cloudpickle.cloudpickle', 'numba.cloudpickle.cloudpickle_fast', 'numba.cloudpickle', 'numba.core.serialize', 'numba.core.pythonapi', 'numba.core.extending', 'numba.core.transforms', 'numba.core.postproc', 'numba.core.rewrites.registry', 'numba.core.rewrites.static_getitem', 'numba.core.rewrites.static_raise', 'numba.core.rewrites.static_binop', 'numba.core.rewrites.ir_print', 'numba.core.rewrites', 'numba.core.ir_utils', 'numba.core.descriptors', 'numba._devicearray', 'numba._dispatcher', 'numba.core.tracing', 'numba.core.dataflow', 'numba.core.byteflow', 'numba.core.unsafe', 'numba.core.unsafe.eh', 'numba.cpython', 'numba.cpython.unsafe', 'numba.cpython.unsafe.tuple', 'numba.core.interpreter', 'numba.core.bytecode', 'numba.core.event', 'numba.core.compiler_lock', 'numba.core.typeinfer', 'numba.stencils.stencilparfor', 'numba.core.overload_glue', 'numba.core.typing.npydecl', 'numba.np.unsafe', 'numba.np.unsafe.ndarray', 'numba.parfors.array_analysis', 'numba.parfors.parfor', 'numba.core.sigutils', 'numba.parfors.parfor_lowering_utils', 'numba.parfors.parfor_lowering', 'numba.parfors', 'numba.core.typing.builtins', 'numba.extending', 'numba.cpython.builtins', 'numba.core.base', 'numba.core.callconv', 'numba.core.callwrapper', 'numba.core.llvm_bindings', 'numba.core.runtime.nrtdynmod', 'numba.core.runtime._nrt_python', 'numba.core.runtime.nrt', 'numba.core.runtime', 'numba.core.runtime.nrtopt', 'numba.misc.inspection', 'numba.misc.llvm_pass_timings', 'numba.core.codegen', 'numba.core.intrinsics', 'numba.core.externals', 'numba.core.fastmathpass', 'numba.core.options', 'numba.core.entrypoints', 'numba.np.ufunc_db', 'numba.core.cpu', 'numba.core.compiler_machinery', 'numba.core.ssa', 'numba.core.untyped_passes', 'numba.core.annotations', 'numba.core.annotations.type_annotations', 'numba.core.typed_passes', 'numba.core.pylowering', 'numba.core.object_mode_passes', 'numba.core.compiler', 'numba.misc.appdirs', 'numba.core.caching', 'numba.core.retarget', 'numba.core.dispatcher', 'numba.core.registry', 'numba.stencils.stencil', 'numba.core.decorators', 'numba.np.ufunc._internal', 'numba.np.ufunc.wrappers', 'numba.core.target_extension', 'numba.np.ufunc.sigparse', 'numba.np.ufunc.ufuncbuilder', 'numba.np.ufunc.parallel', 'numba.np.ufunc.dufunc', 'numba.np.ufunc.gufunc', 'numba.np.ufunc.decorators', 'numba.np.ufunc.array_exprs', 'numba.np.ufunc', 'numba.experimental.jitclass.decorators', 'numba.experimental.jitclass._box', 'numba.experimental.jitclass.boxing', 'numba.experimental.jitclass.overloads', 'numba.experimental.jitclass', 'numba.experimental', 'numba.core.withcontexts', 'numba.typed', 'numba', 'librosa.util.exceptions', 'librosa.util.deprecation', 'librosa.util.decorators', 'librosa.util.utils', 'xml.parsers', 'xml.parsers.expat.model', 'xml.parsers.expat.errors', 'xml.parsers.expat', 'plistlib', 'pkg_resources.extern', 'pkg_resources._vendor', 'pkg_resources._vendor.jaraco', 'pkg_resources.extern.jaraco', 'pkg_resources._vendor.more_itertools.recipes', 'pkg_resources._vendor.more_itertools.more', 'pkg_resources._vendor.more_itertools', 'pkg_resources.extern.more_itertools', 'pkg_resources.extern.jaraco.functools', 'pkg_resources.extern.jaraco.context', 'pkg_resources.extern.jaraco.text', 'pkg_resources._vendor.platformdirs.api', 'pkg_resources._vendor.platformdirs.version', 'pkg_resources._vendor.platformdirs.unix', 'pkg_resources._vendor.platformdirs', 'pkg_resources.extern.platformdirs', 'pkg_resources._vendor.packaging', 'pkg_resources.extern.packaging', 'pkg_resources.extern.packaging._structures', 'pkg_resources.extern.packaging.version', 'pkg_resources._vendor.packaging._elffile', 'pkg_resources._vendor.packaging._manylinux', 'pkg_resources._vendor.packaging._musllinux', 'pkg_resources.extern.packaging.tags', 'pkg_resources.extern.packaging.utils', 'pkg_resources.extern.packaging.specifiers', 'pkg_resources.extern.packaging._tokenizer', 'pkg_resources.extern.packaging._parser', 'pkg_resources.extern.packaging.markers', 'pkg_resources.extern.packaging.requirements', 'pkg_resources', 'chardet.enums', 'chardet.charsetprober', 'chardet.charsetgroupprober', 'chardet.codingstatemachine', 'chardet.escsm', 'chardet.escprober', 'chardet.latin1prober', 'chardet.mbcssm', 'chardet.utf8prober', 'chardet.mbcharsetprober', 'chardet.euctwfreq', 'chardet.euckrfreq', 'chardet.gb2312freq', 'chardet.big5freq', 'chardet.jisfreq', 'chardet.chardistribution', 'chardet.jpcntx', 'chardet.sjisprober', 'chardet.eucjpprober', 'chardet.gb2312prober', 'chardet.euckrprober', 'chardet.cp949prober', 'chardet.big5prober', 'chardet.euctwprober', 'chardet.mbcsgroupprober', 'chardet.hebrewprober', 'chardet.sbcharsetprober', 'chardet.langbulgarianmodel', 'chardet.langgreekmodel', 'chardet.langhebrewmodel', 'chardet.langrussianmodel', 'chardet.langthaimodel', 'chardet.langturkishmodel', 'chardet.sbcsgroupprober', 'chardet.universaldetector', 'chardet.version', 'chardet', 'http.cookiejar', 'http.cookies', 'requests.compat', 'requests.exceptions', 'charset_normalizer.constant', '_multibytecodec', 'charset_normalizer.utils', 'charset_normalizer.md', 'charset_normalizer.models', 'charset_normalizer.assets', 'charset_normalizer.cd', 'charset_normalizer.api', 'charset_normalizer.legacy', 'charset_normalizer.version', 'charset_normalizer', 'requests.packages.urllib3.packages', 'requests.packages.urllib3.packages.six', 'requests.packages.urllib3.packages.six.moves', 'requests.packages.urllib3.packages.six.moves.http_client', 'requests.packages.urllib3.exceptions', 'requests.packages.urllib3._version', 'requests.packages.urllib3.contrib', 'requests.packages.urllib3.contrib._appengine_environ', 'requests.packages.urllib3.util.wait', 'requests.packages.urllib3.util.connection', 'requests.packages.urllib3.util.request', 'requests.packages.urllib3.util.response', 'requests.packages.urllib3.util.retry', 'requests.packages.urllib3.util.url', 'requests.packages.urllib3.util.ssltransport', 'requests.packages.urllib3.util.ssl_', 'requests.packages.urllib3.util.timeout', 'requests.packages.urllib3.util', 'requests.packages.urllib3.util.proxy', 'requests.packages.urllib3._collections', 'requests.packages.urllib3.util.ssl_match_hostname', 'requests.packages.urllib3.connection', 'requests.packages.urllib3.fields', 'requests.packages.urllib3.filepost', 'requests.packages.urllib3.packages.six.moves.urllib', 'requests.packages.urllib3.packages.six.moves.urllib.parse', 'requests.packages.urllib3.request', 'requests.packages.urllib3.response', 'requests.packages.urllib3.util.queue', 'requests.packages.urllib3.connectionpool', 'requests.packages.urllib3.poolmanager', 'requests.packages.urllib3', 'requests.packages.urllib3.packages.backports', 'requests.packages.urllib3.packages.backports.makefile', 'requests.packages.urllib3.contrib.pyopenssl', 'idna.package_data', 'idna.idnadata', 'idna.intranges', 'idna.core', 'idna', 'requests.packages.idna.package_data', 'requests.packages.idna.idnadata', 'requests.packages.idna.intranges', 'requests.packages.idna.core', 'requests.packages.idna', 'requests.packages.chardet', 'requests.packages', 'requests.certs', 'requests.__version__', 'requests._internal_utils', 'requests.cookies', 'requests.structures', 'requests.utils', 'requests.auth', 'stringprep', 'encodings.idna', 'requests.hooks', 'requests.status_codes', 'requests.models', 'socks', 'urllib3.contrib.socks', 'requests.adapters', 'requests.sessions', 'requests.api', 'requests', 'pooch.hashes', 'platformdirs.api', 'platformdirs.version', 'platformdirs.unix', 'platformdirs', 'packaging.__about__', 'packaging', 'packaging._structures', 'packaging.version', 'pooch.utils', 'ftplib', 'pooch.downloaders', 'pooch.core', 'pooch.processors', 'pooch._version', 'pooch', 'librosa.util.files', 'librosa.util.matching', 'scipy.optimize._minpack2', 'scipy.optimize._linesearch', 'scipy.optimize._group_columns', 'scipy.optimize._numdiff', 'scipy.optimize._hessian_update_strategy', 'scipy.optimize._differentiable_functions', 'scipy.optimize._optimize', 'scipy.optimize._trustregion', 'scipy.optimize._trustregion_dogleg', 'scipy.optimize._trustregion_ncg', 'scipy._lib.messagestream', 'scipy.optimize._trlib._trlib', 'scipy.optimize._trlib', 'scipy.optimize._trustregion_krylov', 'scipy.optimize._trustregion_exact', 'numpy.testing._private', 'numpy.linalg.lapack_lite', 'numpy.testing._private.utils', 'numpy.testing._private.extbuild', 'numpy.testing._private.decorators', 'numpy.testing._private.nosetester', 'numpy.testing', 'scipy.optimize._constraints', 'scipy.optimize._trustregion_constr.projections', 'scipy.optimize._trustregion_constr.qp_subproblem', 'scipy.optimize._trustregion_constr.equality_constrained_sqp', 'scipy.optimize._trustregion_constr.canonical_constraint', 'scipy.optimize._trustregion_constr.tr_interior_point', 'scipy.optimize._trustregion_constr.report', 'scipy.optimize._trustregion_constr.minimize_trustregion_constr', 'scipy.optimize._trustregion_constr', 'scipy.optimize._lbfgsb', 'scipy.optimize._lbfgsb_py', '_moduleTNC', 'scipy.optimize._moduleTNC', 'scipy.optimize._tnc', 'scipy.optimize._cobyla', 'scipy.optimize._cobyla_py', 'scipy.optimize._slsqp', 'scipy.optimize._slsqp_py', 'scipy.optimize._minimize', 'scipy.optimize._minpack', 'scipy.optimize._lsq.common', 'scipy.optimize._lsq.trf', 'scipy.optimize._lsq.dogbox', 'scipy.optimize._lsq.least_squares', 'scipy.optimize._lsq.givens_elimination', 'scipy.optimize._lsq.trf_linear', 'scipy.optimize._lsq.bvls', 'scipy.optimize._lsq.lsq_linear', 'scipy.optimize._lsq', 'scipy.optimize._minpack_py', 'scipy.optimize._spectral', 'scipy.optimize._nonlin', 'scipy.optimize._root', 'scipy.optimize._zeros', 'scipy.optimize._zeros_py', 'scipy.optimize._root_scalar', 'scipy.optimize.__nnls', 'scipy.optimize._nnls', 'scipy.optimize._basinhopping', 'scipy.optimize._highs', 'scipy.optimize._highs.cython.src._highs_wrapper', 'scipy.optimize._highs._highs_wrapper', 'scipy.optimize._highs.cython.src._highs_constants', 'scipy.optimize._highs._highs_constants', 'scipy.optimize._linprog_highs', 'scipy.linalg._interpolative', 'scipy.linalg._interpolative_backend', 'scipy.linalg.interpolative', 'scipy.optimize._remove_redundancy', 'scipy.optimize._linprog_util', 'scipy.optimize._linprog_ip', 'scipy.optimize._linprog_simplex', 'scipy.optimize._bglu_dense', 'scipy.optimize._linprog_rs', 'scipy.optimize._linprog_doc', 'scipy.optimize._linprog', 'scipy.optimize._lsap', 'scipy.optimize._differentialevolution', 'scipy.spatial._ckdtree', 'scipy.spatial._kdtree', 'scipy.spatial._qhull', 'scipy.spatial._voronoi', 'scipy.spatial._spherical_voronoi', 'scipy.spatial._plotutils', 'scipy.spatial._procrustes', 'scipy.spatial._distance_wrap', 'scipy.spatial._hausdorff', 'scipy.spatial._distance_pybind', 'scipy.spatial.distance', 'scipy.spatial._geometric_slerp', 'scipy.spatial.ckdtree', 'scipy.spatial.kdtree', 'scipy.spatial.qhull', 'scipy.constants._codata', 'scipy.constants._constants', 'scipy.constants.codata', 'scipy.constants.constants', 'scipy.constants', 'scipy.spatial.transform._rotation_groups', 'scipy.spatial.transform._rotation', 'scipy.spatial.transform._rotation_spline', 'scipy.spatial.transform.rotation', 'scipy.spatial.transform', 'scipy.spatial', 'scipy.optimize._shgo_lib', 'scipy.optimize._shgo_lib.triangulation', 'scipy.optimize._shgo', 'scipy.optimize._dual_annealing', 'scipy.optimize._qap', 'scipy.optimize._direct', 'scipy.optimize._direct_py', 'scipy.optimize._milp', 'scipy.optimize.cobyla', 'scipy.optimize.lbfgsb', 'scipy.optimize.linesearch', 'scipy.optimize.minpack', 'scipy.optimize.minpack2', 'scipy.optimize.moduleTNC', 'scipy.optimize.nonlin', 'scipy.optimize.optimize', 'scipy.optimize.slsqp', 'scipy.optimize.tnc', 'scipy.optimize.zeros', 'scipy.optimize', 'librosa.util._nnls', 'librosa.util', 'librosa.core.notation', 'librosa.core.convert', 'ctypes.util', '_soundfile', '_soundfile_data', 'soundfile', 'audioread.exceptions', 'audioread.base', 'audioread.ffdec', 'audioread.version', 'audioread', 'scipy.signal._sigtools', 'scipy._lib._uarray._uarray', 'scipy._lib._uarray._backend', 'scipy._lib._uarray', 'scipy._lib.uarray', 'scipy.fft._basic', 'scipy.fft._realtransforms', 'scipy.fft._fftlog', 'scipy.fft._fftlog_multimethods', 'scipy.fft._pocketfft.pypocketfft', 'scipy.fft._pocketfft.helper', 'scipy.fft._pocketfft.basic', 'scipy.fft._pocketfft.realtransforms', 'scipy.fft._pocketfft', 'scipy.fft._helper', 'scipy.fft._backend', 'scipy.fft', 'scipy.signal.windows._windows', 'scipy.signal.windows.windows', 'scipy.signal.windows', 'scipy.signal._waveforms', 'scipy.signal._max_len_seq_inner', 'scipy.signal._max_len_seq', 'scipy.signal._upfirdn_apply', 'scipy.signal._upfirdn', 'scipy.signal._spline', 'scipy.signal._bsplines', 'scipy.signal._filter_design', 'scipy.signal._fir_filter_design', 'scipy.integrate._quadrature', 'scipy.integrate._odepack', 'scipy.integrate._odepack_py', 'scipy.integrate._quadpack', 'scipy.integrate._quadpack_py', 'scipy.integrate._vode', 'scipy.integrate._dop', 'scipy.integrate._lsoda', 'scipy.integrate._ode', 'scipy.integrate._bvp', 'scipy.integrate._ivp.common', 'scipy.integrate._ivp.base', 'scipy.integrate._ivp.bdf', 'scipy.integrate._ivp.radau', 'scipy.integrate._ivp.dop853_coefficients', 'scipy.integrate._ivp.rk', 'scipy.integrate._ivp.lsoda', 'scipy.integrate._ivp.ivp', 'scipy.integrate._ivp', 'scipy.integrate._quad_vec', 'scipy.integrate.dop', 'scipy.integrate.lsoda', 'scipy.integrate.vode', 'scipy.integrate.odepack', 'scipy.integrate.quadpack', 'scipy.integrate', 'scipy.interpolate._fitpack', 'scipy.interpolate.dfitpack', 'scipy.interpolate._fitpack_impl', 'scipy.interpolate._bspl', 'scipy.interpolate._bsplines', 'scipy.interpolate._fitpack_py', 'scipy.interpolate._polyint', 'scipy.interpolate._ppoly', 'scipy.interpolate._fitpack2', 'scipy.interpolate.interpnd', 'scipy.interpolate._interpolate', 'scipy.interpolate._rbf', 'scipy.interpolate._rbfinterp_pythran', 'scipy.interpolate._rbfinterp', 'scipy.interpolate._cubic', 'scipy.interpolate._ndgriddata', 'scipy.interpolate._pade', 'scipy.interpolate._rgi', 'scipy.interpolate.fitpack', 'scipy.interpolate.fitpack2', 'scipy.interpolate.interpolate', 'scipy.interpolate.ndgriddata', 'scipy.interpolate.polyint', 'scipy.interpolate.rbf', 'scipy.interpolate', 'scipy.signal._lti_conversion', 'scipy.signal._ltisys', 'scipy.signal._arraytools', 'scipy.signal._sosfilt', 'scipy.signal._signaltools', 'scipy.signal._savitzky_golay', 'scipy.signal._spectral', 'scipy.signal._spectral_py', 'scipy.signal._wavelets', 'scipy.stats._warnings_errors', 'scipy.stats._distr_params', 'scipy.misc._common', 'scipy.misc.common', 'scipy.misc.doccer', 'scipy.misc', 'scipy.stats._constants', 'scipy.stats._distn_infrastructure', 'scipy.special.cython_special', 'scipy.stats._stats', 'scipy.stats._tukeylambda_stats', 'scipy.stats._ksstats', 'beta_ufunc', 'scipy.stats._boost.beta_ufunc', 'binom_ufunc', 'scipy.stats._boost.binom_ufunc', 'nbinom_ufunc', 'scipy.stats._boost.nbinom_ufunc', 'hypergeom_ufunc', 'scipy.stats._boost.hypergeom_ufunc', 'ncf_ufunc', 'scipy.stats._boost.ncf_ufunc', 'scipy.stats._boost', 'scipy.stats._continuous_distns', 'scipy.stats._biasedurn', 'scipy.stats._discrete_distns', 'scipy.stats._levy_stable.levyst', 'scipy.stats._levy_stable', 'scipy.stats._entropy', 'scipy.stats.distributions', 'scipy._lib._bunch', 'scipy.stats._stats_mstats_common', 'scipy.stats._mstats_basic', 'scipy.stats._common', 'scipy.stats._hypotests_pythran', 'scipy.stats._hypotests', 'scipy._lib._docscrape', 'scipy.stats._axis_nan_policy', 'scipy.stats._resampling', 'scipy.stats._binomtest', 'scipy.stats._stats_py', 'scipy.stats._variation', 'scipy.stats._statlib', 'scipy.stats._relative_risk', 'scipy.stats._crosstab', 'scipy.stats.contingency', 'scipy.stats._morestats', 'scipy.stats._binned_statistic', 'scipy.stats._mvn', 'scipy.stats._kde', 'scipy.stats._mstats_extras', 'scipy.stats.mstats', 'scipy.stats._sobol', 'scipy.stats._qmc_cy', 'scipy.stats._qmc', 'scipy.stats.qmc', 'scipy.stats._multivariate', 'scipy.stats._unuran', 'scipy.stats._unuran.unuran_wrapper', 'scipy.stats._rvs_sampling', 'scipy.stats._page_trend_test', 'scipy.stats._mannwhitneyu', 'scipy.stats._fit', 'scipy.stats.biasedurn', 'scipy.stats.kde', 'scipy.stats.morestats', 'scipy.stats.mstats_basic', 'scipy.stats.mstats_extras', 'scipy.stats.mvn', 'scipy.stats.statlib', 'scipy.stats.stats', 'scipy.stats', 'scipy.signal._peak_finding_utils', 'scipy.signal._peak_finding', 'scipy.signal._czt', 'scipy.signal.bsplines', 'scipy.signal.filter_design', 'scipy.signal.fir_filter_design', 'scipy.signal.lti_conversion', 'scipy.signal.ltisys', 'scipy.signal.spectral', 'scipy.signal.signaltools', 'scipy.signal.waveforms', 'scipy.signal.wavelets', 'scipy.signal.spline', 'scipy.signal', 'resampy.version', 'resampy.filters', 'resampy.interpn', 'resampy.core', 'resampy', 'librosa.core.fft', 'encodings.cp437', 'librosa.core.audio', 'librosa.filters', 'librosa.core.spectrum', 'librosa.sequence', 'librosa.core.pitch', 'librosa.core.constantq', 'librosa.core.harmonic', 'librosa.core', 'librosa.feature.utils', 'scipy.fftpack._helper', 'scipy.fftpack._basic', 'scipy.fftpack.convolve', 'scipy.fftpack._pseudo_diffs', 'scipy.fftpack._realtransforms', 'scipy.fftpack.basic', 'scipy.fftpack.helper', 'scipy.fftpack.pseudo_diffs', 'scipy.fftpack.realtransforms', 'scipy.fftpack', 'librosa.feature.spectral', 'librosa.feature.rhythm', 'librosa.feature.inverse', 'librosa.feature', 'librosa.onset', 'librosa.beat', 'sklearn._config', 'sklearn._distributor_init', 'sklearn.__check_build._check_build', 'sklearn.__check_build', 'sklearn.utils.murmurhash', 'sklearn.utils.class_weight', 'sklearn.utils._joblib', 'sklearn.utils.deprecation', 'sklearn.exceptions', 'threadpoolctl', 'sklearn.externals', 'sklearn.externals._packaging', 'sklearn.externals._packaging._structures', 'sklearn.externals._packaging.version', 'sklearn.utils.fixes', 'sklearn.utils._estimator_html_repr', 'sklearn.utils.validation', 'sklearn.utils', 'sklearn.utils._tags', 'sklearn.base', 'sklearn.utils._openmp_helpers', 'sklearn.utils._show_versions', 'sklearn', '_cython_0_29_25', 'sklearn.decomposition._cdnmf_fast', 'sklearn.utils._logistic_sigmoid', 'sklearn.utils.sparsefuncs_fast', 'sklearn.utils.extmath', 'sklearn.decomposition._nmf', 'sklearn.decomposition._base', 'sklearn.utils._arpack', 'sklearn.decomposition._pca', 'sklearn.decomposition._incremental_pca', 'sklearn.preprocessing._function_transformer', 'sklearn.utils.sparsefuncs', 'sklearn.utils._mask', 'sklearn.utils._encode', 'sklearn.preprocessing._encoders', 'sklearn.preprocessing._data', 'sklearn.utils.multiclass', 'sklearn.preprocessing._label', 'sklearn.preprocessing._discretization', 'sklearn.utils.stats', 'sklearn.preprocessing._csr_polynomial_expansion', 'sklearn.preprocessing._polynomial', 'sklearn.preprocessing', 'sklearn.metrics._base', 'sklearn.metrics._ranking', 'sklearn.metrics._classification', 'sklearn.metrics.cluster._expected_mutual_info_fast', 'sklearn.metrics.cluster._supervised', 'sklearn.metrics._pairwise_fast', 'sklearn.metrics.pairwise', 'sklearn.metrics.cluster._unsupervised', 'sklearn.metrics.cluster._bicluster', 'sklearn.metrics.cluster', 'sklearn._loss', 'sklearn._loss.glm_distribution', 'sklearn.metrics._regression', 'sklearn.metrics._scorer', 'sklearn.metrics._plot', 'sklearn.metrics._plot.base', 'sklearn.metrics._plot.det_curve', 'sklearn.metrics._plot.roc_curve', 'sklearn.metrics._plot.precision_recall_curve', 'sklearn.metrics._plot.confusion_matrix', 'sklearn.metrics', 'sklearn.decomposition._kernel_pca', 'sklearn.utils._random', 'sklearn.utils._seq_dataset', 'sklearn.linear_model._base', 'sklearn.linear_model._bayes', 'sklearn.utils._cython_blas', 'sklearn.utils.arrayfuncs', 'sklearn.model_selection._split', 'sklearn.utils.metaestimators', 'sklearn.model_selection._validation', 'sklearn.utils.random', 'sklearn.model_selection._search', 'sklearn.model_selection', 'sklearn.linear_model._least_angle', 'sklearn.linear_model._cd_fast', 'sklearn.linear_model._coordinate_descent', 'sklearn.utils.optimize', 'sklearn.linear_model._glm.link', 'sklearn.linear_model._glm.glm', 'sklearn.linear_model._glm', 'sklearn.linear_model._huber', 'sklearn.utils._weight_vector', 'sklearn.linear_model._sgd_fast', 'sklearn.linear_model._stochastic_gradient', 'sklearn.linear_model._sag_fast', 'sklearn.linear_model._sag', 'sklearn.linear_model._ridge', 'sklearn.svm._libsvm', 'sklearn.svm._liblinear', 'sklearn.svm._libsvm_sparse', 'sklearn.svm._base', 'sklearn.svm._classes', 'sklearn.svm._bounds', 'sklearn.svm', 'sklearn.linear_model._logistic', 'sklearn.linear_model._omp', 'sklearn.linear_model._passive_aggressive', 'sklearn.linear_model._perceptron', 'sklearn.linear_model._quantile', 'sklearn.linear_model._ransac', 'sklearn.linear_model._theil_sen', 'sklearn.linear_model', 'sklearn.decomposition._dict_learning', 'sklearn.decomposition._sparse_pca', 'sklearn.decomposition._truncated_svd', 'sklearn.decomposition._fastica', 'sklearn.decomposition._factor_analysis', 'sklearn.decomposition._online_lda_fast', 'sklearn.decomposition._lda', 'sklearn.decomposition', 'sklearn.neighbors._typedefs', 'sklearn.neighbors._dist_metrics', 'sklearn.neighbors._partition_nodes', 'sklearn.neighbors._ball_tree', 'sklearn.neighbors._kd_tree', 'sklearn.neighbors._base', 'sklearn.neighbors._unsupervised', 'sklearn.neighbors._graph', 'sklearn.neighbors._classification', 'sklearn.neighbors._regression', 'sklearn.neighbors._nearest_centroid', 'sklearn.neighbors._kde', 'sklearn.neighbors._lof', 'sklearn.neighbors._nca', 'sklearn.neighbors', 'sklearn.manifold._locally_linear', 'sklearn.utils.graph', 'sklearn.manifold._isomap', 'sklearn._isotonic', 'sklearn.isotonic', 'sklearn.manifold._mds', 'sklearn.manifold._spectral_embedding', 'sklearn.manifold._utils', 'sklearn.tree._utils', 'sklearn.tree._tree', 'sklearn.tree._splitter', 'sklearn.tree._criterion', 'sklearn.tree._classes', 'sklearn.tree._reingold_tilford', 'sklearn.tree._export', 'sklearn.tree', 'sklearn.neighbors._quad_tree', 'sklearn.manifold._barnes_hut_tsne', 'sklearn.manifold._t_sne', 'sklearn.manifold', 'sklearn.utils._readonly_array_wrapper', 'sklearn.cluster._k_means_common', 'sklearn.cluster._k_means_minibatch', 'sklearn.cluster._k_means_lloyd', 'sklearn.cluster._k_means_elkan', 'sklearn.cluster._kmeans', 'sklearn.cluster._spectral', 'sklearn.cluster._mean_shift', 'sklearn.cluster._affinity_propagation', 'sklearn.utils._fast_dict', 'sklearn.cluster._hierarchical_fast', 'sklearn.cluster._feature_agglomeration', 'sklearn.cluster._agglomerative', 'sklearn.cluster._dbscan_inner', 'sklearn.cluster._dbscan', 'sklearn.cluster._optics', 'sklearn.cluster._bicluster', 'sklearn.cluster._birch', 'sklearn.cluster', 'sklearn.feature_extraction._dict_vectorizer', 'sklearn.feature_extraction._hashing_fast', 'sklearn.feature_extraction._hash', 'sklearn.feature_extraction.image', 'sklearn.feature_extraction._stop_words', 'sklearn.feature_extraction.text', 'sklearn.feature_extraction', 'librosa.segment', 'librosa.decompose', 'librosa.effects', 'librosa', 'mel_processing', 'data_utils', 'infer_pack.transforms', 'infer_pack.modules', 'infer_pack.attentions', 'infer_pack.models', 'losses', 'multiprocessing.popen_fork', 'multiprocessing.popen_spawn_posix', 'torch.mps', 'matplotlib', 'matplotlib._api.deprecation', 'matplotlib._api', 'matplotlib._version', 'matplotlib._c_internal_utils', 'matplotlib.cbook', 'matplotlib.docstring', 'PIL._version', 'PIL', 'defusedxml.common', 'defusedxml', '_elementtree', 'xml.etree.ElementTree', 'defusedxml.ElementTree', 'PIL.ExifTags', 'PIL.ImageMode', 'PIL.TiffTags', 'PIL._binary', 'PIL._util', 'PIL._imaging', 'cffi.lock', 'cffi.error', 'cffi.model', 'cffi.api', 'cffi', 'PIL.Image', 'PIL.ImageChops', 'PIL.ImageFile', 'PIL.GimpGradientFile', 'PIL.GimpPaletteFile', 'PIL.ImageColor', 'PIL.PaletteFile', 'PIL.ImagePalette', 'PIL.ImageSequence', 'PIL.PngImagePlugin', 'matplotlib._path', 'matplotlib.bezier', 'matplotlib.path', 'matplotlib.transforms', 'matplotlib.ticker', 'matplotlib.scale', 'matplotlib._color_data', 'matplotlib.colors', 'pyparsing.util', 'pyparsing.unicode', 'pyparsing.exceptions', 'pyparsing.actions', 'pyparsing.results', 'pyparsing.core', 'pyparsing.helpers', 'pyparsing.testing', 'pyparsing.common', 'pyparsing', 'matplotlib.fontconfig_pattern', 'matplotlib._enums', 'cycler', 'matplotlib.rcsetup', 'matplotlib.ft2font', 'kiwisolver._cext', 'kiwisolver', 'encodings.ascii']\n",
      "INFO:torch.nn.parallel.distributed:Reducer buckets have been rebuilt in this iteration.\n",
      "INFO:jw:====> Epoch: 1\n",
      "INFO:jw:====> Epoch: 2\n",
      "INFO:jw:Train Epoch: 3 [50%]\n",
      "INFO:jw:[200, 9.99750015625e-05]\n",
      "INFO:jw:loss_disc=3.348, loss_gen=3.161, loss_fm=5.273,loss_mel=23.629, loss_kl=1.952\n",
      "INFO:jw:====> Epoch: 3\n",
      "INFO:jw:====> Epoch: 4\n",
      "INFO:jw:Saving model and optimizer state at epoch 5 to ./logs/jw/G_400.pth\n",
      "INFO:jw:Saving model and optimizer state at epoch 5 to ./logs/jw/D_400.pth\n",
      "INFO:jw:====> Epoch: 5\n",
      "INFO:jw:Train Epoch: 6 [0%]\n",
      "INFO:jw:[400, 9.993751562304699e-05]\n",
      "INFO:jw:loss_disc=2.835, loss_gen=2.954, loss_fm=6.227,loss_mel=23.924, loss_kl=2.224\n",
      "INFO:jw:====> Epoch: 6\n",
      "INFO:jw:====> Epoch: 7\n",
      "INFO:jw:Train Epoch: 8 [50%]\n",
      "INFO:jw:[600, 9.991253280566489e-05]\n",
      "INFO:jw:loss_disc=2.681, loss_gen=3.316, loss_fm=8.090,loss_mel=25.457, loss_kl=1.910\n",
      "INFO:jw:====> Epoch: 8\n",
      "INFO:jw:====> Epoch: 9\n",
      "INFO:jw:Saving model and optimizer state at epoch 10 to ./logs/jw/G_800.pth\n",
      "INFO:jw:Saving model and optimizer state at epoch 10 to ./logs/jw/D_800.pth\n",
      "INFO:jw:====> Epoch: 10\n",
      "INFO:jw:Train Epoch: 11 [0%]\n",
      "INFO:jw:[800, 9.987507028906759e-05]\n",
      "INFO:jw:loss_disc=2.699, loss_gen=3.029, loss_fm=8.587,loss_mel=23.489, loss_kl=1.807\n",
      "INFO:jw:====> Epoch: 11\n",
      "INFO:jw:====> Epoch: 12\n",
      "INFO:jw:Train Epoch: 13 [50%]\n",
      "INFO:jw:[1000, 9.98501030820433e-05]\n",
      "INFO:jw:loss_disc=2.602, loss_gen=3.444, loss_fm=8.986,loss_mel=25.346, loss_kl=0.984\n",
      "INFO:jw:====> Epoch: 13\n",
      "INFO:jw:====> Epoch: 14\n",
      "INFO:jw:Saving model and optimizer state at epoch 15 to ./logs/jw/G_1200.pth\n",
      "INFO:jw:Saving model and optimizer state at epoch 15 to ./logs/jw/D_1200.pth\n",
      "INFO:jw:====> Epoch: 15\n",
      "INFO:jw:Train Epoch: 16 [0%]\n",
      "INFO:jw:[1200, 9.981266397366609e-05]\n",
      "INFO:jw:loss_disc=2.943, loss_gen=2.714, loss_fm=6.769,loss_mel=22.638, loss_kl=1.782\n",
      "INFO:jw:====> Epoch: 16\n",
      "INFO:jw:====> Epoch: 17\n",
      "INFO:jw:Train Epoch: 18 [50%]\n",
      "INFO:jw:[1400, 9.978771236724554e-05]\n",
      "INFO:jw:loss_disc=2.327, loss_gen=3.301, loss_fm=10.049,loss_mel=24.419, loss_kl=1.452\n",
      "INFO:jw:====> Epoch: 18\n",
      "INFO:jw:====> Epoch: 19\n",
      "INFO:jw:Saving model and optimizer state at epoch 20 to ./logs/jw/G_1600.pth\n",
      "INFO:jw:Saving model and optimizer state at epoch 20 to ./logs/jw/D_1600.pth\n",
      "INFO:jw:====> Epoch: 20\n",
      "INFO:jw:Train Epoch: 21 [0%]\n",
      "INFO:jw:[1600, 9.975029665246193e-05]\n",
      "INFO:jw:loss_disc=2.599, loss_gen=3.096, loss_fm=7.733,loss_mel=24.290, loss_kl=1.278\n",
      "INFO:jw:====> Epoch: 21\n",
      "INFO:jw:====> Epoch: 22\n",
      "INFO:jw:Train Epoch: 23 [50%]\n",
      "INFO:jw:[1800, 9.972536063689719e-05]\n",
      "INFO:jw:loss_disc=2.861, loss_gen=3.284, loss_fm=7.849,loss_mel=24.767, loss_kl=1.700\n",
      "INFO:jw:====> Epoch: 23\n",
      "INFO:jw:====> Epoch: 24\n",
      "INFO:jw:Saving model and optimizer state at epoch 25 to ./logs/jw/G_2000.pth\n",
      "INFO:jw:Saving model and optimizer state at epoch 25 to ./logs/jw/D_2000.pth\n",
      "INFO:jw:====> Epoch: 25\n",
      "INFO:jw:Train Epoch: 26 [0%]\n",
      "INFO:jw:[2000, 9.968796830108985e-05]\n",
      "INFO:jw:loss_disc=2.457, loss_gen=3.404, loss_fm=7.743,loss_mel=23.278, loss_kl=1.481\n",
      "INFO:jw:====> Epoch: 26\n",
      "INFO:jw:====> Epoch: 27\n",
      "INFO:jw:Train Epoch: 28 [50%]\n",
      "INFO:jw:[2200, 9.966304786663908e-05]\n",
      "INFO:jw:loss_disc=2.618, loss_gen=3.013, loss_fm=8.205,loss_mel=23.107, loss_kl=1.647\n",
      "INFO:jw:====> Epoch: 28\n",
      "INFO:jw:====> Epoch: 29\n",
      "INFO:jw:Saving model and optimizer state at epoch 30 to ./logs/jw/G_2400.pth\n",
      "INFO:jw:Saving model and optimizer state at epoch 30 to ./logs/jw/D_2400.pth\n",
      "INFO:jw:====> Epoch: 30\n",
      "INFO:jw:Train Epoch: 31 [0%]\n",
      "INFO:jw:[2400, 9.962567889519979e-05]\n",
      "INFO:jw:loss_disc=2.701, loss_gen=3.083, loss_fm=8.179,loss_mel=23.579, loss_kl=1.571\n",
      "INFO:jw:====> Epoch: 31\n",
      "INFO:jw:====> Epoch: 32\n",
      "INFO:jw:Train Epoch: 33 [50%]\n",
      "INFO:jw:[2600, 9.960077403212722e-05]\n",
      "INFO:jw:loss_disc=2.910, loss_gen=3.132, loss_fm=6.691,loss_mel=21.906, loss_kl=1.826\n",
      "INFO:jw:====> Epoch: 33\n",
      "INFO:jw:====> Epoch: 34\n",
      "INFO:jw:Saving model and optimizer state at epoch 35 to ./logs/jw/G_2800.pth\n",
      "INFO:jw:Saving model and optimizer state at epoch 35 to ./logs/jw/D_2800.pth\n",
      "INFO:jw:====> Epoch: 35\n",
      "INFO:jw:Train Epoch: 36 [0%]\n",
      "INFO:jw:[2800, 9.956342841045691e-05]\n",
      "INFO:jw:loss_disc=2.610, loss_gen=2.811, loss_fm=8.503,loss_mel=23.354, loss_kl=1.550\n",
      "INFO:jw:====> Epoch: 36\n",
      "INFO:jw:====> Epoch: 37\n",
      "INFO:jw:Train Epoch: 38 [50%]\n",
      "INFO:jw:[3000, 9.953853910903285e-05]\n",
      "INFO:jw:loss_disc=2.670, loss_gen=3.072, loss_fm=8.697,loss_mel=23.580, loss_kl=1.620\n",
      "INFO:jw:====> Epoch: 38\n",
      "INFO:jw:====> Epoch: 39\n",
      "INFO:jw:Saving model and optimizer state at epoch 40 to ./logs/jw/G_3200.pth\n",
      "INFO:jw:Saving model and optimizer state at epoch 40 to ./logs/jw/D_3200.pth\n",
      "INFO:jw:====> Epoch: 40\n",
      "INFO:jw:Train Epoch: 41 [0%]\n",
      "INFO:jw:[3200, 9.950121682254156e-05]\n",
      "INFO:jw:loss_disc=2.335, loss_gen=3.175, loss_fm=9.141,loss_mel=23.599, loss_kl=1.206\n",
      "INFO:jw:====> Epoch: 41\n",
      "INFO:jw:====> Epoch: 42\n",
      "INFO:jw:Train Epoch: 43 [50%]\n",
      "INFO:jw:[3400, 9.947634307304244e-05]\n",
      "INFO:jw:loss_disc=2.776, loss_gen=3.341, loss_fm=7.862,loss_mel=22.912, loss_kl=1.579\n",
      "INFO:jw:====> Epoch: 43\n",
      "INFO:jw:====> Epoch: 44\n",
      "INFO:jw:Saving model and optimizer state at epoch 45 to ./logs/jw/G_3600.pth\n",
      "INFO:jw:Saving model and optimizer state at epoch 45 to ./logs/jw/D_3600.pth\n",
      "INFO:jw:====> Epoch: 45\n",
      "INFO:jw:Train Epoch: 46 [0%]\n",
      "INFO:jw:[3600, 9.943904410714931e-05]\n",
      "INFO:jw:loss_disc=2.726, loss_gen=3.202, loss_fm=7.908,loss_mel=22.185, loss_kl=1.269\n",
      "INFO:jw:====> Epoch: 46\n",
      "INFO:jw:====> Epoch: 47\n",
      "INFO:jw:Train Epoch: 48 [50%]\n",
      "INFO:jw:[3800, 9.941418589985758e-05]\n",
      "INFO:jw:loss_disc=2.537, loss_gen=3.212, loss_fm=10.699,loss_mel=24.204, loss_kl=0.552\n",
      "INFO:jw:====> Epoch: 48\n",
      "INFO:jw:====> Epoch: 49\n",
      "INFO:jw:Saving model and optimizer state at epoch 50 to ./logs/jw/G_4000.pth\n",
      "INFO:jw:Saving model and optimizer state at epoch 50 to ./logs/jw/D_4000.pth\n",
      "INFO:jw:====> Epoch: 50\n",
      "INFO:jw:Training is done. The program is closed.\n",
      "INFO:jw:saving final ckpt:Success.\n",
      "Traceback (most recent call last):\n",
      "  File \"/root/Ankit/train_voices/Retrieval-based-Voice-Conversion-WebUI/train_nsf_sim_cache_sid_load_pretrain.py\", line 534, in <module>\n",
      "    main()\n",
      "  File \"/root/Ankit/train_voices/Retrieval-based-Voice-Conversion-WebUI/train_nsf_sim_cache_sid_load_pretrain.py\", line 50, in main\n",
      "    mp.spawn(\n",
      "  File \"/opt/conda/lib/python3.10/site-packages/torch/multiprocessing/spawn.py\", line 239, in spawn\n",
      "    return start_processes(fn, args, nprocs, join, daemon, start_method='spawn')\n",
      "  File \"/opt/conda/lib/python3.10/site-packages/torch/multiprocessing/spawn.py\", line 197, in start_processes\n",
      "    while not context.join():\n",
      "  File \"/opt/conda/lib/python3.10/site-packages/torch/multiprocessing/spawn.py\", line 149, in join\n",
      "    raise ProcessExitedException(\n",
      "torch.multiprocessing.spawn.ProcessExitedException: process 0 terminated with exit code 149\n",
      "2023-09-04 10:54:22 | INFO | httpx | HTTP Request: POST http://127.0.0.1:7861/api/predict \"HTTP/1.1 200 OK\"\n",
      "2023-09-04 10:54:22 | INFO | httpx | HTTP Request: POST http://127.0.0.1:7861/reset \"HTTP/1.1 200 OK\"\n",
      "/opt/conda/lib/python3.10/multiprocessing/resource_tracker.py:224: UserWarning: resource_tracker: There appear to be 20 leaked semaphore objects to clean up at shutdown\n",
      "  warnings.warn('resource_tracker: There appear to be %d '\n",
      "^C\n",
      "Keyboard interruption in main thread... closing server.\n",
      "Killing tunnel 127.0.0.1:7861 <> https://2df73f63-4f9a-4c3f.gradio.live\n"
     ]
    }
   ],
   "source": [
    "#@title Run Web\n",
    "%cd /root/Ankit/train_voices/Retrieval-based-Voice-Conversion-WebUI\n",
    "%load_ext tensorboard\n",
    "%tensorboard --logdir /root/Ankit/train_voices/Retrieval-based-Voice-Conversion-WebUI/logs\n",
    "!python3 infer-web.py --colab --pycmd python3"
   ]
  },
  {
   "cell_type": "code",
   "execution_count": 24,
   "metadata": {
    "tags": []
   },
   "outputs": [
    {
     "data": {
      "text/plain": [
       "{'jw'}"
      ]
     },
     "execution_count": 24,
     "metadata": {},
     "output_type": "execute_result"
    }
   ],
   "source": [
    "MODELNAME = \"jw\"\n",
    "{MODELNAME}"
   ]
  },
  {
   "cell_type": "code",
   "execution_count": 26,
   "metadata": {
    "id": "FgJuNeAwx5Y_",
    "tags": []
   },
   "outputs": [
    {
     "name": "stdout",
     "output_type": "stream",
     "text": [
      "copy done\n"
     ]
    }
   ],
   "source": [
    "#@title Copy Training Result to Drive\n",
    "if mode == \"training\":\n",
    "  !mkdir -p /root/Ankit/RVC/{MODELNAME}\n",
    "  !mkdir -p /root/Ankit/RVC/weights\n",
    "\n",
    "  !cp /root/Ankit/train_voices/Retrieval-based-Voice-Conversion-WebUI/logs/{MODELNAME}/G_*.pth /root/Ankit/RVC/{MODELNAME}\n",
    "  !cp /root/Ankit/train_voices/Retrieval-based-Voice-Conversion-WebUI/logs/{MODELNAME}/D_*.pth /root/Ankit/RVC/{MODELNAME}\n",
    "  !cp /root/Ankit/train_voices/Retrieval-based-Voice-Conversion-WebUI/logs/{MODELNAME}/added_*.index /root/Ankit/RVC/{MODELNAME}\n",
    "  !cp /root/Ankit/train_voices/Retrieval-based-Voice-Conversion-WebUI/logs/{MODELNAME}/trained*.index /root/Ankit/RVC/{MODELNAME}\n",
    "  !cp /root/Ankit/train_voices/Retrieval-based-Voice-Conversion-WebUI/logs/{MODELNAME}/total_*.npy /root/Ankit/RVC/{MODELNAME}\n",
    "\n",
    "  !cp /root/Ankit/train_voices/Retrieval-based-Voice-Conversion-WebUI/weights/{MODELNAME}.pth /root/Ankit/RVC/{MODELNAME}.pth\n",
    "  print(\"copy done\")\n",
    "elif mode == \"inference\":\n",
    "  print(\"Mode set to inference. Skipping this section\")"
   ]
  },
  {
   "cell_type": "code",
   "execution_count": 30,
   "metadata": {
    "tags": []
   },
   "outputs": [
    {
     "name": "stdout",
     "output_type": "stream",
     "text": [
      "tar: Removing leading `/' from member names\n",
      "/root/Ankit/RVC/\n",
      "/root/Ankit/RVC/jw/\n",
      "/root/Ankit/RVC/jw/D_1200.pth\n",
      "/root/Ankit/RVC/jw/G_800.pth\n",
      "/root/Ankit/RVC/jw/G_400.pth\n",
      "/root/Ankit/RVC/jw/total_fea.npy\n",
      "/root/Ankit/RVC/jw/D_1600.pth\n",
      "/root/Ankit/RVC/jw/G_4000.pth\n",
      "/root/Ankit/RVC/jw/trained_IVF1759_Flat_nprobe_1.index\n",
      "/root/Ankit/RVC/jw/G_2000.pth\n",
      "/root/Ankit/RVC/jw/D_3200.pth\n",
      "/root/Ankit/RVC/jw/G_2800.pth\n",
      "/root/Ankit/RVC/jw/D_3600.pth\n",
      "/root/Ankit/RVC/jw/G_2400.pth\n",
      "/root/Ankit/RVC/jw/D_4000.pth\n",
      "/root/Ankit/RVC/jw/D_400.pth\n",
      "/root/Ankit/RVC/jw/G_3600.pth\n",
      "/root/Ankit/RVC/jw/G_3200.pth\n",
      "/root/Ankit/RVC/jw/D_800.pth\n",
      "/root/Ankit/RVC/jw/added_IVF1759_Flat_nprobe_1.index\n",
      "/root/Ankit/RVC/jw/G_1200.pth\n",
      "/root/Ankit/RVC/jw/D_2400.pth\n",
      "/root/Ankit/RVC/jw/D_2800.pth\n",
      "/root/Ankit/RVC/jw/G_1600.pth\n",
      "/root/Ankit/RVC/jw/D_2000.pth\n",
      "/root/Ankit/RVC/jw.pth\n",
      "/root/Ankit/RVC/weights/\n"
     ]
    }
   ],
   "source": [
    "!cd /root/Ankit/\n",
    "!tar cvzf jw.tar.gz /root/Ankit/RVC/"
   ]
  },
  {
   "cell_type": "code",
   "execution_count": 31,
   "metadata": {
    "tags": []
   },
   "outputs": [
    {
     "name": "stdout",
     "output_type": "stream",
     "text": [
      "/root/Ankit/train_voices/Retrieval-based-Voice-Conversion-WebUI\n"
     ]
    }
   ],
   "source": [
    "!pwd"
   ]
  },
  {
   "cell_type": "code",
   "execution_count": null,
   "metadata": {},
   "outputs": [],
   "source": []
  }
 ],
 "metadata": {
  "accelerator": "GPU",
  "availableInstances": [
   {
    "_defaultOrder": 0,
    "_isFastLaunch": true,
    "category": "General purpose",
    "gpuNum": 0,
    "hideHardwareSpecs": false,
    "memoryGiB": 4,
    "name": "ml.t3.medium",
    "vcpuNum": 2
   },
   {
    "_defaultOrder": 1,
    "_isFastLaunch": false,
    "category": "General purpose",
    "gpuNum": 0,
    "hideHardwareSpecs": false,
    "memoryGiB": 8,
    "name": "ml.t3.large",
    "vcpuNum": 2
   },
   {
    "_defaultOrder": 2,
    "_isFastLaunch": false,
    "category": "General purpose",
    "gpuNum": 0,
    "hideHardwareSpecs": false,
    "memoryGiB": 16,
    "name": "ml.t3.xlarge",
    "vcpuNum": 4
   },
   {
    "_defaultOrder": 3,
    "_isFastLaunch": false,
    "category": "General purpose",
    "gpuNum": 0,
    "hideHardwareSpecs": false,
    "memoryGiB": 32,
    "name": "ml.t3.2xlarge",
    "vcpuNum": 8
   },
   {
    "_defaultOrder": 4,
    "_isFastLaunch": true,
    "category": "General purpose",
    "gpuNum": 0,
    "hideHardwareSpecs": false,
    "memoryGiB": 8,
    "name": "ml.m5.large",
    "vcpuNum": 2
   },
   {
    "_defaultOrder": 5,
    "_isFastLaunch": false,
    "category": "General purpose",
    "gpuNum": 0,
    "hideHardwareSpecs": false,
    "memoryGiB": 16,
    "name": "ml.m5.xlarge",
    "vcpuNum": 4
   },
   {
    "_defaultOrder": 6,
    "_isFastLaunch": false,
    "category": "General purpose",
    "gpuNum": 0,
    "hideHardwareSpecs": false,
    "memoryGiB": 32,
    "name": "ml.m5.2xlarge",
    "vcpuNum": 8
   },
   {
    "_defaultOrder": 7,
    "_isFastLaunch": false,
    "category": "General purpose",
    "gpuNum": 0,
    "hideHardwareSpecs": false,
    "memoryGiB": 64,
    "name": "ml.m5.4xlarge",
    "vcpuNum": 16
   },
   {
    "_defaultOrder": 8,
    "_isFastLaunch": false,
    "category": "General purpose",
    "gpuNum": 0,
    "hideHardwareSpecs": false,
    "memoryGiB": 128,
    "name": "ml.m5.8xlarge",
    "vcpuNum": 32
   },
   {
    "_defaultOrder": 9,
    "_isFastLaunch": false,
    "category": "General purpose",
    "gpuNum": 0,
    "hideHardwareSpecs": false,
    "memoryGiB": 192,
    "name": "ml.m5.12xlarge",
    "vcpuNum": 48
   },
   {
    "_defaultOrder": 10,
    "_isFastLaunch": false,
    "category": "General purpose",
    "gpuNum": 0,
    "hideHardwareSpecs": false,
    "memoryGiB": 256,
    "name": "ml.m5.16xlarge",
    "vcpuNum": 64
   },
   {
    "_defaultOrder": 11,
    "_isFastLaunch": false,
    "category": "General purpose",
    "gpuNum": 0,
    "hideHardwareSpecs": false,
    "memoryGiB": 384,
    "name": "ml.m5.24xlarge",
    "vcpuNum": 96
   },
   {
    "_defaultOrder": 12,
    "_isFastLaunch": false,
    "category": "General purpose",
    "gpuNum": 0,
    "hideHardwareSpecs": false,
    "memoryGiB": 8,
    "name": "ml.m5d.large",
    "vcpuNum": 2
   },
   {
    "_defaultOrder": 13,
    "_isFastLaunch": false,
    "category": "General purpose",
    "gpuNum": 0,
    "hideHardwareSpecs": false,
    "memoryGiB": 16,
    "name": "ml.m5d.xlarge",
    "vcpuNum": 4
   },
   {
    "_defaultOrder": 14,
    "_isFastLaunch": false,
    "category": "General purpose",
    "gpuNum": 0,
    "hideHardwareSpecs": false,
    "memoryGiB": 32,
    "name": "ml.m5d.2xlarge",
    "vcpuNum": 8
   },
   {
    "_defaultOrder": 15,
    "_isFastLaunch": false,
    "category": "General purpose",
    "gpuNum": 0,
    "hideHardwareSpecs": false,
    "memoryGiB": 64,
    "name": "ml.m5d.4xlarge",
    "vcpuNum": 16
   },
   {
    "_defaultOrder": 16,
    "_isFastLaunch": false,
    "category": "General purpose",
    "gpuNum": 0,
    "hideHardwareSpecs": false,
    "memoryGiB": 128,
    "name": "ml.m5d.8xlarge",
    "vcpuNum": 32
   },
   {
    "_defaultOrder": 17,
    "_isFastLaunch": false,
    "category": "General purpose",
    "gpuNum": 0,
    "hideHardwareSpecs": false,
    "memoryGiB": 192,
    "name": "ml.m5d.12xlarge",
    "vcpuNum": 48
   },
   {
    "_defaultOrder": 18,
    "_isFastLaunch": false,
    "category": "General purpose",
    "gpuNum": 0,
    "hideHardwareSpecs": false,
    "memoryGiB": 256,
    "name": "ml.m5d.16xlarge",
    "vcpuNum": 64
   },
   {
    "_defaultOrder": 19,
    "_isFastLaunch": false,
    "category": "General purpose",
    "gpuNum": 0,
    "hideHardwareSpecs": false,
    "memoryGiB": 384,
    "name": "ml.m5d.24xlarge",
    "vcpuNum": 96
   },
   {
    "_defaultOrder": 20,
    "_isFastLaunch": false,
    "category": "General purpose",
    "gpuNum": 0,
    "hideHardwareSpecs": true,
    "memoryGiB": 0,
    "name": "ml.geospatial.interactive",
    "supportedImageNames": [
     "sagemaker-geospatial-v1-0"
    ],
    "vcpuNum": 0
   },
   {
    "_defaultOrder": 21,
    "_isFastLaunch": true,
    "category": "Compute optimized",
    "gpuNum": 0,
    "hideHardwareSpecs": false,
    "memoryGiB": 4,
    "name": "ml.c5.large",
    "vcpuNum": 2
   },
   {
    "_defaultOrder": 22,
    "_isFastLaunch": false,
    "category": "Compute optimized",
    "gpuNum": 0,
    "hideHardwareSpecs": false,
    "memoryGiB": 8,
    "name": "ml.c5.xlarge",
    "vcpuNum": 4
   },
   {
    "_defaultOrder": 23,
    "_isFastLaunch": false,
    "category": "Compute optimized",
    "gpuNum": 0,
    "hideHardwareSpecs": false,
    "memoryGiB": 16,
    "name": "ml.c5.2xlarge",
    "vcpuNum": 8
   },
   {
    "_defaultOrder": 24,
    "_isFastLaunch": false,
    "category": "Compute optimized",
    "gpuNum": 0,
    "hideHardwareSpecs": false,
    "memoryGiB": 32,
    "name": "ml.c5.4xlarge",
    "vcpuNum": 16
   },
   {
    "_defaultOrder": 25,
    "_isFastLaunch": false,
    "category": "Compute optimized",
    "gpuNum": 0,
    "hideHardwareSpecs": false,
    "memoryGiB": 72,
    "name": "ml.c5.9xlarge",
    "vcpuNum": 36
   },
   {
    "_defaultOrder": 26,
    "_isFastLaunch": false,
    "category": "Compute optimized",
    "gpuNum": 0,
    "hideHardwareSpecs": false,
    "memoryGiB": 96,
    "name": "ml.c5.12xlarge",
    "vcpuNum": 48
   },
   {
    "_defaultOrder": 27,
    "_isFastLaunch": false,
    "category": "Compute optimized",
    "gpuNum": 0,
    "hideHardwareSpecs": false,
    "memoryGiB": 144,
    "name": "ml.c5.18xlarge",
    "vcpuNum": 72
   },
   {
    "_defaultOrder": 28,
    "_isFastLaunch": false,
    "category": "Compute optimized",
    "gpuNum": 0,
    "hideHardwareSpecs": false,
    "memoryGiB": 192,
    "name": "ml.c5.24xlarge",
    "vcpuNum": 96
   },
   {
    "_defaultOrder": 29,
    "_isFastLaunch": true,
    "category": "Accelerated computing",
    "gpuNum": 1,
    "hideHardwareSpecs": false,
    "memoryGiB": 16,
    "name": "ml.g4dn.xlarge",
    "vcpuNum": 4
   },
   {
    "_defaultOrder": 30,
    "_isFastLaunch": false,
    "category": "Accelerated computing",
    "gpuNum": 1,
    "hideHardwareSpecs": false,
    "memoryGiB": 32,
    "name": "ml.g4dn.2xlarge",
    "vcpuNum": 8
   },
   {
    "_defaultOrder": 31,
    "_isFastLaunch": false,
    "category": "Accelerated computing",
    "gpuNum": 1,
    "hideHardwareSpecs": false,
    "memoryGiB": 64,
    "name": "ml.g4dn.4xlarge",
    "vcpuNum": 16
   },
   {
    "_defaultOrder": 32,
    "_isFastLaunch": false,
    "category": "Accelerated computing",
    "gpuNum": 1,
    "hideHardwareSpecs": false,
    "memoryGiB": 128,
    "name": "ml.g4dn.8xlarge",
    "vcpuNum": 32
   },
   {
    "_defaultOrder": 33,
    "_isFastLaunch": false,
    "category": "Accelerated computing",
    "gpuNum": 4,
    "hideHardwareSpecs": false,
    "memoryGiB": 192,
    "name": "ml.g4dn.12xlarge",
    "vcpuNum": 48
   },
   {
    "_defaultOrder": 34,
    "_isFastLaunch": false,
    "category": "Accelerated computing",
    "gpuNum": 1,
    "hideHardwareSpecs": false,
    "memoryGiB": 256,
    "name": "ml.g4dn.16xlarge",
    "vcpuNum": 64
   },
   {
    "_defaultOrder": 35,
    "_isFastLaunch": false,
    "category": "Accelerated computing",
    "gpuNum": 1,
    "hideHardwareSpecs": false,
    "memoryGiB": 61,
    "name": "ml.p3.2xlarge",
    "vcpuNum": 8
   },
   {
    "_defaultOrder": 36,
    "_isFastLaunch": false,
    "category": "Accelerated computing",
    "gpuNum": 4,
    "hideHardwareSpecs": false,
    "memoryGiB": 244,
    "name": "ml.p3.8xlarge",
    "vcpuNum": 32
   },
   {
    "_defaultOrder": 37,
    "_isFastLaunch": false,
    "category": "Accelerated computing",
    "gpuNum": 8,
    "hideHardwareSpecs": false,
    "memoryGiB": 488,
    "name": "ml.p3.16xlarge",
    "vcpuNum": 64
   },
   {
    "_defaultOrder": 38,
    "_isFastLaunch": false,
    "category": "Accelerated computing",
    "gpuNum": 8,
    "hideHardwareSpecs": false,
    "memoryGiB": 768,
    "name": "ml.p3dn.24xlarge",
    "vcpuNum": 96
   },
   {
    "_defaultOrder": 39,
    "_isFastLaunch": false,
    "category": "Memory Optimized",
    "gpuNum": 0,
    "hideHardwareSpecs": false,
    "memoryGiB": 16,
    "name": "ml.r5.large",
    "vcpuNum": 2
   },
   {
    "_defaultOrder": 40,
    "_isFastLaunch": false,
    "category": "Memory Optimized",
    "gpuNum": 0,
    "hideHardwareSpecs": false,
    "memoryGiB": 32,
    "name": "ml.r5.xlarge",
    "vcpuNum": 4
   },
   {
    "_defaultOrder": 41,
    "_isFastLaunch": false,
    "category": "Memory Optimized",
    "gpuNum": 0,
    "hideHardwareSpecs": false,
    "memoryGiB": 64,
    "name": "ml.r5.2xlarge",
    "vcpuNum": 8
   },
   {
    "_defaultOrder": 42,
    "_isFastLaunch": false,
    "category": "Memory Optimized",
    "gpuNum": 0,
    "hideHardwareSpecs": false,
    "memoryGiB": 128,
    "name": "ml.r5.4xlarge",
    "vcpuNum": 16
   },
   {
    "_defaultOrder": 43,
    "_isFastLaunch": false,
    "category": "Memory Optimized",
    "gpuNum": 0,
    "hideHardwareSpecs": false,
    "memoryGiB": 256,
    "name": "ml.r5.8xlarge",
    "vcpuNum": 32
   },
   {
    "_defaultOrder": 44,
    "_isFastLaunch": false,
    "category": "Memory Optimized",
    "gpuNum": 0,
    "hideHardwareSpecs": false,
    "memoryGiB": 384,
    "name": "ml.r5.12xlarge",
    "vcpuNum": 48
   },
   {
    "_defaultOrder": 45,
    "_isFastLaunch": false,
    "category": "Memory Optimized",
    "gpuNum": 0,
    "hideHardwareSpecs": false,
    "memoryGiB": 512,
    "name": "ml.r5.16xlarge",
    "vcpuNum": 64
   },
   {
    "_defaultOrder": 46,
    "_isFastLaunch": false,
    "category": "Memory Optimized",
    "gpuNum": 0,
    "hideHardwareSpecs": false,
    "memoryGiB": 768,
    "name": "ml.r5.24xlarge",
    "vcpuNum": 96
   },
   {
    "_defaultOrder": 47,
    "_isFastLaunch": false,
    "category": "Accelerated computing",
    "gpuNum": 1,
    "hideHardwareSpecs": false,
    "memoryGiB": 16,
    "name": "ml.g5.xlarge",
    "vcpuNum": 4
   },
   {
    "_defaultOrder": 48,
    "_isFastLaunch": false,
    "category": "Accelerated computing",
    "gpuNum": 1,
    "hideHardwareSpecs": false,
    "memoryGiB": 32,
    "name": "ml.g5.2xlarge",
    "vcpuNum": 8
   },
   {
    "_defaultOrder": 49,
    "_isFastLaunch": false,
    "category": "Accelerated computing",
    "gpuNum": 1,
    "hideHardwareSpecs": false,
    "memoryGiB": 64,
    "name": "ml.g5.4xlarge",
    "vcpuNum": 16
   },
   {
    "_defaultOrder": 50,
    "_isFastLaunch": false,
    "category": "Accelerated computing",
    "gpuNum": 1,
    "hideHardwareSpecs": false,
    "memoryGiB": 128,
    "name": "ml.g5.8xlarge",
    "vcpuNum": 32
   },
   {
    "_defaultOrder": 51,
    "_isFastLaunch": false,
    "category": "Accelerated computing",
    "gpuNum": 1,
    "hideHardwareSpecs": false,
    "memoryGiB": 256,
    "name": "ml.g5.16xlarge",
    "vcpuNum": 64
   },
   {
    "_defaultOrder": 52,
    "_isFastLaunch": false,
    "category": "Accelerated computing",
    "gpuNum": 4,
    "hideHardwareSpecs": false,
    "memoryGiB": 192,
    "name": "ml.g5.12xlarge",
    "vcpuNum": 48
   },
   {
    "_defaultOrder": 53,
    "_isFastLaunch": false,
    "category": "Accelerated computing",
    "gpuNum": 4,
    "hideHardwareSpecs": false,
    "memoryGiB": 384,
    "name": "ml.g5.24xlarge",
    "vcpuNum": 96
   },
   {
    "_defaultOrder": 54,
    "_isFastLaunch": false,
    "category": "Accelerated computing",
    "gpuNum": 8,
    "hideHardwareSpecs": false,
    "memoryGiB": 768,
    "name": "ml.g5.48xlarge",
    "vcpuNum": 192
   },
   {
    "_defaultOrder": 55,
    "_isFastLaunch": false,
    "category": "Accelerated computing",
    "gpuNum": 8,
    "hideHardwareSpecs": false,
    "memoryGiB": 1152,
    "name": "ml.p4d.24xlarge",
    "vcpuNum": 96
   },
   {
    "_defaultOrder": 56,
    "_isFastLaunch": false,
    "category": "Accelerated computing",
    "gpuNum": 8,
    "hideHardwareSpecs": false,
    "memoryGiB": 1152,
    "name": "ml.p4de.24xlarge",
    "vcpuNum": 96
   }
  ],
  "colab": {
   "gpuType": "T4",
   "private_outputs": true,
   "provenance": []
  },
  "instance_type": "ml.g4dn.xlarge",
  "kernelspec": {
   "display_name": "Python 3 (Data Science 3.0)",
   "language": "python",
   "name": "python3__SAGEMAKER_INTERNAL__arn:aws:sagemaker:us-east-1:081325390199:image/sagemaker-data-science-310-v1"
  },
  "language_info": {
   "codemirror_mode": {
    "name": "ipython",
    "version": 3
   },
   "file_extension": ".py",
   "mimetype": "text/x-python",
   "name": "python",
   "nbconvert_exporter": "python",
   "pygments_lexer": "ipython3",
   "version": "3.10.6"
  }
 },
 "nbformat": 4,
 "nbformat_minor": 4
}
